{
 "cells": [
  {
   "cell_type": "code",
   "execution_count": 1,
   "metadata": {},
   "outputs": [],
   "source": [
    "import pandas as pd"
   ]
  },
  {
   "cell_type": "code",
   "execution_count": 2,
   "metadata": {},
   "outputs": [
    {
     "data": {
      "text/html": [
       "<div>\n",
       "<style scoped>\n",
       "    .dataframe tbody tr th:only-of-type {\n",
       "        vertical-align: middle;\n",
       "    }\n",
       "\n",
       "    .dataframe tbody tr th {\n",
       "        vertical-align: top;\n",
       "    }\n",
       "\n",
       "    .dataframe thead th {\n",
       "        text-align: right;\n",
       "    }\n",
       "</style>\n",
       "<table border=\"1\" class=\"dataframe\">\n",
       "  <thead>\n",
       "    <tr style=\"text-align: right;\">\n",
       "      <th></th>\n",
       "      <th>Bait</th>\n",
       "      <th>Preys</th>\n",
       "      <th>PreyGene</th>\n",
       "      <th>MIST</th>\n",
       "      <th>Saint_BFDR</th>\n",
       "      <th>AvgSpec</th>\n",
       "      <th>FoldChange</th>\n",
       "      <th>Uniprot Protein ID</th>\n",
       "      <th>Uniprot Protein Description</th>\n",
       "      <th>Uniprot Function</th>\n",
       "      <th>Structures (PDB)</th>\n",
       "      <th>Uniprot Function in Disease</th>\n",
       "    </tr>\n",
       "  </thead>\n",
       "  <tbody>\n",
       "    <tr>\n",
       "      <th>0</th>\n",
       "      <td>SARS-CoV2 E</td>\n",
       "      <td>O00203</td>\n",
       "      <td>AP3B1</td>\n",
       "      <td>0.963550</td>\n",
       "      <td>0.00</td>\n",
       "      <td>4.67</td>\n",
       "      <td>46.67</td>\n",
       "      <td>AP3B1_HUMAN</td>\n",
       "      <td>AP-3 complex subunit beta-1 (Adaptor protein c...</td>\n",
       "      <td>Subunit of non-clathrin- and clathrin-associa...</td>\n",
       "      <td>NaN</td>\n",
       "      <td>Hermansky-Pudlak syndrome 2 (HPS2) [MIM:60823...</td>\n",
       "    </tr>\n",
       "    <tr>\n",
       "      <th>1</th>\n",
       "      <td>SARS-CoV2 E</td>\n",
       "      <td>O60885</td>\n",
       "      <td>BRD4</td>\n",
       "      <td>0.978488</td>\n",
       "      <td>0.00</td>\n",
       "      <td>2.67</td>\n",
       "      <td>26.67</td>\n",
       "      <td>BRD4_HUMAN</td>\n",
       "      <td>Bromodomain-containing protein 4 (Protein HUNK1)</td>\n",
       "      <td>Chromatin reader protein that recognizes and ...</td>\n",
       "      <td>2I8N;2LSP;2MJV;2N3K;2NCZ;2ND0;2ND1;2NNU;2OSS;2...</td>\n",
       "      <td>Note=A chromosomal aberration involving BRD4 ...</td>\n",
       "    </tr>\n",
       "    <tr>\n",
       "      <th>2</th>\n",
       "      <td>SARS-CoV2 E</td>\n",
       "      <td>P25440</td>\n",
       "      <td>BRD2</td>\n",
       "      <td>0.906593</td>\n",
       "      <td>0.00</td>\n",
       "      <td>7.00</td>\n",
       "      <td>70.00</td>\n",
       "      <td>BRD2_HUMAN</td>\n",
       "      <td>Bromodomain-containing protein 2 (O27.1.1) (Re...</td>\n",
       "      <td>May play a role in spermatogenesis or follicu...</td>\n",
       "      <td>1X0J;2DVQ;2DVR;2DVS;2DVV;2E3K;2G4A;2YDW;2YEK;3...</td>\n",
       "      <td>NaN</td>\n",
       "    </tr>\n",
       "    <tr>\n",
       "      <th>3</th>\n",
       "      <td>SARS-CoV2 E</td>\n",
       "      <td>Q6UX04</td>\n",
       "      <td>CWC27</td>\n",
       "      <td>0.893109</td>\n",
       "      <td>0.03</td>\n",
       "      <td>2.67</td>\n",
       "      <td>26.67</td>\n",
       "      <td>CWC27_HUMAN</td>\n",
       "      <td>Spliceosome-associated protein CWC27 homolog (...</td>\n",
       "      <td>As part of the spliceosome, plays a role in p...</td>\n",
       "      <td>2HQ6;4R3E;5Z56;5Z58;6FF4;6FF7</td>\n",
       "      <td>Retinitis pigmentosa with or without skeletal...</td>\n",
       "    </tr>\n",
       "    <tr>\n",
       "      <th>4</th>\n",
       "      <td>SARS-CoV2 E</td>\n",
       "      <td>Q86VM9</td>\n",
       "      <td>ZC3H18</td>\n",
       "      <td>0.796415</td>\n",
       "      <td>0.00</td>\n",
       "      <td>2.67</td>\n",
       "      <td>26.67</td>\n",
       "      <td>ZCH18_HUMAN</td>\n",
       "      <td>Zinc finger CCCH domain-containing protein 18 ...</td>\n",
       "      <td>NaN</td>\n",
       "      <td>NaN</td>\n",
       "      <td>NaN</td>\n",
       "    </tr>\n",
       "    <tr>\n",
       "      <th>...</th>\n",
       "      <td>...</td>\n",
       "      <td>...</td>\n",
       "      <td>...</td>\n",
       "      <td>...</td>\n",
       "      <td>...</td>\n",
       "      <td>...</td>\n",
       "      <td>...</td>\n",
       "      <td>...</td>\n",
       "      <td>...</td>\n",
       "      <td>...</td>\n",
       "      <td>...</td>\n",
       "      <td>...</td>\n",
       "    </tr>\n",
       "    <tr>\n",
       "      <th>327</th>\n",
       "      <td>SARS-CoV2 orf9c</td>\n",
       "      <td>Q9Y276</td>\n",
       "      <td>BCS1L</td>\n",
       "      <td>0.992310</td>\n",
       "      <td>0.00</td>\n",
       "      <td>35.00</td>\n",
       "      <td>350.00</td>\n",
       "      <td>BCS1_HUMAN</td>\n",
       "      <td>Mitochondrial chaperone BCS1 (h-BCS1) (BCS1-li...</td>\n",
       "      <td>Chaperone necessary for the assembly of mitoc...</td>\n",
       "      <td>NaN</td>\n",
       "      <td>GRACILE syndrome (GRACILE) [MIM:603358]: GRAC...</td>\n",
       "    </tr>\n",
       "    <tr>\n",
       "      <th>328</th>\n",
       "      <td>SARS-CoV2 orf9c</td>\n",
       "      <td>Q9Y375</td>\n",
       "      <td>NDUFAF1</td>\n",
       "      <td>0.762046</td>\n",
       "      <td>0.00</td>\n",
       "      <td>3.67</td>\n",
       "      <td>36.67</td>\n",
       "      <td>CIA30_HUMAN</td>\n",
       "      <td>Complex I intermediate-associated protein 30, ...</td>\n",
       "      <td>Chaperone protein involved in early stages of...</td>\n",
       "      <td>NaN</td>\n",
       "      <td>Mitochondrial complex I deficiency, nuclear t...</td>\n",
       "    </tr>\n",
       "    <tr>\n",
       "      <th>329</th>\n",
       "      <td>SARS-CoV2 orf9c</td>\n",
       "      <td>Q9Y3A6</td>\n",
       "      <td>TMED5</td>\n",
       "      <td>0.705393</td>\n",
       "      <td>0.05</td>\n",
       "      <td>2.00</td>\n",
       "      <td>20.00</td>\n",
       "      <td>TMED5_HUMAN</td>\n",
       "      <td>Transmembrane emp24 domain-containing protein ...</td>\n",
       "      <td>Potential role in vesicular protein trafficki...</td>\n",
       "      <td>NaN</td>\n",
       "      <td>NaN</td>\n",
       "    </tr>\n",
       "    <tr>\n",
       "      <th>330</th>\n",
       "      <td>SARS-CoV2 orf9c</td>\n",
       "      <td>Q9Y6M9</td>\n",
       "      <td>NDUFB9</td>\n",
       "      <td>0.966178</td>\n",
       "      <td>0.04</td>\n",
       "      <td>2.33</td>\n",
       "      <td>23.33</td>\n",
       "      <td>NDUB9_HUMAN</td>\n",
       "      <td>NADH dehydrogenase [ubiquinone] 1 beta subcomp...</td>\n",
       "      <td>Accessory subunit of the mitochondrial membra...</td>\n",
       "      <td>5XTC;5XTD;5XTH;5XTI</td>\n",
       "      <td>Mitochondrial complex I deficiency, nuclear t...</td>\n",
       "    </tr>\n",
       "    <tr>\n",
       "      <th>331</th>\n",
       "      <td>SARS-CoV2 orf9c</td>\n",
       "      <td>Q96S52</td>\n",
       "      <td>PIGS</td>\n",
       "      <td>0.647089</td>\n",
       "      <td>0.00</td>\n",
       "      <td>10.67</td>\n",
       "      <td>106.67</td>\n",
       "      <td>PIGS_HUMAN</td>\n",
       "      <td>GPI transamidase component PIG-S (Phosphatidyl...</td>\n",
       "      <td>Component of the GPI transamidase complex. Es...</td>\n",
       "      <td>NaN</td>\n",
       "      <td>Glycosylphosphatidylinositol biosynthesis def...</td>\n",
       "    </tr>\n",
       "  </tbody>\n",
       "</table>\n",
       "<p>332 rows × 12 columns</p>\n",
       "</div>"
      ],
      "text/plain": [
       "                Bait   Preys PreyGene      MIST  Saint_BFDR  AvgSpec  \\\n",
       "0        SARS-CoV2 E  O00203    AP3B1  0.963550        0.00     4.67   \n",
       "1        SARS-CoV2 E  O60885     BRD4  0.978488        0.00     2.67   \n",
       "2        SARS-CoV2 E  P25440     BRD2  0.906593        0.00     7.00   \n",
       "3        SARS-CoV2 E  Q6UX04    CWC27  0.893109        0.03     2.67   \n",
       "4        SARS-CoV2 E  Q86VM9   ZC3H18  0.796415        0.00     2.67   \n",
       "..               ...     ...      ...       ...         ...      ...   \n",
       "327  SARS-CoV2 orf9c  Q9Y276    BCS1L  0.992310        0.00    35.00   \n",
       "328  SARS-CoV2 orf9c  Q9Y375  NDUFAF1  0.762046        0.00     3.67   \n",
       "329  SARS-CoV2 orf9c  Q9Y3A6    TMED5  0.705393        0.05     2.00   \n",
       "330  SARS-CoV2 orf9c  Q9Y6M9   NDUFB9  0.966178        0.04     2.33   \n",
       "331  SARS-CoV2 orf9c  Q96S52     PIGS  0.647089        0.00    10.67   \n",
       "\n",
       "     FoldChange Uniprot Protein ID  \\\n",
       "0         46.67        AP3B1_HUMAN   \n",
       "1         26.67         BRD4_HUMAN   \n",
       "2         70.00         BRD2_HUMAN   \n",
       "3         26.67        CWC27_HUMAN   \n",
       "4         26.67        ZCH18_HUMAN   \n",
       "..          ...                ...   \n",
       "327      350.00         BCS1_HUMAN   \n",
       "328       36.67        CIA30_HUMAN   \n",
       "329       20.00        TMED5_HUMAN   \n",
       "330       23.33        NDUB9_HUMAN   \n",
       "331      106.67         PIGS_HUMAN   \n",
       "\n",
       "                           Uniprot Protein Description  \\\n",
       "0    AP-3 complex subunit beta-1 (Adaptor protein c...   \n",
       "1     Bromodomain-containing protein 4 (Protein HUNK1)   \n",
       "2    Bromodomain-containing protein 2 (O27.1.1) (Re...   \n",
       "3    Spliceosome-associated protein CWC27 homolog (...   \n",
       "4    Zinc finger CCCH domain-containing protein 18 ...   \n",
       "..                                                 ...   \n",
       "327  Mitochondrial chaperone BCS1 (h-BCS1) (BCS1-li...   \n",
       "328  Complex I intermediate-associated protein 30, ...   \n",
       "329  Transmembrane emp24 domain-containing protein ...   \n",
       "330  NADH dehydrogenase [ubiquinone] 1 beta subcomp...   \n",
       "331  GPI transamidase component PIG-S (Phosphatidyl...   \n",
       "\n",
       "                                      Uniprot Function  \\\n",
       "0     Subunit of non-clathrin- and clathrin-associa...   \n",
       "1     Chromatin reader protein that recognizes and ...   \n",
       "2     May play a role in spermatogenesis or follicu...   \n",
       "3     As part of the spliceosome, plays a role in p...   \n",
       "4                                                  NaN   \n",
       "..                                                 ...   \n",
       "327   Chaperone necessary for the assembly of mitoc...   \n",
       "328   Chaperone protein involved in early stages of...   \n",
       "329   Potential role in vesicular protein trafficki...   \n",
       "330   Accessory subunit of the mitochondrial membra...   \n",
       "331   Component of the GPI transamidase complex. Es...   \n",
       "\n",
       "                                      Structures (PDB)  \\\n",
       "0                                                  NaN   \n",
       "1    2I8N;2LSP;2MJV;2N3K;2NCZ;2ND0;2ND1;2NNU;2OSS;2...   \n",
       "2    1X0J;2DVQ;2DVR;2DVS;2DVV;2E3K;2G4A;2YDW;2YEK;3...   \n",
       "3                        2HQ6;4R3E;5Z56;5Z58;6FF4;6FF7   \n",
       "4                                                  NaN   \n",
       "..                                                 ...   \n",
       "327                                                NaN   \n",
       "328                                                NaN   \n",
       "329                                                NaN   \n",
       "330                                5XTC;5XTD;5XTH;5XTI   \n",
       "331                                                NaN   \n",
       "\n",
       "                           Uniprot Function in Disease  \n",
       "0     Hermansky-Pudlak syndrome 2 (HPS2) [MIM:60823...  \n",
       "1     Note=A chromosomal aberration involving BRD4 ...  \n",
       "2                                                  NaN  \n",
       "3     Retinitis pigmentosa with or without skeletal...  \n",
       "4                                                  NaN  \n",
       "..                                                 ...  \n",
       "327   GRACILE syndrome (GRACILE) [MIM:603358]: GRAC...  \n",
       "328   Mitochondrial complex I deficiency, nuclear t...  \n",
       "329                                                NaN  \n",
       "330   Mitochondrial complex I deficiency, nuclear t...  \n",
       "331   Glycosylphosphatidylinositol biosynthesis def...  \n",
       "\n",
       "[332 rows x 12 columns]"
      ]
     },
     "execution_count": 2,
     "metadata": {},
     "output_type": "execute_result"
    }
   ],
   "source": [
    "# Load VH Interaction Partners\n",
    "df = pd.read_excel('high_confidence_ppi.xlsx', header=1)\n",
    "df"
   ]
  },
  {
   "cell_type": "markdown",
   "metadata": {},
   "source": [
    "# GEMPRO Pipeline\n",
    "Parameters:\t\n",
    "* gem_name (str) – The name of your GEM or just your project in general. This will be the name of the main folder that is created in root_dir.\n",
    "* root_dir (str) – Path to where the folder named after gem_name will be created. If not provided, directories will not be created and output directories need to be specified for some steps.\n",
    "* pdb_file_type (str) – pdb, mmCif, xml, mmtf - file type for files downloaded from the PDB\n",
    "* gem (Model) – COBRApy Model object\n",
    "* gem_file_path (str) – Path to GEM file\n",
    "* gem_file_type (str) – GEM model type - sbml (or xml), mat, or json formats\n",
    "* genes_list (list) – List of gene IDs that you want to map\n",
    "* genes_and_sequences (dict) – Dictionary of gene IDs and their amino acid sequence strings\n",
    "* genome_path (str) – FASTA file of all protein sequences\n",
    "* write_protein_fasta_files (bool) – If individual protein FASTA files should be written out\n",
    "* description (str) – Description string of your project\n",
    "* custom_spont_id (str) – ID of spontaneous genes in a COBRA model which will be ignored for analysis"
   ]
  },
  {
   "cell_type": "code",
   "execution_count": 3,
   "metadata": {},
   "outputs": [],
   "source": [
    "from ssbio.pipeline.gempro import GEMPRO"
   ]
  },
  {
   "cell_type": "code",
   "execution_count": 4,
   "metadata": {},
   "outputs": [
    {
     "name": "stderr",
     "output_type": "stream",
     "text": [
      "Empty dataframe\n"
     ]
    },
    {
     "data": {
      "text/html": [
       "<div>\n",
       "<style scoped>\n",
       "    .dataframe tbody tr th:only-of-type {\n",
       "        vertical-align: middle;\n",
       "    }\n",
       "\n",
       "    .dataframe tbody tr th {\n",
       "        vertical-align: top;\n",
       "    }\n",
       "\n",
       "    .dataframe thead th {\n",
       "        text-align: right;\n",
       "    }\n",
       "</style>\n",
       "<table border=\"1\" class=\"dataframe\">\n",
       "  <thead>\n",
       "    <tr style=\"text-align: right;\">\n",
       "      <th></th>\n",
       "      <th>uniprot</th>\n",
       "      <th>reviewed</th>\n",
       "      <th>gene_name</th>\n",
       "      <th>kegg</th>\n",
       "      <th>refseq</th>\n",
       "      <th>num_pdbs</th>\n",
       "      <th>pdbs</th>\n",
       "      <th>ec_number</th>\n",
       "      <th>pfam</th>\n",
       "      <th>seq_len</th>\n",
       "      <th>description</th>\n",
       "      <th>entry_date</th>\n",
       "      <th>entry_version</th>\n",
       "      <th>seq_date</th>\n",
       "      <th>seq_version</th>\n",
       "      <th>sequence_file</th>\n",
       "      <th>metadata_file</th>\n",
       "    </tr>\n",
       "    <tr>\n",
       "      <th>gene</th>\n",
       "      <th></th>\n",
       "      <th></th>\n",
       "      <th></th>\n",
       "      <th></th>\n",
       "      <th></th>\n",
       "      <th></th>\n",
       "      <th></th>\n",
       "      <th></th>\n",
       "      <th></th>\n",
       "      <th></th>\n",
       "      <th></th>\n",
       "      <th></th>\n",
       "      <th></th>\n",
       "      <th></th>\n",
       "      <th></th>\n",
       "      <th></th>\n",
       "      <th></th>\n",
       "    </tr>\n",
       "  </thead>\n",
       "  <tbody>\n",
       "  </tbody>\n",
       "</table>\n",
       "</div>"
      ],
      "text/plain": [
       "Empty DataFrame\n",
       "Columns: [uniprot, reviewed, gene_name, kegg, refseq, num_pdbs, pdbs, ec_number, pfam, seq_len, description, entry_date, entry_version, seq_date, seq_version, sequence_file, metadata_file]\n",
       "Index: []"
      ]
     },
     "execution_count": 4,
     "metadata": {},
     "output_type": "execute_result"
    }
   ],
   "source": [
    "# Initialise GEMPRO Class\n",
    "g = GEMPRO(gem_name='vh_ppi', root_dir='gempro', pdb_file_type='pdb',\n",
    "           gem=None, gem_file_path=None, gem_file_type=None, genes_list=list(df['Uniprot Protein ID']),\n",
    "           genes_and_sequences=None, genome_path=None, write_protein_fasta_files=None, description=None,\n",
    "           custom_spont_id=None)\n",
    "\n",
    "g.df_uniprot_metadata.head()"
   ]
  },
  {
   "cell_type": "markdown",
   "metadata": {},
   "source": [
    "## Map UniProt Identifiers to Uniprot entries"
   ]
  },
  {
   "cell_type": "code",
   "execution_count": 5,
   "metadata": {},
   "outputs": [
    {
     "data": {
      "application/vnd.jupyter.widget-view+json": {
       "model_id": "c296574bbb07407a82cd82d037f896fa",
       "version_major": 2,
       "version_minor": 0
      },
      "text/plain": [
       "A Jupyter Widget"
      ]
     },
     "metadata": {},
     "output_type": "display_data"
    },
    {
     "name": "stdout",
     "output_type": "stream",
     "text": [
      "\n",
      "Missing a UniProt Mapping:  []\n"
     ]
    },
    {
     "data": {
      "text/html": [
       "<div>\n",
       "<style scoped>\n",
       "    .dataframe tbody tr th:only-of-type {\n",
       "        vertical-align: middle;\n",
       "    }\n",
       "\n",
       "    .dataframe tbody tr th {\n",
       "        vertical-align: top;\n",
       "    }\n",
       "\n",
       "    .dataframe thead th {\n",
       "        text-align: right;\n",
       "    }\n",
       "</style>\n",
       "<table border=\"1\" class=\"dataframe\">\n",
       "  <thead>\n",
       "    <tr style=\"text-align: right;\">\n",
       "      <th></th>\n",
       "      <th>uniprot</th>\n",
       "      <th>reviewed</th>\n",
       "      <th>gene_name</th>\n",
       "      <th>kegg</th>\n",
       "      <th>refseq</th>\n",
       "      <th>pdbs</th>\n",
       "      <th>pfam</th>\n",
       "      <th>description</th>\n",
       "      <th>entry_date</th>\n",
       "      <th>entry_version</th>\n",
       "      <th>seq_date</th>\n",
       "      <th>seq_version</th>\n",
       "      <th>sequence_file</th>\n",
       "      <th>metadata_file</th>\n",
       "    </tr>\n",
       "    <tr>\n",
       "      <th>gene</th>\n",
       "      <th></th>\n",
       "      <th></th>\n",
       "      <th></th>\n",
       "      <th></th>\n",
       "      <th></th>\n",
       "      <th></th>\n",
       "      <th></th>\n",
       "      <th></th>\n",
       "      <th></th>\n",
       "      <th></th>\n",
       "      <th></th>\n",
       "      <th></th>\n",
       "      <th></th>\n",
       "      <th></th>\n",
       "    </tr>\n",
       "  </thead>\n",
       "  <tbody>\n",
       "    <tr>\n",
       "      <th>AAR2_HUMAN</th>\n",
       "      <td>Q9Y312</td>\n",
       "      <td>False</td>\n",
       "      <td>AAR2</td>\n",
       "      <td>hsa:25980</td>\n",
       "      <td>NP_001258803.1;NP_056326.2;XP_006723833.1;XP_0...</td>\n",
       "      <td>NaN</td>\n",
       "      <td>PF05282</td>\n",
       "      <td>Protein AAR2 homolog</td>\n",
       "      <td>2020-04-22</td>\n",
       "      <td>151</td>\n",
       "      <td>2002-10-19</td>\n",
       "      <td>2</td>\n",
       "      <td>Q9Y312.fasta</td>\n",
       "      <td>Q9Y312.xml</td>\n",
       "    </tr>\n",
       "    <tr>\n",
       "      <th>AASS_HUMAN</th>\n",
       "      <td>Q9UDR5</td>\n",
       "      <td>False</td>\n",
       "      <td>AASS</td>\n",
       "      <td>hsa:10157</td>\n",
       "      <td>NP_005754.2</td>\n",
       "      <td>5L76;5L78;5O1N;5O1O;5O1P</td>\n",
       "      <td>PF03435;PF05222;PF16653</td>\n",
       "      <td>Alpha-aminoadipic semialdehyde synthase, mitoc...</td>\n",
       "      <td>2020-04-22</td>\n",
       "      <td>162</td>\n",
       "      <td>2000-05-01</td>\n",
       "      <td>1</td>\n",
       "      <td>Q9UDR5.fasta</td>\n",
       "      <td>Q9UDR5.xml</td>\n",
       "    </tr>\n",
       "    <tr>\n",
       "      <th>AATF_HUMAN</th>\n",
       "      <td>Q9NY61</td>\n",
       "      <td>False</td>\n",
       "      <td>AATF</td>\n",
       "      <td>hsa:26574</td>\n",
       "      <td>NP_036270.1</td>\n",
       "      <td>5W6A</td>\n",
       "      <td>PF08164;PF13339</td>\n",
       "      <td>Protein AATF</td>\n",
       "      <td>2020-04-22</td>\n",
       "      <td>165</td>\n",
       "      <td>2000-10-01</td>\n",
       "      <td>1</td>\n",
       "      <td>Q9NY61.fasta</td>\n",
       "      <td>Q9NY61.xml</td>\n",
       "    </tr>\n",
       "    <tr>\n",
       "      <th>ACAD9_HUMAN</th>\n",
       "      <td>Q9H845</td>\n",
       "      <td>False</td>\n",
       "      <td>ACAD9</td>\n",
       "      <td>hsa:28976</td>\n",
       "      <td>NP_054768.2</td>\n",
       "      <td>NaN</td>\n",
       "      <td>PF00441;PF02770;PF02771</td>\n",
       "      <td>Complex I assembly factor ACAD9, mitochondrial</td>\n",
       "      <td>2020-04-22</td>\n",
       "      <td>171</td>\n",
       "      <td>2001-03-01</td>\n",
       "      <td>1</td>\n",
       "      <td>Q9H845.fasta</td>\n",
       "      <td>Q9H845.xml</td>\n",
       "    </tr>\n",
       "    <tr>\n",
       "      <th>ACADM_HUMAN</th>\n",
       "      <td>P11310</td>\n",
       "      <td>False</td>\n",
       "      <td>ACADM</td>\n",
       "      <td>hsa:34</td>\n",
       "      <td>NP_000007.1;NP_001120800.1</td>\n",
       "      <td>1EGC;1EGD;1EGE;1T9G;2A1T;4P13</td>\n",
       "      <td>PF00441;PF02770;PF02771</td>\n",
       "      <td>Medium-chain specific acyl-CoA dehydrogenase, ...</td>\n",
       "      <td>2020-04-22</td>\n",
       "      <td>220</td>\n",
       "      <td>1989-07-01</td>\n",
       "      <td>1</td>\n",
       "      <td>P11310.fasta</td>\n",
       "      <td>P11310.xml</td>\n",
       "    </tr>\n",
       "  </tbody>\n",
       "</table>\n",
       "</div>"
      ],
      "text/plain": [
       "            uniprot  reviewed gene_name       kegg  \\\n",
       "gene                                                 \n",
       "AAR2_HUMAN   Q9Y312     False      AAR2  hsa:25980   \n",
       "AASS_HUMAN   Q9UDR5     False      AASS  hsa:10157   \n",
       "AATF_HUMAN   Q9NY61     False      AATF  hsa:26574   \n",
       "ACAD9_HUMAN  Q9H845     False     ACAD9  hsa:28976   \n",
       "ACADM_HUMAN  P11310     False     ACADM     hsa:34   \n",
       "\n",
       "                                                        refseq  \\\n",
       "gene                                                             \n",
       "AAR2_HUMAN   NP_001258803.1;NP_056326.2;XP_006723833.1;XP_0...   \n",
       "AASS_HUMAN                                         NP_005754.2   \n",
       "AATF_HUMAN                                         NP_036270.1   \n",
       "ACAD9_HUMAN                                        NP_054768.2   \n",
       "ACADM_HUMAN                         NP_000007.1;NP_001120800.1   \n",
       "\n",
       "                                      pdbs                     pfam  \\\n",
       "gene                                                                  \n",
       "AAR2_HUMAN                             NaN                  PF05282   \n",
       "AASS_HUMAN        5L76;5L78;5O1N;5O1O;5O1P  PF03435;PF05222;PF16653   \n",
       "AATF_HUMAN                            5W6A          PF08164;PF13339   \n",
       "ACAD9_HUMAN                            NaN  PF00441;PF02770;PF02771   \n",
       "ACADM_HUMAN  1EGC;1EGD;1EGE;1T9G;2A1T;4P13  PF00441;PF02770;PF02771   \n",
       "\n",
       "                                                   description  entry_date  \\\n",
       "gene                                                                         \n",
       "AAR2_HUMAN                                Protein AAR2 homolog  2020-04-22   \n",
       "AASS_HUMAN   Alpha-aminoadipic semialdehyde synthase, mitoc...  2020-04-22   \n",
       "AATF_HUMAN                                        Protein AATF  2020-04-22   \n",
       "ACAD9_HUMAN     Complex I assembly factor ACAD9, mitochondrial  2020-04-22   \n",
       "ACADM_HUMAN  Medium-chain specific acyl-CoA dehydrogenase, ...  2020-04-22   \n",
       "\n",
       "             entry_version    seq_date  seq_version sequence_file  \\\n",
       "gene                                                                \n",
       "AAR2_HUMAN             151  2002-10-19            2  Q9Y312.fasta   \n",
       "AASS_HUMAN             162  2000-05-01            1  Q9UDR5.fasta   \n",
       "AATF_HUMAN             165  2000-10-01            1  Q9NY61.fasta   \n",
       "ACAD9_HUMAN            171  2001-03-01            1  Q9H845.fasta   \n",
       "ACADM_HUMAN            220  1989-07-01            1  P11310.fasta   \n",
       "\n",
       "            metadata_file  \n",
       "gene                       \n",
       "AAR2_HUMAN     Q9Y312.xml  \n",
       "AASS_HUMAN     Q9UDR5.xml  \n",
       "AATF_HUMAN     Q9NY61.xml  \n",
       "ACAD9_HUMAN    Q9H845.xml  \n",
       "ACADM_HUMAN    P11310.xml  "
      ]
     },
     "execution_count": 5,
     "metadata": {},
     "output_type": "execute_result"
    }
   ],
   "source": [
    "# Map uniprot ids and retrieve metadata and sequences\n",
    "g.uniprot_mapping_and_metadata(model_gene_source='ACC+ID')\n",
    "print('Missing a UniProt Mapping: ', g.missing_uniprot_mapping)\n",
    "g.df_uniprot_metadata.head()"
   ]
  },
  {
   "cell_type": "code",
   "execution_count": 6,
   "metadata": {},
   "outputs": [
    {
     "data": {
      "application/vnd.jupyter.widget-view+json": {
       "model_id": "30e6b170531d41028747f04907d1714e",
       "version_major": 2,
       "version_minor": 0
      },
      "text/plain": [
       "A Jupyter Widget"
      ]
     },
     "metadata": {},
     "output_type": "display_data"
    },
    {
     "name": "stdout",
     "output_type": "stream",
     "text": [
      "\n",
      "Missing a representative sequence:  []\n"
     ]
    },
    {
     "data": {
      "text/html": [
       "<div>\n",
       "<style scoped>\n",
       "    .dataframe tbody tr th:only-of-type {\n",
       "        vertical-align: middle;\n",
       "    }\n",
       "\n",
       "    .dataframe tbody tr th {\n",
       "        vertical-align: top;\n",
       "    }\n",
       "\n",
       "    .dataframe thead th {\n",
       "        text-align: right;\n",
       "    }\n",
       "</style>\n",
       "<table border=\"1\" class=\"dataframe\">\n",
       "  <thead>\n",
       "    <tr style=\"text-align: right;\">\n",
       "      <th></th>\n",
       "      <th>uniprot</th>\n",
       "      <th>kegg</th>\n",
       "      <th>pdbs</th>\n",
       "      <th>sequence_file</th>\n",
       "      <th>metadata_file</th>\n",
       "    </tr>\n",
       "    <tr>\n",
       "      <th>gene</th>\n",
       "      <th></th>\n",
       "      <th></th>\n",
       "      <th></th>\n",
       "      <th></th>\n",
       "      <th></th>\n",
       "    </tr>\n",
       "  </thead>\n",
       "  <tbody>\n",
       "    <tr>\n",
       "      <th>AAR2_HUMAN</th>\n",
       "      <td>Q9Y312</td>\n",
       "      <td>hsa:25980</td>\n",
       "      <td>NaN</td>\n",
       "      <td>Q9Y312.fasta</td>\n",
       "      <td>Q9Y312.xml</td>\n",
       "    </tr>\n",
       "    <tr>\n",
       "      <th>AASS_HUMAN</th>\n",
       "      <td>Q9UDR5</td>\n",
       "      <td>hsa:10157</td>\n",
       "      <td>5L76;5L78;5O1N;5O1O;5O1P</td>\n",
       "      <td>Q9UDR5.fasta</td>\n",
       "      <td>Q9UDR5.xml</td>\n",
       "    </tr>\n",
       "    <tr>\n",
       "      <th>AATF_HUMAN</th>\n",
       "      <td>Q9NY61</td>\n",
       "      <td>hsa:26574</td>\n",
       "      <td>5W6A</td>\n",
       "      <td>Q9NY61.fasta</td>\n",
       "      <td>Q9NY61.xml</td>\n",
       "    </tr>\n",
       "    <tr>\n",
       "      <th>ACAD9_HUMAN</th>\n",
       "      <td>Q9H845</td>\n",
       "      <td>hsa:28976</td>\n",
       "      <td>NaN</td>\n",
       "      <td>Q9H845.fasta</td>\n",
       "      <td>Q9H845.xml</td>\n",
       "    </tr>\n",
       "    <tr>\n",
       "      <th>ACADM_HUMAN</th>\n",
       "      <td>P11310</td>\n",
       "      <td>hsa:34</td>\n",
       "      <td>1EGC;1EGD;1EGE;1T9G;2A1T;4P13</td>\n",
       "      <td>P11310.fasta</td>\n",
       "      <td>P11310.xml</td>\n",
       "    </tr>\n",
       "  </tbody>\n",
       "</table>\n",
       "</div>"
      ],
      "text/plain": [
       "            uniprot       kegg                           pdbs sequence_file  \\\n",
       "gene                                                                          \n",
       "AAR2_HUMAN   Q9Y312  hsa:25980                            NaN  Q9Y312.fasta   \n",
       "AASS_HUMAN   Q9UDR5  hsa:10157       5L76;5L78;5O1N;5O1O;5O1P  Q9UDR5.fasta   \n",
       "AATF_HUMAN   Q9NY61  hsa:26574                           5W6A  Q9NY61.fasta   \n",
       "ACAD9_HUMAN  Q9H845  hsa:28976                            NaN  Q9H845.fasta   \n",
       "ACADM_HUMAN  P11310     hsa:34  1EGC;1EGD;1EGE;1T9G;2A1T;4P13  P11310.fasta   \n",
       "\n",
       "            metadata_file  \n",
       "gene                       \n",
       "AAR2_HUMAN     Q9Y312.xml  \n",
       "AASS_HUMAN     Q9UDR5.xml  \n",
       "AATF_HUMAN     Q9NY61.xml  \n",
       "ACAD9_HUMAN    Q9H845.xml  \n",
       "ACADM_HUMAN    P11310.xml  "
      ]
     },
     "execution_count": 6,
     "metadata": {},
     "output_type": "execute_result"
    }
   ],
   "source": [
    "# Set representative sequences\n",
    "g.set_representative_sequence()\n",
    "print('Missing a representative sequence: ', g.missing_representative_sequence)\n",
    "g.df_representative_sequences.head()"
   ]
  },
  {
   "cell_type": "markdown",
   "metadata": {},
   "source": [
    "## Get PDB files"
   ]
  },
  {
   "cell_type": "code",
   "execution_count": 25,
   "metadata": {},
   "outputs": [
    {
     "data": {
      "application/vnd.jupyter.widget-view+json": {
       "model_id": "f573282fc52245ab804687183fdaad8c",
       "version_major": 2,
       "version_minor": 0
      },
      "text/plain": [
       "A Jupyter Widget"
      ]
     },
     "metadata": {},
     "output_type": "display_data"
    },
    {
     "name": "stdout",
     "output_type": "stream",
     "text": [
      "\n",
      "180\n",
      "Missing PDB mapping:  ['TM39B_HUMAN', 'PIGS_HUMAN', 'PLD3_HUMAN', 'PKHF2_HUMAN', 'DCAF7_HUMAN', 'FKBP7_HUMAN', 'PKHA5_HUMAN', 'PCSK6_HUMAN', 'GOGB1_HUMAN', 'AP3B1_HUMAN', 'ATE1_HUMAN', 'UBP54_HUMAN', 'ACSL3_HUMAN', 'NFIP2_HUMAN', 'INT4_HUMAN', 'CEP68_HUMAN', 'TRM1_HUMAN', 'NIN_HUMAN', 'DCAKD_HUMAN', 'MFGM_HUMAN', 'ZNT6_HUMAN', 'EDEM3_HUMAN', 'LYOX_HUMAN', 'MA7D1_HUMAN', 'GOGA7_HUMAN', 'WASC4_HUMAN', 'GOGA3_HUMAN', 'CRTC3_HUMAN', 'ZY11B_HUMAN', 'MOV10_HUMAN', 'CTL2_HUMAN', 'NINL_HUMAN', 'RBM41_HUMAN', 'GCC1_HUMAN', 'AAR2_HUMAN', 'FXL12_HUMAN', 'SYTM_HUMAN', 'STC2_HUMAN', 'SCRB1_HUMAN', 'ADAM9_HUMAN', 'BZW2_HUMAN', 'F162A_HUMAN', 'DCTP1_HUMAN', 'VPS39_HUMAN', 'GBG5_HUMAN', 'CCD86_HUMAN', 'GRAP1_HUMAN', 'ACAD9_HUMAN', 'TLE3_HUMAN', 'AKAP9_HUMAN', 'RADI_HUMAN', 'SYNM_HUMAN', 'CA050_HUMAN', 'MPPA_HUMAN', 'SIL1_HUMAN', 'INHBE_HUMAN', 'CHPF2_HUMAN', 'TIM8B_HUMAN', 'PKP2_HUMAN', 'NUP88_HUMAN', 'DJC11_HUMAN', 'ZN318_HUMAN', 'ERLEC_HUMAN', 'NGDN_HUMAN', 'TOM70_HUMAN', 'UBXN8_HUMAN', 'CK5P2_HUMAN', 'PABP4_HUMAN', 'AKAP8_HUMAN', 'GT251_HUMAN', 'UBAP2_HUMAN', 'LAR4B_HUMAN', 'NAT14_HUMAN', 'PCNT_HUMAN', 'SAAL1_HUMAN', 'SCPDL_HUMAN', 'CNTRL_HUMAN', 'DDX21_HUMAN', 'MYOME_HUMAN', 'RETR3_HUMAN', 'GPAA1_HUMAN', 'ECSIT_HUMAN', 'DDX10_HUMAN', 'FACR2_HUMAN', 'PIGO_HUMAN', 'VPS11_HUMAN', 'MDN1_HUMAN', 'ALG5_HUMAN', 'CENPF_HUMAN', 'ZCH18_HUMAN', 'G3BP2_HUMAN', 'FAKD5_HUMAN', 'CHSS2_HUMAN', 'JKIP1_HUMAN', 'PO210_HUMAN', 'CE112_HUMAN', 'GRPE1_HUMAN', 'ERO1B_HUMAN', 'REEP6_HUMAN', 'IF4H_HUMAN', 'S27A2_HUMAN', 'Z3H7A_HUMAN', 'NPTX1_HUMAN', 'CLIP4_HUMAN', 'HEAT3_HUMAN', 'CLCC1_HUMAN', 'CE350_HUMAN', 'COQ8B_HUMAN', 'GHITM_HUMAN', 'ZDHC5_HUMAN', 'FA8A1_HUMAN', 'QSOX2_HUMAN', 'FKB10_HUMAN', 'AT133_HUMAN', 'ALG11_HUMAN', 'VKGC_HUMAN', 'STOM_HUMAN', 'TBKB1_HUMAN', 'WFS1_HUMAN', 'SGMR2_HUMAN', 'TM2D3_HUMAN', 'SBNO1_HUMAN', 'ZNT7_HUMAN', 'TMED5_HUMAN', 'TYSD1_HUMAN', 'T10B_HUMAN', 'TIM14_HUMAN', 'SMOC1_HUMAN', 'UGGG2_HUMAN', 'TAPT1_HUMAN', 'PUSL1_HUMAN', 'CIA30_HUMAN', 'D19L1_HUMAN', 'FKB15_HUMAN', 'H6ST2_HUMAN', 'REEP5_HUMAN', 'CTRO_HUMAN', 'FXRD2_HUMAN', 'PLGT3_HUMAN', 'PLGT2_HUMAN', 'PLOD2_HUMAN', 'NOL10_HUMAN', 'FBLN5_HUMAN', 'MYCB2_HUMAN', 'ATP5L_HUMAN', 'TIM29_HUMAN', 'ZN503_HUMAN', 'CO6A1_HUMAN', 'SCAP_HUMAN', 'PDZ11_HUMAN', 'MPP10_HUMAN', 'NEUR1_HUMAN', 'TRI59_HUMAN', 'RB6I2_HUMAN', 'ALG8_HUMAN', 'CHM2A_HUMAN', 'ERMP1_HUMAN', 'MPPB_HUMAN', 'MIPO1_HUMAN', 'HOOK1_HUMAN', 'NDUF2_HUMAN', 'AKP8L_HUMAN', 'FA98A_HUMAN', 'MTCH1_HUMAN', 'STML2_HUMAN', 'TLE5_HUMAN', 'RBM28_HUMAN', 'ZNT9_HUMAN', 'ERGI1_HUMAN', 'EMC1_HUMAN', 'DPH5_HUMAN', 'CP250_HUMAN', 'UBP2L_HUMAN', 'SDF2_HUMAN', 'YIF1A_HUMAN', 'ODC_HUMAN', 'FBN2_HUMAN', 'HYOU1_HUMAN', 'PRC2B_HUMAN', 'AR6P6_HUMAN']\n"
     ]
    },
    {
     "data": {
      "text/html": [
       "<div>\n",
       "<style scoped>\n",
       "    .dataframe tbody tr th:only-of-type {\n",
       "        vertical-align: middle;\n",
       "    }\n",
       "\n",
       "    .dataframe tbody tr th {\n",
       "        vertical-align: top;\n",
       "    }\n",
       "\n",
       "    .dataframe thead th {\n",
       "        text-align: right;\n",
       "    }\n",
       "</style>\n",
       "<table border=\"1\" class=\"dataframe\">\n",
       "  <thead>\n",
       "    <tr style=\"text-align: right;\">\n",
       "      <th></th>\n",
       "      <th>pdb_id</th>\n",
       "      <th>pdb_chain_id</th>\n",
       "      <th>uniprot</th>\n",
       "      <th>experimental_method</th>\n",
       "      <th>resolution</th>\n",
       "      <th>coverage</th>\n",
       "      <th>start</th>\n",
       "      <th>end</th>\n",
       "      <th>unp_start</th>\n",
       "      <th>unp_end</th>\n",
       "      <th>rank</th>\n",
       "      <th>taxonomy_name</th>\n",
       "    </tr>\n",
       "    <tr>\n",
       "      <th>gene</th>\n",
       "      <th></th>\n",
       "      <th></th>\n",
       "      <th></th>\n",
       "      <th></th>\n",
       "      <th></th>\n",
       "      <th></th>\n",
       "      <th></th>\n",
       "      <th></th>\n",
       "      <th></th>\n",
       "      <th></th>\n",
       "      <th></th>\n",
       "      <th></th>\n",
       "    </tr>\n",
       "  </thead>\n",
       "  <tbody>\n",
       "    <tr>\n",
       "      <th>AASS_HUMAN</th>\n",
       "      <td>5o1o</td>\n",
       "      <td>B</td>\n",
       "      <td>Q9UDR5</td>\n",
       "      <td>X-ray diffraction</td>\n",
       "      <td>2.48</td>\n",
       "      <td>0.510</td>\n",
       "      <td>26</td>\n",
       "      <td>497</td>\n",
       "      <td>455</td>\n",
       "      <td>926</td>\n",
       "      <td>2</td>\n",
       "      <td>NaN</td>\n",
       "    </tr>\n",
       "    <tr>\n",
       "      <th>AASS_HUMAN</th>\n",
       "      <td>5o1n</td>\n",
       "      <td>A</td>\n",
       "      <td>Q9UDR5</td>\n",
       "      <td>X-ray diffraction</td>\n",
       "      <td>2.28</td>\n",
       "      <td>0.510</td>\n",
       "      <td>26</td>\n",
       "      <td>497</td>\n",
       "      <td>455</td>\n",
       "      <td>926</td>\n",
       "      <td>1</td>\n",
       "      <td>NaN</td>\n",
       "    </tr>\n",
       "    <tr>\n",
       "      <th>AASS_HUMAN</th>\n",
       "      <td>5l78</td>\n",
       "      <td>A</td>\n",
       "      <td>Q9UDR5</td>\n",
       "      <td>X-ray diffraction</td>\n",
       "      <td>2.68</td>\n",
       "      <td>0.510</td>\n",
       "      <td>26</td>\n",
       "      <td>497</td>\n",
       "      <td>455</td>\n",
       "      <td>926</td>\n",
       "      <td>3</td>\n",
       "      <td>NaN</td>\n",
       "    </tr>\n",
       "    <tr>\n",
       "      <th>AATF_HUMAN</th>\n",
       "      <td>5w6a</td>\n",
       "      <td>F</td>\n",
       "      <td>Q9NY61</td>\n",
       "      <td>X-ray diffraction</td>\n",
       "      <td>1.74</td>\n",
       "      <td>0.016</td>\n",
       "      <td>1</td>\n",
       "      <td>9</td>\n",
       "      <td>539</td>\n",
       "      <td>547</td>\n",
       "      <td>1</td>\n",
       "      <td>NaN</td>\n",
       "    </tr>\n",
       "    <tr>\n",
       "      <th>ACADM_HUMAN</th>\n",
       "      <td>1egc</td>\n",
       "      <td>C</td>\n",
       "      <td>P11310</td>\n",
       "      <td>X-RAY DIFFRACTION</td>\n",
       "      <td>2.6</td>\n",
       "      <td>0.941</td>\n",
       "      <td>1</td>\n",
       "      <td>396</td>\n",
       "      <td>26</td>\n",
       "      <td>421</td>\n",
       "      <td>11</td>\n",
       "      <td>Homo sapiens</td>\n",
       "    </tr>\n",
       "  </tbody>\n",
       "</table>\n",
       "</div>"
      ],
      "text/plain": [
       "            pdb_id pdb_chain_id uniprot experimental_method resolution  \\\n",
       "gene                                                                     \n",
       "AASS_HUMAN    5o1o            B  Q9UDR5   X-ray diffraction       2.48   \n",
       "AASS_HUMAN    5o1n            A  Q9UDR5   X-ray diffraction       2.28   \n",
       "AASS_HUMAN    5l78            A  Q9UDR5   X-ray diffraction       2.68   \n",
       "AATF_HUMAN    5w6a            F  Q9NY61   X-ray diffraction       1.74   \n",
       "ACADM_HUMAN   1egc            C  P11310   X-RAY DIFFRACTION        2.6   \n",
       "\n",
       "             coverage  start  end  unp_start  unp_end  rank taxonomy_name  \n",
       "gene                                                                       \n",
       "AASS_HUMAN      0.510     26  497        455      926     2           NaN  \n",
       "AASS_HUMAN      0.510     26  497        455      926     1           NaN  \n",
       "AASS_HUMAN      0.510     26  497        455      926     3           NaN  \n",
       "AATF_HUMAN      0.016      1    9        539      547     1           NaN  \n",
       "ACADM_HUMAN     0.941      1  396         26      421    11  Homo sapiens  "
      ]
     },
     "execution_count": 25,
     "metadata": {},
     "output_type": "execute_result"
    }
   ],
   "source": [
    "# Map uniprots to PDBs\n",
    "g.map_uniprot_to_pdb(seq_ident_cutoff=0.7)\n",
    "print(len(g.missing_pdb_structures))\n",
    "print('Missing PDB mapping: ', g.missing_pdb_structures)\n",
    "\n",
    "g.df_pdb_ranking.head()"
   ]
  },
  {
   "cell_type": "code",
   "execution_count": 8,
   "metadata": {},
   "outputs": [
    {
     "data": {
      "application/vnd.jupyter.widget-view+json": {
       "model_id": "e2094fab059d47249be35b9a07b67b6d",
       "version_major": 2,
       "version_minor": 0
      },
      "text/plain": [
       "A Jupyter Widget"
      ]
     },
     "metadata": {},
     "output_type": "display_data"
    },
    {
     "name": "stderr",
     "output_type": "stream",
     "text": [
      "BLAST request timed out\n"
     ]
    },
    {
     "name": "stdout",
     "output_type": "stream",
     "text": [
      "\n"
     ]
    },
    {
     "data": {
      "text/html": [
       "<div>\n",
       "<style scoped>\n",
       "    .dataframe tbody tr th:only-of-type {\n",
       "        vertical-align: middle;\n",
       "    }\n",
       "\n",
       "    .dataframe tbody tr th {\n",
       "        vertical-align: top;\n",
       "    }\n",
       "\n",
       "    .dataframe thead th {\n",
       "        text-align: right;\n",
       "    }\n",
       "</style>\n",
       "<table border=\"1\" class=\"dataframe\">\n",
       "  <thead>\n",
       "    <tr style=\"text-align: right;\">\n",
       "      <th></th>\n",
       "      <th>pdb_id</th>\n",
       "      <th>pdb_chain_id</th>\n",
       "      <th>hit_score</th>\n",
       "      <th>hit_evalue</th>\n",
       "      <th>hit_percent_similar</th>\n",
       "      <th>hit_percent_ident</th>\n",
       "      <th>hit_num_ident</th>\n",
       "      <th>hit_num_similar</th>\n",
       "      <th>hit_percent_gaps</th>\n",
       "      <th>hit_num_gaps</th>\n",
       "    </tr>\n",
       "    <tr>\n",
       "      <th>gene</th>\n",
       "      <th></th>\n",
       "      <th></th>\n",
       "      <th></th>\n",
       "      <th></th>\n",
       "      <th></th>\n",
       "      <th></th>\n",
       "      <th></th>\n",
       "      <th></th>\n",
       "      <th></th>\n",
       "      <th></th>\n",
       "    </tr>\n",
       "  </thead>\n",
       "  <tbody>\n",
       "    <tr>\n",
       "      <th>ACADM_HUMAN</th>\n",
       "      <td>2a1t</td>\n",
       "      <td>D</td>\n",
       "      <td>2214.0</td>\n",
       "      <td>0.0</td>\n",
       "      <td>1.00000</td>\n",
       "      <td>1.000000</td>\n",
       "      <td>421</td>\n",
       "      <td>421</td>\n",
       "      <td>NaN</td>\n",
       "      <td>NaN</td>\n",
       "    </tr>\n",
       "    <tr>\n",
       "      <th>ACADM_HUMAN</th>\n",
       "      <td>3mdd</td>\n",
       "      <td>A</td>\n",
       "      <td>1840.0</td>\n",
       "      <td>0.0</td>\n",
       "      <td>0.87886</td>\n",
       "      <td>0.817102</td>\n",
       "      <td>344</td>\n",
       "      <td>370</td>\n",
       "      <td>NaN</td>\n",
       "      <td>NaN</td>\n",
       "    </tr>\n",
       "  </tbody>\n",
       "</table>\n",
       "</div>"
      ],
      "text/plain": [
       "            pdb_id pdb_chain_id  hit_score  hit_evalue  hit_percent_similar  \\\n",
       "gene                                                                          \n",
       "ACADM_HUMAN   2a1t            D     2214.0         0.0              1.00000   \n",
       "ACADM_HUMAN   3mdd            A     1840.0         0.0              0.87886   \n",
       "\n",
       "             hit_percent_ident  hit_num_ident  hit_num_similar  \\\n",
       "gene                                                             \n",
       "ACADM_HUMAN           1.000000            421              421   \n",
       "ACADM_HUMAN           0.817102            344              370   \n",
       "\n",
       "             hit_percent_gaps  hit_num_gaps  \n",
       "gene                                         \n",
       "ACADM_HUMAN               NaN           NaN  \n",
       "ACADM_HUMAN               NaN           NaN  "
      ]
     },
     "execution_count": 8,
     "metadata": {},
     "output_type": "execute_result"
    }
   ],
   "source": [
    "# Mapping missing structures using BLAST\n",
    "g.blast_seqs_to_pdb(all_genes=False, seq_ident_cutoff=0.7, evalue=0.00001)\n",
    "g.df_pdb_blast.head(2)"
   ]
  },
  {
   "cell_type": "code",
   "execution_count": 27,
   "metadata": {},
   "outputs": [
    {
     "data": {
      "application/vnd.jupyter.widget-view+json": {
       "model_id": "0ab091f5700b4ce8b039bade2de42dde",
       "version_major": 2,
       "version_minor": 0
      },
      "text/plain": [
       "A Jupyter Widget"
      ]
     },
     "metadata": {},
     "output_type": "display_data"
    },
    {
     "name": "stdout",
     "output_type": "stream",
     "text": [
      "\n"
     ]
    }
   ],
   "source": [
    "# Download available PDBs that have been mapped\n",
    "g.pdb_downloader_and_metadata(pdb_file_type='mmCif', force_rerun=True)"
   ]
  },
  {
   "cell_type": "code",
   "execution_count": 26,
   "metadata": {
    "scrolled": true
   },
   "outputs": [
    {
     "data": {
      "application/vnd.jupyter.widget-view+json": {
       "model_id": "599f52f7527d486189253c245eee00f9",
       "version_major": 2,
       "version_minor": 0
      },
      "text/plain": [
       "A Jupyter Widget"
      ]
     },
     "metadata": {},
     "output_type": "display_data"
    },
    {
     "name": "stderr",
     "output_type": "stream",
     "text": [
      "6iw8-A: alignment failed to run, unable to check structure's chain\n",
      "Q08379-6iw8: unable to check chain \"A\"\n",
      "4rey-B: alignment failed to run, unable to check structure's chain\n",
      "Q08379-4rey: unable to check chain \"B\"\n",
      "GOGA2_HUMAN: no structures meet quality checks\n",
      "1l9x-A: alignment failed to run, unable to check structure's chain\n",
      "1l9x-B: alignment failed to run, unable to check structure's chain\n",
      "1l9x-C: alignment failed to run, unable to check structure's chain\n",
      "1l9x-D: alignment failed to run, unable to check structure's chain\n",
      "Q92820-1l9x: unable to check chain \"A\"\n",
      "Q92820-1l9x: unable to check chain \"B\"\n",
      "Q92820-1l9x: unable to check chain \"C\"\n",
      "Q92820-1l9x: unable to check chain \"D\"\n",
      "GGH_HUMAN: no structures meet quality checks\n",
      "5nan-C: alignment failed to run, unable to check structure's chain\n",
      "Q96F46-5nan: unable to check chain \"C\"\n",
      "4hsa-C: alignment failed to run, unable to check structure's chain\n",
      "Q96F46-4hsa: unable to check chain \"C\"\n",
      "3jvf-C: alignment failed to run, unable to check structure's chain\n",
      "Q96F46-3jvf: unable to check chain \"C\"\n",
      "I17RA_HUMAN: no structures meet quality checks\n",
      "5ijo-F: alignment failed to run, unable to check structure's chain\n",
      "5ijo-L: alignment failed to run, unable to check structure's chain\n",
      "5ijo-R: alignment failed to run, unable to check structure's chain\n",
      "5ijo-X: alignment failed to run, unable to check structure's chain\n",
      "Q7Z3B4-5ijo: unable to check chain \"F\"\n",
      "Q7Z3B4-5ijo: unable to check chain \"L\"\n",
      "Q7Z3B4-5ijo: unable to check chain \"R\"\n",
      "Q7Z3B4-5ijo: unable to check chain \"X\"\n",
      "5ijn-F: alignment failed to run, unable to check structure's chain\n",
      "5ijn-L: alignment failed to run, unable to check structure's chain\n",
      "5ijn-R: alignment failed to run, unable to check structure's chain\n",
      "5ijn-X: alignment failed to run, unable to check structure's chain\n",
      "Q7Z3B4-5ijn: unable to check chain \"F\"\n",
      "Q7Z3B4-5ijn: unable to check chain \"L\"\n",
      "Q7Z3B4-5ijn: unable to check chain \"R\"\n",
      "Q7Z3B4-5ijn: unable to check chain \"X\"\n",
      "4jnu-B: alignment failed to run, unable to check structure's chain\n",
      "4jnu-D: alignment failed to run, unable to check structure's chain\n",
      "Q7Z3B4-4jnu: unable to check chain \"B\"\n",
      "Q7Z3B4-4jnu: unable to check chain \"D\"\n",
      "4jo7-D: alignment failed to run, unable to check structure's chain\n",
      "4jo7-H: alignment failed to run, unable to check structure's chain\n",
      "Q7Z3B4-4jo7: unable to check chain \"D\"\n",
      "Q7Z3B4-4jo7: unable to check chain \"H\"\n",
      "4jnv-B: alignment failed to run, unable to check structure's chain\n",
      "4jnv-D: alignment failed to run, unable to check structure's chain\n",
      "Q7Z3B4-4jnv: unable to check chain \"B\"\n",
      "Q7Z3B4-4jnv: unable to check chain \"D\"\n",
      "4jo9-C: alignment failed to run, unable to check structure's chain\n",
      "Q7Z3B4-4jo9: unable to check chain \"C\"\n",
      "NUP54_HUMAN: no structures meet quality checks\n",
      "2bsk-A: alignment failed to run, unable to check structure's chain\n",
      "2bsk-C: alignment failed to run, unable to check structure's chain\n",
      "2bsk-E: alignment failed to run, unable to check structure's chain\n",
      "Q9Y5J7-2bsk: unable to check chain \"A\"\n",
      "Q9Y5J7-2bsk: unable to check chain \"C\"\n",
      "Q9Y5J7-2bsk: unable to check chain \"E\"\n",
      "TIM9_HUMAN: no structures meet quality checks\n",
      "4ndz-A: alignment failed to run, unable to check structure's chain\n",
      "4ndz-B: alignment failed to run, unable to check structure's chain\n",
      "4ndz-C: alignment failed to run, unable to check structure's chain\n",
      "4ndz-D: alignment failed to run, unable to check structure's chain\n",
      "4ndz-E: alignment failed to run, unable to check structure's chain\n",
      "4ndz-F: alignment failed to run, unable to check structure's chain\n",
      "Q7LGA3-4ndz: unable to check chain \"A\"\n",
      "Q7LGA3-4ndz: unable to check chain \"B\"\n",
      "Q7LGA3-4ndz: unable to check chain \"C\"\n",
      "Q7LGA3-4ndz: unable to check chain \"D\"\n",
      "Q7LGA3-4ndz: unable to check chain \"E\"\n",
      "Q7LGA3-4ndz: unable to check chain \"F\"\n",
      "3f5f-A: alignment failed to run, unable to check structure's chain\n",
      "Q7LGA3-3f5f: unable to check chain \"A\"\n",
      "HS2ST_HUMAN: no structures meet quality checks\n",
      "3tvl-A: alignment failed to run, unable to check structure's chain\n",
      "3tvl-B: alignment failed to run, unable to check structure's chain\n",
      "Q9BU02-3tvl: unable to check chain \"A\"\n",
      "Q9BU02-3tvl: unable to check chain \"B\"\n",
      "3bhd-A: alignment failed to run, unable to check structure's chain\n",
      "3bhd-B: alignment failed to run, unable to check structure's chain\n",
      "Q9BU02-3bhd: unable to check chain \"A\"\n",
      "Q9BU02-3bhd: unable to check chain \"B\"\n",
      "THTPA_HUMAN: no structures meet quality checks\n",
      "6u7c-B: alignment failed to run, unable to check structure's chain\n",
      "P62873-6u7c: unable to check chain \"B\"\n"
     ]
    },
    {
     "name": "stdout",
     "output_type": "stream",
     "text": [
      "\n"
     ]
    },
    {
     "ename": "KeyboardInterrupt",
     "evalue": "",
     "output_type": "error",
     "traceback": [
      "\u001b[0;31m--------------------------------------------\u001b[0m",
      "\u001b[0;31mKeyboardInterrupt\u001b[0mTraceback (most recent call last)",
      "\u001b[0;32m<ipython-input-26-e54b5df03654>\u001b[0m in \u001b[0;36m<module>\u001b[0;34m\u001b[0m\n\u001b[1;32m      1\u001b[0m \u001b[0;31m# Set Representative Structures\u001b[0m\u001b[0;34m\u001b[0m\u001b[0;34m\u001b[0m\u001b[0;34m\u001b[0m\u001b[0m\n\u001b[0;32m----> 2\u001b[0;31m \u001b[0mg\u001b[0m\u001b[0;34m.\u001b[0m\u001b[0mset_representative_structure\u001b[0m\u001b[0;34m(\u001b[0m\u001b[0;34m)\u001b[0m\u001b[0;34m\u001b[0m\u001b[0;34m\u001b[0m\u001b[0m\n\u001b[0m",
      "\u001b[0;32m~/anaconda3/envs/cov/lib/python3.8/site-packages/ssbio/pipeline/gempro.py\u001b[0m in \u001b[0;36mset_representative_structure\u001b[0;34m(self, seq_outdir, struct_outdir, pdb_file_type, engine, always_use_homology, rez_cutoff, seq_ident_cutoff, allow_missing_on_termini, allow_mutants, allow_deletions, allow_insertions, allow_unresolved, skip_large_structures, clean, force_rerun)\u001b[0m\n\u001b[1;32m   1203\u001b[0m         \"\"\"\n\u001b[1;32m   1204\u001b[0m         \u001b[0;32mfor\u001b[0m \u001b[0mg\u001b[0m \u001b[0;32min\u001b[0m \u001b[0mtqdm\u001b[0m\u001b[0;34m(\u001b[0m\u001b[0mself\u001b[0m\u001b[0;34m.\u001b[0m\u001b[0mgenes\u001b[0m\u001b[0;34m)\u001b[0m\u001b[0;34m:\u001b[0m\u001b[0;34m\u001b[0m\u001b[0;34m\u001b[0m\u001b[0m\n\u001b[0;32m-> 1205\u001b[0;31m             repstruct = g.protein.set_representative_structure(seq_outdir=seq_outdir,\n\u001b[0m\u001b[1;32m   1206\u001b[0m                                                                \u001b[0mstruct_outdir\u001b[0m\u001b[0;34m=\u001b[0m\u001b[0mstruct_outdir\u001b[0m\u001b[0;34m,\u001b[0m\u001b[0;34m\u001b[0m\u001b[0;34m\u001b[0m\u001b[0m\n\u001b[1;32m   1207\u001b[0m                                                                \u001b[0mpdb_file_type\u001b[0m\u001b[0;34m=\u001b[0m\u001b[0mpdb_file_type\u001b[0m\u001b[0;34m,\u001b[0m\u001b[0;34m\u001b[0m\u001b[0;34m\u001b[0m\u001b[0m\n",
      "\u001b[0;32m~/anaconda3/envs/cov/lib/python3.8/site-packages/ssbio/core/protein.py\u001b[0m in \u001b[0;36mset_representative_structure\u001b[0;34m(self, seq_outdir, struct_outdir, pdb_file_type, engine, always_use_homology, rez_cutoff, seq_ident_cutoff, allow_missing_on_termini, allow_mutants, allow_deletions, allow_insertions, allow_unresolved, clean, keep_chemicals, skip_large_structures, force_rerun)\u001b[0m\n\u001b[1;32m   2033\u001b[0m                 \u001b[0;31m# This will add all chains to the mapped_chains attribute if there are none\u001b[0m\u001b[0;34m\u001b[0m\u001b[0;34m\u001b[0m\u001b[0;34m\u001b[0m\u001b[0m\n\u001b[1;32m   2034\u001b[0m                 \u001b[0;32mtry\u001b[0m\u001b[0;34m:\u001b[0m\u001b[0;34m\u001b[0m\u001b[0;34m\u001b[0m\u001b[0m\n\u001b[0;32m-> 2035\u001b[0;31m                     \u001b[0mpdb\u001b[0m\u001b[0;34m.\u001b[0m\u001b[0mdownload_structure_file\u001b[0m\u001b[0;34m(\u001b[0m\u001b[0moutdir\u001b[0m\u001b[0;34m=\u001b[0m\u001b[0mstruct_outdir\u001b[0m\u001b[0;34m,\u001b[0m \u001b[0mfile_type\u001b[0m\u001b[0;34m=\u001b[0m\u001b[0mpdb_file_type\u001b[0m\u001b[0;34m,\u001b[0m \u001b[0mforce_rerun\u001b[0m\u001b[0;34m=\u001b[0m\u001b[0mforce_rerun\u001b[0m\u001b[0;34m,\u001b[0m \u001b[0mload_header_metadata\u001b[0m\u001b[0;34m=\u001b[0m\u001b[0;32mTrue\u001b[0m\u001b[0;34m)\u001b[0m\u001b[0;34m\u001b[0m\u001b[0;34m\u001b[0m\u001b[0m\n\u001b[0m\u001b[1;32m   2036\u001b[0m                 \u001b[0;32mexcept\u001b[0m \u001b[0;34m(\u001b[0m\u001b[0mrequests\u001b[0m\u001b[0;34m.\u001b[0m\u001b[0mexceptions\u001b[0m\u001b[0;34m.\u001b[0m\u001b[0mHTTPError\u001b[0m\u001b[0;34m,\u001b[0m \u001b[0mURLError\u001b[0m\u001b[0;34m)\u001b[0m\u001b[0;34m:\u001b[0m\u001b[0;34m\u001b[0m\u001b[0;34m\u001b[0m\u001b[0m\n\u001b[1;32m   2037\u001b[0m                     \u001b[0mlog\u001b[0m\u001b[0;34m.\u001b[0m\u001b[0merror\u001b[0m\u001b[0;34m(\u001b[0m\u001b[0;34m'{}: structure file could not be downloaded in {} format'\u001b[0m\u001b[0;34m.\u001b[0m\u001b[0mformat\u001b[0m\u001b[0;34m(\u001b[0m\u001b[0mpdb\u001b[0m\u001b[0;34m,\u001b[0m \u001b[0mpdb_file_type\u001b[0m\u001b[0;34m)\u001b[0m\u001b[0;34m)\u001b[0m\u001b[0;34m\u001b[0m\u001b[0;34m\u001b[0m\u001b[0m\n",
      "\u001b[0;32m~/anaconda3/envs/cov/lib/python3.8/site-packages/ssbio/databases/pdb.py\u001b[0m in \u001b[0;36mdownload_structure_file\u001b[0;34m(self, outdir, file_type, load_header_metadata, force_rerun)\u001b[0m\n\u001b[1;32m     78\u001b[0m         \u001b[0mp\u001b[0m \u001b[0;34m=\u001b[0m \u001b[0mPDBList\u001b[0m\u001b[0;34m(\u001b[0m\u001b[0;34m)\u001b[0m\u001b[0;34m\u001b[0m\u001b[0;34m\u001b[0m\u001b[0m\n\u001b[1;32m     79\u001b[0m         \u001b[0;32mwith\u001b[0m \u001b[0mssbio\u001b[0m\u001b[0;34m.\u001b[0m\u001b[0mutils\u001b[0m\u001b[0;34m.\u001b[0m\u001b[0msuppress_stdout\u001b[0m\u001b[0;34m(\u001b[0m\u001b[0;34m)\u001b[0m\u001b[0;34m:\u001b[0m\u001b[0;34m\u001b[0m\u001b[0;34m\u001b[0m\u001b[0m\n\u001b[0;32m---> 80\u001b[0;31m             \u001b[0mstructure_file\u001b[0m \u001b[0;34m=\u001b[0m \u001b[0mp\u001b[0m\u001b[0;34m.\u001b[0m\u001b[0mretrieve_pdb_file\u001b[0m\u001b[0;34m(\u001b[0m\u001b[0mpdb_code\u001b[0m\u001b[0;34m=\u001b[0m\u001b[0mself\u001b[0m\u001b[0;34m.\u001b[0m\u001b[0mid\u001b[0m\u001b[0;34m,\u001b[0m \u001b[0mpdir\u001b[0m\u001b[0;34m=\u001b[0m\u001b[0moutdir\u001b[0m\u001b[0;34m,\u001b[0m \u001b[0mfile_format\u001b[0m\u001b[0;34m=\u001b[0m\u001b[0mfile_type\u001b[0m\u001b[0;34m,\u001b[0m \u001b[0moverwrite\u001b[0m\u001b[0;34m=\u001b[0m\u001b[0mforce_rerun\u001b[0m\u001b[0;34m)\u001b[0m\u001b[0;34m\u001b[0m\u001b[0;34m\u001b[0m\u001b[0m\n\u001b[0m\u001b[1;32m     81\u001b[0m         \u001b[0;32mif\u001b[0m \u001b[0;32mnot\u001b[0m \u001b[0mop\u001b[0m\u001b[0;34m.\u001b[0m\u001b[0mexists\u001b[0m\u001b[0;34m(\u001b[0m\u001b[0mstructure_file\u001b[0m\u001b[0;34m)\u001b[0m\u001b[0;34m:\u001b[0m\u001b[0;34m\u001b[0m\u001b[0;34m\u001b[0m\u001b[0m\n\u001b[1;32m     82\u001b[0m             \u001b[0mlog\u001b[0m\u001b[0;34m.\u001b[0m\u001b[0mdebug\u001b[0m\u001b[0;34m(\u001b[0m\u001b[0;34m'{}: {} file not available'\u001b[0m\u001b[0;34m.\u001b[0m\u001b[0mformat\u001b[0m\u001b[0;34m(\u001b[0m\u001b[0mself\u001b[0m\u001b[0;34m.\u001b[0m\u001b[0mid\u001b[0m\u001b[0;34m,\u001b[0m \u001b[0mfile_type\u001b[0m\u001b[0;34m)\u001b[0m\u001b[0;34m)\u001b[0m\u001b[0;34m\u001b[0m\u001b[0;34m\u001b[0m\u001b[0m\n",
      "\u001b[0;32m~/anaconda3/envs/cov/lib/python3.8/site-packages/Bio/PDB/PDBList.py\u001b[0m in \u001b[0;36mretrieve_pdb_file\u001b[0;34m(self, pdb_code, obsolete, pdir, file_format, overwrite)\u001b[0m\n\u001b[1;32m    339\u001b[0m         \u001b[0;32mtry\u001b[0m\u001b[0;34m:\u001b[0m\u001b[0;34m\u001b[0m\u001b[0;34m\u001b[0m\u001b[0m\n\u001b[1;32m    340\u001b[0m             \u001b[0m_urlcleanup\u001b[0m\u001b[0;34m(\u001b[0m\u001b[0;34m)\u001b[0m\u001b[0;34m\u001b[0m\u001b[0;34m\u001b[0m\u001b[0m\n\u001b[0;32m--> 341\u001b[0;31m             \u001b[0m_urlretrieve\u001b[0m\u001b[0;34m(\u001b[0m\u001b[0murl\u001b[0m\u001b[0;34m,\u001b[0m \u001b[0mfilename\u001b[0m\u001b[0;34m)\u001b[0m\u001b[0;34m\u001b[0m\u001b[0;34m\u001b[0m\u001b[0m\n\u001b[0m\u001b[1;32m    342\u001b[0m         \u001b[0;32mexcept\u001b[0m \u001b[0mIOError\u001b[0m\u001b[0;34m:\u001b[0m\u001b[0;34m\u001b[0m\u001b[0;34m\u001b[0m\u001b[0m\n\u001b[1;32m    343\u001b[0m             \u001b[0mprint\u001b[0m\u001b[0;34m(\u001b[0m\u001b[0;34m\"Desired structure doesn't exists\"\u001b[0m\u001b[0;34m)\u001b[0m\u001b[0;34m\u001b[0m\u001b[0;34m\u001b[0m\u001b[0m\n",
      "\u001b[0;32m~/anaconda3/envs/cov/lib/python3.8/urllib/request.py\u001b[0m in \u001b[0;36murlretrieve\u001b[0;34m(url, filename, reporthook, data)\u001b[0m\n\u001b[1;32m    245\u001b[0m     \u001b[0murl_type\u001b[0m\u001b[0;34m,\u001b[0m \u001b[0mpath\u001b[0m \u001b[0;34m=\u001b[0m \u001b[0m_splittype\u001b[0m\u001b[0;34m(\u001b[0m\u001b[0murl\u001b[0m\u001b[0;34m)\u001b[0m\u001b[0;34m\u001b[0m\u001b[0;34m\u001b[0m\u001b[0m\n\u001b[1;32m    246\u001b[0m \u001b[0;34m\u001b[0m\u001b[0m\n\u001b[0;32m--> 247\u001b[0;31m     \u001b[0;32mwith\u001b[0m \u001b[0mcontextlib\u001b[0m\u001b[0;34m.\u001b[0m\u001b[0mclosing\u001b[0m\u001b[0;34m(\u001b[0m\u001b[0murlopen\u001b[0m\u001b[0;34m(\u001b[0m\u001b[0murl\u001b[0m\u001b[0;34m,\u001b[0m \u001b[0mdata\u001b[0m\u001b[0;34m)\u001b[0m\u001b[0;34m)\u001b[0m \u001b[0;32mas\u001b[0m \u001b[0mfp\u001b[0m\u001b[0;34m:\u001b[0m\u001b[0;34m\u001b[0m\u001b[0;34m\u001b[0m\u001b[0m\n\u001b[0m\u001b[1;32m    248\u001b[0m         \u001b[0mheaders\u001b[0m \u001b[0;34m=\u001b[0m \u001b[0mfp\u001b[0m\u001b[0;34m.\u001b[0m\u001b[0minfo\u001b[0m\u001b[0;34m(\u001b[0m\u001b[0;34m)\u001b[0m\u001b[0;34m\u001b[0m\u001b[0;34m\u001b[0m\u001b[0m\n\u001b[1;32m    249\u001b[0m \u001b[0;34m\u001b[0m\u001b[0m\n",
      "\u001b[0;32m~/anaconda3/envs/cov/lib/python3.8/urllib/request.py\u001b[0m in \u001b[0;36murlopen\u001b[0;34m(url, data, timeout, cafile, capath, cadefault, context)\u001b[0m\n\u001b[1;32m    220\u001b[0m     \u001b[0;32melse\u001b[0m\u001b[0;34m:\u001b[0m\u001b[0;34m\u001b[0m\u001b[0;34m\u001b[0m\u001b[0m\n\u001b[1;32m    221\u001b[0m         \u001b[0mopener\u001b[0m \u001b[0;34m=\u001b[0m \u001b[0m_opener\u001b[0m\u001b[0;34m\u001b[0m\u001b[0;34m\u001b[0m\u001b[0m\n\u001b[0;32m--> 222\u001b[0;31m     \u001b[0;32mreturn\u001b[0m \u001b[0mopener\u001b[0m\u001b[0;34m.\u001b[0m\u001b[0mopen\u001b[0m\u001b[0;34m(\u001b[0m\u001b[0murl\u001b[0m\u001b[0;34m,\u001b[0m \u001b[0mdata\u001b[0m\u001b[0;34m,\u001b[0m \u001b[0mtimeout\u001b[0m\u001b[0;34m)\u001b[0m\u001b[0;34m\u001b[0m\u001b[0;34m\u001b[0m\u001b[0m\n\u001b[0m\u001b[1;32m    223\u001b[0m \u001b[0;34m\u001b[0m\u001b[0m\n\u001b[1;32m    224\u001b[0m \u001b[0;32mdef\u001b[0m \u001b[0minstall_opener\u001b[0m\u001b[0;34m(\u001b[0m\u001b[0mopener\u001b[0m\u001b[0;34m)\u001b[0m\u001b[0;34m:\u001b[0m\u001b[0;34m\u001b[0m\u001b[0;34m\u001b[0m\u001b[0m\n",
      "\u001b[0;32m~/anaconda3/envs/cov/lib/python3.8/urllib/request.py\u001b[0m in \u001b[0;36mopen\u001b[0;34m(self, fullurl, data, timeout)\u001b[0m\n\u001b[1;32m    523\u001b[0m \u001b[0;34m\u001b[0m\u001b[0m\n\u001b[1;32m    524\u001b[0m         \u001b[0msys\u001b[0m\u001b[0;34m.\u001b[0m\u001b[0maudit\u001b[0m\u001b[0;34m(\u001b[0m\u001b[0;34m'urllib.Request'\u001b[0m\u001b[0;34m,\u001b[0m \u001b[0mreq\u001b[0m\u001b[0;34m.\u001b[0m\u001b[0mfull_url\u001b[0m\u001b[0;34m,\u001b[0m \u001b[0mreq\u001b[0m\u001b[0;34m.\u001b[0m\u001b[0mdata\u001b[0m\u001b[0;34m,\u001b[0m \u001b[0mreq\u001b[0m\u001b[0;34m.\u001b[0m\u001b[0mheaders\u001b[0m\u001b[0;34m,\u001b[0m \u001b[0mreq\u001b[0m\u001b[0;34m.\u001b[0m\u001b[0mget_method\u001b[0m\u001b[0;34m(\u001b[0m\u001b[0;34m)\u001b[0m\u001b[0;34m)\u001b[0m\u001b[0;34m\u001b[0m\u001b[0;34m\u001b[0m\u001b[0m\n\u001b[0;32m--> 525\u001b[0;31m         \u001b[0mresponse\u001b[0m \u001b[0;34m=\u001b[0m \u001b[0mself\u001b[0m\u001b[0;34m.\u001b[0m\u001b[0m_open\u001b[0m\u001b[0;34m(\u001b[0m\u001b[0mreq\u001b[0m\u001b[0;34m,\u001b[0m \u001b[0mdata\u001b[0m\u001b[0;34m)\u001b[0m\u001b[0;34m\u001b[0m\u001b[0;34m\u001b[0m\u001b[0m\n\u001b[0m\u001b[1;32m    526\u001b[0m \u001b[0;34m\u001b[0m\u001b[0m\n\u001b[1;32m    527\u001b[0m         \u001b[0;31m# post-process response\u001b[0m\u001b[0;34m\u001b[0m\u001b[0;34m\u001b[0m\u001b[0;34m\u001b[0m\u001b[0m\n",
      "\u001b[0;32m~/anaconda3/envs/cov/lib/python3.8/urllib/request.py\u001b[0m in \u001b[0;36m_open\u001b[0;34m(self, req, data)\u001b[0m\n\u001b[1;32m    540\u001b[0m \u001b[0;34m\u001b[0m\u001b[0m\n\u001b[1;32m    541\u001b[0m         \u001b[0mprotocol\u001b[0m \u001b[0;34m=\u001b[0m \u001b[0mreq\u001b[0m\u001b[0;34m.\u001b[0m\u001b[0mtype\u001b[0m\u001b[0;34m\u001b[0m\u001b[0;34m\u001b[0m\u001b[0m\n\u001b[0;32m--> 542\u001b[0;31m         result = self._call_chain(self.handle_open, protocol, protocol +\n\u001b[0m\u001b[1;32m    543\u001b[0m                                   '_open', req)\n\u001b[1;32m    544\u001b[0m         \u001b[0;32mif\u001b[0m \u001b[0mresult\u001b[0m\u001b[0;34m:\u001b[0m\u001b[0;34m\u001b[0m\u001b[0;34m\u001b[0m\u001b[0m\n",
      "\u001b[0;32m~/anaconda3/envs/cov/lib/python3.8/urllib/request.py\u001b[0m in \u001b[0;36m_call_chain\u001b[0;34m(self, chain, kind, meth_name, *args)\u001b[0m\n\u001b[1;32m    500\u001b[0m         \u001b[0;32mfor\u001b[0m \u001b[0mhandler\u001b[0m \u001b[0;32min\u001b[0m \u001b[0mhandlers\u001b[0m\u001b[0;34m:\u001b[0m\u001b[0;34m\u001b[0m\u001b[0;34m\u001b[0m\u001b[0m\n\u001b[1;32m    501\u001b[0m             \u001b[0mfunc\u001b[0m \u001b[0;34m=\u001b[0m \u001b[0mgetattr\u001b[0m\u001b[0;34m(\u001b[0m\u001b[0mhandler\u001b[0m\u001b[0;34m,\u001b[0m \u001b[0mmeth_name\u001b[0m\u001b[0;34m)\u001b[0m\u001b[0;34m\u001b[0m\u001b[0;34m\u001b[0m\u001b[0m\n\u001b[0;32m--> 502\u001b[0;31m             \u001b[0mresult\u001b[0m \u001b[0;34m=\u001b[0m \u001b[0mfunc\u001b[0m\u001b[0;34m(\u001b[0m\u001b[0;34m*\u001b[0m\u001b[0margs\u001b[0m\u001b[0;34m)\u001b[0m\u001b[0;34m\u001b[0m\u001b[0;34m\u001b[0m\u001b[0m\n\u001b[0m\u001b[1;32m    503\u001b[0m             \u001b[0;32mif\u001b[0m \u001b[0mresult\u001b[0m \u001b[0;32mis\u001b[0m \u001b[0;32mnot\u001b[0m \u001b[0;32mNone\u001b[0m\u001b[0;34m:\u001b[0m\u001b[0;34m\u001b[0m\u001b[0;34m\u001b[0m\u001b[0m\n\u001b[1;32m    504\u001b[0m                 \u001b[0;32mreturn\u001b[0m \u001b[0mresult\u001b[0m\u001b[0;34m\u001b[0m\u001b[0;34m\u001b[0m\u001b[0m\n",
      "\u001b[0;32m~/anaconda3/envs/cov/lib/python3.8/urllib/request.py\u001b[0m in \u001b[0;36mftp_open\u001b[0;34m(self, req)\u001b[0m\n\u001b[1;32m   1534\u001b[0m             \u001b[0mdirs\u001b[0m \u001b[0;34m=\u001b[0m \u001b[0mdirs\u001b[0m\u001b[0;34m[\u001b[0m\u001b[0;36m1\u001b[0m\u001b[0;34m:\u001b[0m\u001b[0;34m]\u001b[0m\u001b[0;34m\u001b[0m\u001b[0;34m\u001b[0m\u001b[0m\n\u001b[1;32m   1535\u001b[0m         \u001b[0;32mtry\u001b[0m\u001b[0;34m:\u001b[0m\u001b[0;34m\u001b[0m\u001b[0;34m\u001b[0m\u001b[0m\n\u001b[0;32m-> 1536\u001b[0;31m             \u001b[0mfw\u001b[0m \u001b[0;34m=\u001b[0m \u001b[0mself\u001b[0m\u001b[0;34m.\u001b[0m\u001b[0mconnect_ftp\u001b[0m\u001b[0;34m(\u001b[0m\u001b[0muser\u001b[0m\u001b[0;34m,\u001b[0m \u001b[0mpasswd\u001b[0m\u001b[0;34m,\u001b[0m \u001b[0mhost\u001b[0m\u001b[0;34m,\u001b[0m \u001b[0mport\u001b[0m\u001b[0;34m,\u001b[0m \u001b[0mdirs\u001b[0m\u001b[0;34m,\u001b[0m \u001b[0mreq\u001b[0m\u001b[0;34m.\u001b[0m\u001b[0mtimeout\u001b[0m\u001b[0;34m)\u001b[0m\u001b[0;34m\u001b[0m\u001b[0;34m\u001b[0m\u001b[0m\n\u001b[0m\u001b[1;32m   1537\u001b[0m             \u001b[0mtype\u001b[0m \u001b[0;34m=\u001b[0m \u001b[0mfile\u001b[0m \u001b[0;32mand\u001b[0m \u001b[0;34m'I'\u001b[0m \u001b[0;32mor\u001b[0m \u001b[0;34m'D'\u001b[0m\u001b[0;34m\u001b[0m\u001b[0;34m\u001b[0m\u001b[0m\n\u001b[1;32m   1538\u001b[0m             \u001b[0;32mfor\u001b[0m \u001b[0mattr\u001b[0m \u001b[0;32min\u001b[0m \u001b[0mattrs\u001b[0m\u001b[0;34m:\u001b[0m\u001b[0;34m\u001b[0m\u001b[0;34m\u001b[0m\u001b[0m\n",
      "\u001b[0;32m~/anaconda3/envs/cov/lib/python3.8/urllib/request.py\u001b[0m in \u001b[0;36mconnect_ftp\u001b[0;34m(self, user, passwd, host, port, dirs, timeout)\u001b[0m\n\u001b[1;32m   1555\u001b[0m \u001b[0;34m\u001b[0m\u001b[0m\n\u001b[1;32m   1556\u001b[0m     \u001b[0;32mdef\u001b[0m \u001b[0mconnect_ftp\u001b[0m\u001b[0;34m(\u001b[0m\u001b[0mself\u001b[0m\u001b[0;34m,\u001b[0m \u001b[0muser\u001b[0m\u001b[0;34m,\u001b[0m \u001b[0mpasswd\u001b[0m\u001b[0;34m,\u001b[0m \u001b[0mhost\u001b[0m\u001b[0;34m,\u001b[0m \u001b[0mport\u001b[0m\u001b[0;34m,\u001b[0m \u001b[0mdirs\u001b[0m\u001b[0;34m,\u001b[0m \u001b[0mtimeout\u001b[0m\u001b[0;34m)\u001b[0m\u001b[0;34m:\u001b[0m\u001b[0;34m\u001b[0m\u001b[0;34m\u001b[0m\u001b[0m\n\u001b[0;32m-> 1557\u001b[0;31m         return ftpwrapper(user, passwd, host, port, dirs, timeout,\n\u001b[0m\u001b[1;32m   1558\u001b[0m                           persistent=False)\n\u001b[1;32m   1559\u001b[0m \u001b[0;34m\u001b[0m\u001b[0m\n",
      "\u001b[0;32m~/anaconda3/envs/cov/lib/python3.8/urllib/request.py\u001b[0m in \u001b[0;36m__init__\u001b[0;34m(self, user, passwd, host, port, dirs, timeout, persistent)\u001b[0m\n\u001b[1;32m   2376\u001b[0m         \u001b[0mself\u001b[0m\u001b[0;34m.\u001b[0m\u001b[0mkeepalive\u001b[0m \u001b[0;34m=\u001b[0m \u001b[0mpersistent\u001b[0m\u001b[0;34m\u001b[0m\u001b[0;34m\u001b[0m\u001b[0m\n\u001b[1;32m   2377\u001b[0m         \u001b[0;32mtry\u001b[0m\u001b[0;34m:\u001b[0m\u001b[0;34m\u001b[0m\u001b[0;34m\u001b[0m\u001b[0m\n\u001b[0;32m-> 2378\u001b[0;31m             \u001b[0mself\u001b[0m\u001b[0;34m.\u001b[0m\u001b[0minit\u001b[0m\u001b[0;34m(\u001b[0m\u001b[0;34m)\u001b[0m\u001b[0;34m\u001b[0m\u001b[0;34m\u001b[0m\u001b[0m\n\u001b[0m\u001b[1;32m   2379\u001b[0m         \u001b[0;32mexcept\u001b[0m\u001b[0;34m:\u001b[0m\u001b[0;34m\u001b[0m\u001b[0;34m\u001b[0m\u001b[0m\n\u001b[1;32m   2380\u001b[0m             \u001b[0mself\u001b[0m\u001b[0;34m.\u001b[0m\u001b[0mclose\u001b[0m\u001b[0;34m(\u001b[0m\u001b[0;34m)\u001b[0m\u001b[0;34m\u001b[0m\u001b[0;34m\u001b[0m\u001b[0m\n",
      "\u001b[0;32m~/anaconda3/envs/cov/lib/python3.8/urllib/request.py\u001b[0m in \u001b[0;36minit\u001b[0;34m(self)\u001b[0m\n\u001b[1;32m   2386\u001b[0m         \u001b[0mself\u001b[0m\u001b[0;34m.\u001b[0m\u001b[0mftp\u001b[0m \u001b[0;34m=\u001b[0m \u001b[0mftplib\u001b[0m\u001b[0;34m.\u001b[0m\u001b[0mFTP\u001b[0m\u001b[0;34m(\u001b[0m\u001b[0;34m)\u001b[0m\u001b[0;34m\u001b[0m\u001b[0;34m\u001b[0m\u001b[0m\n\u001b[1;32m   2387\u001b[0m         \u001b[0mself\u001b[0m\u001b[0;34m.\u001b[0m\u001b[0mftp\u001b[0m\u001b[0;34m.\u001b[0m\u001b[0mconnect\u001b[0m\u001b[0;34m(\u001b[0m\u001b[0mself\u001b[0m\u001b[0;34m.\u001b[0m\u001b[0mhost\u001b[0m\u001b[0;34m,\u001b[0m \u001b[0mself\u001b[0m\u001b[0;34m.\u001b[0m\u001b[0mport\u001b[0m\u001b[0;34m,\u001b[0m \u001b[0mself\u001b[0m\u001b[0;34m.\u001b[0m\u001b[0mtimeout\u001b[0m\u001b[0;34m)\u001b[0m\u001b[0;34m\u001b[0m\u001b[0;34m\u001b[0m\u001b[0m\n\u001b[0;32m-> 2388\u001b[0;31m         \u001b[0mself\u001b[0m\u001b[0;34m.\u001b[0m\u001b[0mftp\u001b[0m\u001b[0;34m.\u001b[0m\u001b[0mlogin\u001b[0m\u001b[0;34m(\u001b[0m\u001b[0mself\u001b[0m\u001b[0;34m.\u001b[0m\u001b[0muser\u001b[0m\u001b[0;34m,\u001b[0m \u001b[0mself\u001b[0m\u001b[0;34m.\u001b[0m\u001b[0mpasswd\u001b[0m\u001b[0;34m)\u001b[0m\u001b[0;34m\u001b[0m\u001b[0;34m\u001b[0m\u001b[0m\n\u001b[0m\u001b[1;32m   2389\u001b[0m         \u001b[0m_target\u001b[0m \u001b[0;34m=\u001b[0m \u001b[0;34m'/'\u001b[0m\u001b[0;34m.\u001b[0m\u001b[0mjoin\u001b[0m\u001b[0;34m(\u001b[0m\u001b[0mself\u001b[0m\u001b[0;34m.\u001b[0m\u001b[0mdirs\u001b[0m\u001b[0;34m)\u001b[0m\u001b[0;34m\u001b[0m\u001b[0;34m\u001b[0m\u001b[0m\n\u001b[1;32m   2390\u001b[0m         \u001b[0mself\u001b[0m\u001b[0;34m.\u001b[0m\u001b[0mftp\u001b[0m\u001b[0;34m.\u001b[0m\u001b[0mcwd\u001b[0m\u001b[0;34m(\u001b[0m\u001b[0m_target\u001b[0m\u001b[0;34m)\u001b[0m\u001b[0;34m\u001b[0m\u001b[0;34m\u001b[0m\u001b[0m\n",
      "\u001b[0;32m~/anaconda3/envs/cov/lib/python3.8/ftplib.py\u001b[0m in \u001b[0;36mlogin\u001b[0;34m(self, user, passwd, acct)\u001b[0m\n\u001b[1;32m    401\u001b[0m         \u001b[0mresp\u001b[0m \u001b[0;34m=\u001b[0m \u001b[0mself\u001b[0m\u001b[0;34m.\u001b[0m\u001b[0msendcmd\u001b[0m\u001b[0;34m(\u001b[0m\u001b[0;34m'USER '\u001b[0m \u001b[0;34m+\u001b[0m \u001b[0muser\u001b[0m\u001b[0;34m)\u001b[0m\u001b[0;34m\u001b[0m\u001b[0;34m\u001b[0m\u001b[0m\n\u001b[1;32m    402\u001b[0m         \u001b[0;32mif\u001b[0m \u001b[0mresp\u001b[0m\u001b[0;34m[\u001b[0m\u001b[0;36m0\u001b[0m\u001b[0;34m]\u001b[0m \u001b[0;34m==\u001b[0m \u001b[0;34m'3'\u001b[0m\u001b[0;34m:\u001b[0m\u001b[0;34m\u001b[0m\u001b[0;34m\u001b[0m\u001b[0m\n\u001b[0;32m--> 403\u001b[0;31m             \u001b[0mresp\u001b[0m \u001b[0;34m=\u001b[0m \u001b[0mself\u001b[0m\u001b[0;34m.\u001b[0m\u001b[0msendcmd\u001b[0m\u001b[0;34m(\u001b[0m\u001b[0;34m'PASS '\u001b[0m \u001b[0;34m+\u001b[0m \u001b[0mpasswd\u001b[0m\u001b[0;34m)\u001b[0m\u001b[0;34m\u001b[0m\u001b[0;34m\u001b[0m\u001b[0m\n\u001b[0m\u001b[1;32m    404\u001b[0m         \u001b[0;32mif\u001b[0m \u001b[0mresp\u001b[0m\u001b[0;34m[\u001b[0m\u001b[0;36m0\u001b[0m\u001b[0;34m]\u001b[0m \u001b[0;34m==\u001b[0m \u001b[0;34m'3'\u001b[0m\u001b[0;34m:\u001b[0m\u001b[0;34m\u001b[0m\u001b[0;34m\u001b[0m\u001b[0m\n\u001b[1;32m    405\u001b[0m             \u001b[0mresp\u001b[0m \u001b[0;34m=\u001b[0m \u001b[0mself\u001b[0m\u001b[0;34m.\u001b[0m\u001b[0msendcmd\u001b[0m\u001b[0;34m(\u001b[0m\u001b[0;34m'ACCT '\u001b[0m \u001b[0;34m+\u001b[0m \u001b[0macct\u001b[0m\u001b[0;34m)\u001b[0m\u001b[0;34m\u001b[0m\u001b[0;34m\u001b[0m\u001b[0m\n",
      "\u001b[0;32m~/anaconda3/envs/cov/lib/python3.8/ftplib.py\u001b[0m in \u001b[0;36msendcmd\u001b[0;34m(self, cmd)\u001b[0m\n\u001b[1;32m    273\u001b[0m         \u001b[0;34m'''Send a command and return the response.'''\u001b[0m\u001b[0;34m\u001b[0m\u001b[0;34m\u001b[0m\u001b[0m\n\u001b[1;32m    274\u001b[0m         \u001b[0mself\u001b[0m\u001b[0;34m.\u001b[0m\u001b[0mputcmd\u001b[0m\u001b[0;34m(\u001b[0m\u001b[0mcmd\u001b[0m\u001b[0;34m)\u001b[0m\u001b[0;34m\u001b[0m\u001b[0;34m\u001b[0m\u001b[0m\n\u001b[0;32m--> 275\u001b[0;31m         \u001b[0;32mreturn\u001b[0m \u001b[0mself\u001b[0m\u001b[0;34m.\u001b[0m\u001b[0mgetresp\u001b[0m\u001b[0;34m(\u001b[0m\u001b[0;34m)\u001b[0m\u001b[0;34m\u001b[0m\u001b[0;34m\u001b[0m\u001b[0m\n\u001b[0m\u001b[1;32m    276\u001b[0m \u001b[0;34m\u001b[0m\u001b[0m\n\u001b[1;32m    277\u001b[0m     \u001b[0;32mdef\u001b[0m \u001b[0mvoidcmd\u001b[0m\u001b[0;34m(\u001b[0m\u001b[0mself\u001b[0m\u001b[0;34m,\u001b[0m \u001b[0mcmd\u001b[0m\u001b[0;34m)\u001b[0m\u001b[0;34m:\u001b[0m\u001b[0;34m\u001b[0m\u001b[0;34m\u001b[0m\u001b[0m\n",
      "\u001b[0;32m~/anaconda3/envs/cov/lib/python3.8/ftplib.py\u001b[0m in \u001b[0;36mgetresp\u001b[0;34m(self)\u001b[0m\n\u001b[1;32m    236\u001b[0m     \u001b[0;31m# Raise various errors if the response indicates an error\u001b[0m\u001b[0;34m\u001b[0m\u001b[0;34m\u001b[0m\u001b[0;34m\u001b[0m\u001b[0m\n\u001b[1;32m    237\u001b[0m     \u001b[0;32mdef\u001b[0m \u001b[0mgetresp\u001b[0m\u001b[0;34m(\u001b[0m\u001b[0mself\u001b[0m\u001b[0;34m)\u001b[0m\u001b[0;34m:\u001b[0m\u001b[0;34m\u001b[0m\u001b[0;34m\u001b[0m\u001b[0m\n\u001b[0;32m--> 238\u001b[0;31m         \u001b[0mresp\u001b[0m \u001b[0;34m=\u001b[0m \u001b[0mself\u001b[0m\u001b[0;34m.\u001b[0m\u001b[0mgetmultiline\u001b[0m\u001b[0;34m(\u001b[0m\u001b[0;34m)\u001b[0m\u001b[0;34m\u001b[0m\u001b[0;34m\u001b[0m\u001b[0m\n\u001b[0m\u001b[1;32m    239\u001b[0m         \u001b[0;32mif\u001b[0m \u001b[0mself\u001b[0m\u001b[0;34m.\u001b[0m\u001b[0mdebugging\u001b[0m\u001b[0;34m:\u001b[0m\u001b[0;34m\u001b[0m\u001b[0;34m\u001b[0m\u001b[0m\n\u001b[1;32m    240\u001b[0m             \u001b[0mprint\u001b[0m\u001b[0;34m(\u001b[0m\u001b[0;34m'*resp*'\u001b[0m\u001b[0;34m,\u001b[0m \u001b[0mself\u001b[0m\u001b[0;34m.\u001b[0m\u001b[0msanitize\u001b[0m\u001b[0;34m(\u001b[0m\u001b[0mresp\u001b[0m\u001b[0;34m)\u001b[0m\u001b[0;34m)\u001b[0m\u001b[0;34m\u001b[0m\u001b[0;34m\u001b[0m\u001b[0m\n",
      "\u001b[0;32m~/anaconda3/envs/cov/lib/python3.8/ftplib.py\u001b[0m in \u001b[0;36mgetmultiline\u001b[0;34m(self)\u001b[0m\n\u001b[1;32m    222\u001b[0m     \u001b[0;31m# these are separated by '\\n' characters in the string\u001b[0m\u001b[0;34m\u001b[0m\u001b[0;34m\u001b[0m\u001b[0;34m\u001b[0m\u001b[0m\n\u001b[1;32m    223\u001b[0m     \u001b[0;32mdef\u001b[0m \u001b[0mgetmultiline\u001b[0m\u001b[0;34m(\u001b[0m\u001b[0mself\u001b[0m\u001b[0;34m)\u001b[0m\u001b[0;34m:\u001b[0m\u001b[0;34m\u001b[0m\u001b[0;34m\u001b[0m\u001b[0m\n\u001b[0;32m--> 224\u001b[0;31m         \u001b[0mline\u001b[0m \u001b[0;34m=\u001b[0m \u001b[0mself\u001b[0m\u001b[0;34m.\u001b[0m\u001b[0mgetline\u001b[0m\u001b[0;34m(\u001b[0m\u001b[0;34m)\u001b[0m\u001b[0;34m\u001b[0m\u001b[0;34m\u001b[0m\u001b[0m\n\u001b[0m\u001b[1;32m    225\u001b[0m         \u001b[0;32mif\u001b[0m \u001b[0mline\u001b[0m\u001b[0;34m[\u001b[0m\u001b[0;36m3\u001b[0m\u001b[0;34m:\u001b[0m\u001b[0;36m4\u001b[0m\u001b[0;34m]\u001b[0m \u001b[0;34m==\u001b[0m \u001b[0;34m'-'\u001b[0m\u001b[0;34m:\u001b[0m\u001b[0;34m\u001b[0m\u001b[0;34m\u001b[0m\u001b[0m\n\u001b[1;32m    226\u001b[0m             \u001b[0mcode\u001b[0m \u001b[0;34m=\u001b[0m \u001b[0mline\u001b[0m\u001b[0;34m[\u001b[0m\u001b[0;34m:\u001b[0m\u001b[0;36m3\u001b[0m\u001b[0;34m]\u001b[0m\u001b[0;34m\u001b[0m\u001b[0;34m\u001b[0m\u001b[0m\n",
      "\u001b[0;32m~/anaconda3/envs/cov/lib/python3.8/ftplib.py\u001b[0m in \u001b[0;36mgetline\u001b[0;34m(self)\u001b[0m\n\u001b[1;32m    204\u001b[0m     \u001b[0;31m# Raise EOFError if the connection is closed\u001b[0m\u001b[0;34m\u001b[0m\u001b[0;34m\u001b[0m\u001b[0;34m\u001b[0m\u001b[0m\n\u001b[1;32m    205\u001b[0m     \u001b[0;32mdef\u001b[0m \u001b[0mgetline\u001b[0m\u001b[0;34m(\u001b[0m\u001b[0mself\u001b[0m\u001b[0;34m)\u001b[0m\u001b[0;34m:\u001b[0m\u001b[0;34m\u001b[0m\u001b[0;34m\u001b[0m\u001b[0m\n\u001b[0;32m--> 206\u001b[0;31m         \u001b[0mline\u001b[0m \u001b[0;34m=\u001b[0m \u001b[0mself\u001b[0m\u001b[0;34m.\u001b[0m\u001b[0mfile\u001b[0m\u001b[0;34m.\u001b[0m\u001b[0mreadline\u001b[0m\u001b[0;34m(\u001b[0m\u001b[0mself\u001b[0m\u001b[0;34m.\u001b[0m\u001b[0mmaxline\u001b[0m \u001b[0;34m+\u001b[0m \u001b[0;36m1\u001b[0m\u001b[0;34m)\u001b[0m\u001b[0;34m\u001b[0m\u001b[0;34m\u001b[0m\u001b[0m\n\u001b[0m\u001b[1;32m    207\u001b[0m         \u001b[0;32mif\u001b[0m \u001b[0mlen\u001b[0m\u001b[0;34m(\u001b[0m\u001b[0mline\u001b[0m\u001b[0;34m)\u001b[0m \u001b[0;34m>\u001b[0m \u001b[0mself\u001b[0m\u001b[0;34m.\u001b[0m\u001b[0mmaxline\u001b[0m\u001b[0;34m:\u001b[0m\u001b[0;34m\u001b[0m\u001b[0;34m\u001b[0m\u001b[0m\n\u001b[1;32m    208\u001b[0m             \u001b[0;32mraise\u001b[0m \u001b[0mError\u001b[0m\u001b[0;34m(\u001b[0m\u001b[0;34m\"got more than %d bytes\"\u001b[0m \u001b[0;34m%\u001b[0m \u001b[0mself\u001b[0m\u001b[0;34m.\u001b[0m\u001b[0mmaxline\u001b[0m\u001b[0;34m)\u001b[0m\u001b[0;34m\u001b[0m\u001b[0;34m\u001b[0m\u001b[0m\n",
      "\u001b[0;32m~/anaconda3/envs/cov/lib/python3.8/socket.py\u001b[0m in \u001b[0;36mreadinto\u001b[0;34m(self, b)\u001b[0m\n\u001b[1;32m    667\u001b[0m         \u001b[0;32mwhile\u001b[0m \u001b[0;32mTrue\u001b[0m\u001b[0;34m:\u001b[0m\u001b[0;34m\u001b[0m\u001b[0;34m\u001b[0m\u001b[0m\n\u001b[1;32m    668\u001b[0m             \u001b[0;32mtry\u001b[0m\u001b[0;34m:\u001b[0m\u001b[0;34m\u001b[0m\u001b[0;34m\u001b[0m\u001b[0m\n\u001b[0;32m--> 669\u001b[0;31m                 \u001b[0;32mreturn\u001b[0m \u001b[0mself\u001b[0m\u001b[0;34m.\u001b[0m\u001b[0m_sock\u001b[0m\u001b[0;34m.\u001b[0m\u001b[0mrecv_into\u001b[0m\u001b[0;34m(\u001b[0m\u001b[0mb\u001b[0m\u001b[0;34m)\u001b[0m\u001b[0;34m\u001b[0m\u001b[0;34m\u001b[0m\u001b[0m\n\u001b[0m\u001b[1;32m    670\u001b[0m             \u001b[0;32mexcept\u001b[0m \u001b[0mtimeout\u001b[0m\u001b[0;34m:\u001b[0m\u001b[0;34m\u001b[0m\u001b[0;34m\u001b[0m\u001b[0m\n\u001b[1;32m    671\u001b[0m                 \u001b[0mself\u001b[0m\u001b[0;34m.\u001b[0m\u001b[0m_timeout_occurred\u001b[0m \u001b[0;34m=\u001b[0m \u001b[0;32mTrue\u001b[0m\u001b[0;34m\u001b[0m\u001b[0;34m\u001b[0m\u001b[0m\n",
      "\u001b[0;31mKeyboardInterrupt\u001b[0m: "
     ]
    }
   ],
   "source": [
    "# Set Representative Structures\n",
    "g.set_representative_structure()"
   ]
  },
  {
   "cell_type": "code",
   "execution_count": 28,
   "metadata": {
    "collapsed": true,
    "jupyter": {
     "outputs_hidden": true
    }
   },
   "outputs": [
    {
     "data": {
      "text/plain": [
       "['TM39B_HUMAN',\n",
       " 'PIGS_HUMAN',\n",
       " 'PLD3_HUMAN',\n",
       " 'PKHF2_HUMAN',\n",
       " 'DCAF7_HUMAN',\n",
       " 'FKBP7_HUMAN',\n",
       " 'PKHA5_HUMAN',\n",
       " 'PCSK6_HUMAN',\n",
       " 'GOGB1_HUMAN',\n",
       " 'AP3B1_HUMAN',\n",
       " 'ATE1_HUMAN',\n",
       " 'UBP54_HUMAN',\n",
       " 'ACSL3_HUMAN',\n",
       " 'NFIP2_HUMAN',\n",
       " 'INT4_HUMAN',\n",
       " 'CEP68_HUMAN',\n",
       " 'TRM1_HUMAN',\n",
       " 'NIN_HUMAN',\n",
       " 'DCAKD_HUMAN',\n",
       " 'MFGM_HUMAN',\n",
       " 'ZNT6_HUMAN',\n",
       " 'EDEM3_HUMAN',\n",
       " 'LYOX_HUMAN',\n",
       " 'MA7D1_HUMAN',\n",
       " 'GOGA7_HUMAN',\n",
       " 'WASC4_HUMAN',\n",
       " 'GOGA3_HUMAN',\n",
       " 'CRTC3_HUMAN',\n",
       " 'ZY11B_HUMAN',\n",
       " 'MOV10_HUMAN',\n",
       " 'CTL2_HUMAN',\n",
       " 'NINL_HUMAN',\n",
       " 'RBM41_HUMAN',\n",
       " 'GCC1_HUMAN',\n",
       " 'AAR2_HUMAN',\n",
       " 'FXL12_HUMAN',\n",
       " 'SYTM_HUMAN',\n",
       " 'STC2_HUMAN',\n",
       " 'SCRB1_HUMAN',\n",
       " 'ADAM9_HUMAN',\n",
       " 'BZW2_HUMAN',\n",
       " 'F162A_HUMAN',\n",
       " 'DCTP1_HUMAN',\n",
       " 'VPS39_HUMAN',\n",
       " 'GBG5_HUMAN',\n",
       " 'CCD86_HUMAN',\n",
       " 'GRAP1_HUMAN',\n",
       " 'ACAD9_HUMAN',\n",
       " 'TLE3_HUMAN',\n",
       " 'AKAP9_HUMAN',\n",
       " 'RADI_HUMAN',\n",
       " 'SYNM_HUMAN',\n",
       " 'CA050_HUMAN',\n",
       " 'MPPA_HUMAN',\n",
       " 'SIL1_HUMAN',\n",
       " 'INHBE_HUMAN',\n",
       " 'CHPF2_HUMAN',\n",
       " 'TIM8B_HUMAN',\n",
       " 'PKP2_HUMAN',\n",
       " 'NUP88_HUMAN',\n",
       " 'DJC11_HUMAN',\n",
       " 'ZN318_HUMAN',\n",
       " 'ERLEC_HUMAN',\n",
       " 'NGDN_HUMAN',\n",
       " 'TOM70_HUMAN',\n",
       " 'UBXN8_HUMAN',\n",
       " 'CK5P2_HUMAN',\n",
       " 'PABP4_HUMAN',\n",
       " 'AKAP8_HUMAN',\n",
       " 'GT251_HUMAN',\n",
       " 'UBAP2_HUMAN',\n",
       " 'LAR4B_HUMAN',\n",
       " 'NAT14_HUMAN',\n",
       " 'PCNT_HUMAN',\n",
       " 'SAAL1_HUMAN',\n",
       " 'SCPDL_HUMAN',\n",
       " 'CNTRL_HUMAN',\n",
       " 'DDX21_HUMAN',\n",
       " 'MYOME_HUMAN',\n",
       " 'RETR3_HUMAN',\n",
       " 'GPAA1_HUMAN',\n",
       " 'ECSIT_HUMAN',\n",
       " 'DDX10_HUMAN',\n",
       " 'FACR2_HUMAN',\n",
       " 'PIGO_HUMAN',\n",
       " 'VPS11_HUMAN',\n",
       " 'MDN1_HUMAN',\n",
       " 'ALG5_HUMAN',\n",
       " 'CENPF_HUMAN',\n",
       " 'ZCH18_HUMAN',\n",
       " 'G3BP2_HUMAN',\n",
       " 'FAKD5_HUMAN',\n",
       " 'CHSS2_HUMAN',\n",
       " 'JKIP1_HUMAN',\n",
       " 'PO210_HUMAN',\n",
       " 'CE112_HUMAN',\n",
       " 'GRPE1_HUMAN',\n",
       " 'ERO1B_HUMAN',\n",
       " 'REEP6_HUMAN',\n",
       " 'IF4H_HUMAN',\n",
       " 'S27A2_HUMAN',\n",
       " 'Z3H7A_HUMAN',\n",
       " 'NPTX1_HUMAN',\n",
       " 'CLIP4_HUMAN',\n",
       " 'HEAT3_HUMAN',\n",
       " 'CLCC1_HUMAN',\n",
       " 'CE350_HUMAN',\n",
       " 'COQ8B_HUMAN',\n",
       " 'GHITM_HUMAN',\n",
       " 'ZDHC5_HUMAN',\n",
       " 'FA8A1_HUMAN',\n",
       " 'QSOX2_HUMAN',\n",
       " 'FKB10_HUMAN',\n",
       " 'AT133_HUMAN',\n",
       " 'ALG11_HUMAN',\n",
       " 'VKGC_HUMAN',\n",
       " 'STOM_HUMAN',\n",
       " 'TBKB1_HUMAN',\n",
       " 'WFS1_HUMAN',\n",
       " 'SGMR2_HUMAN',\n",
       " 'TM2D3_HUMAN',\n",
       " 'SBNO1_HUMAN',\n",
       " 'ZNT7_HUMAN',\n",
       " 'TMED5_HUMAN',\n",
       " 'TYSD1_HUMAN',\n",
       " 'T10B_HUMAN',\n",
       " 'TIM14_HUMAN',\n",
       " 'SMOC1_HUMAN',\n",
       " 'UGGG2_HUMAN',\n",
       " 'TAPT1_HUMAN',\n",
       " 'PUSL1_HUMAN',\n",
       " 'CIA30_HUMAN',\n",
       " 'D19L1_HUMAN',\n",
       " 'FKB15_HUMAN',\n",
       " 'H6ST2_HUMAN',\n",
       " 'REEP5_HUMAN',\n",
       " 'CTRO_HUMAN',\n",
       " 'FXRD2_HUMAN',\n",
       " 'PLGT3_HUMAN',\n",
       " 'PLGT2_HUMAN',\n",
       " 'PLOD2_HUMAN',\n",
       " 'NOL10_HUMAN',\n",
       " 'FBLN5_HUMAN',\n",
       " 'MYCB2_HUMAN',\n",
       " 'ATP5L_HUMAN',\n",
       " 'TIM29_HUMAN',\n",
       " 'ZN503_HUMAN',\n",
       " 'CO6A1_HUMAN',\n",
       " 'SCAP_HUMAN',\n",
       " 'PDZ11_HUMAN',\n",
       " 'MPP10_HUMAN',\n",
       " 'NEUR1_HUMAN',\n",
       " 'TRI59_HUMAN',\n",
       " 'RB6I2_HUMAN',\n",
       " 'ALG8_HUMAN',\n",
       " 'CHM2A_HUMAN',\n",
       " 'ERMP1_HUMAN',\n",
       " 'MPPB_HUMAN',\n",
       " 'MIPO1_HUMAN',\n",
       " 'HOOK1_HUMAN',\n",
       " 'NDUF2_HUMAN',\n",
       " 'AKP8L_HUMAN',\n",
       " 'FA98A_HUMAN',\n",
       " 'MTCH1_HUMAN',\n",
       " 'STML2_HUMAN',\n",
       " 'TLE5_HUMAN',\n",
       " 'RBM28_HUMAN',\n",
       " 'ZNT9_HUMAN',\n",
       " 'ERGI1_HUMAN',\n",
       " 'EMC1_HUMAN',\n",
       " 'DPH5_HUMAN',\n",
       " 'CP250_HUMAN',\n",
       " 'UBP2L_HUMAN',\n",
       " 'SDF2_HUMAN',\n",
       " 'YIF1A_HUMAN',\n",
       " 'ODC_HUMAN',\n",
       " 'FBN2_HUMAN',\n",
       " 'HYOU1_HUMAN',\n",
       " 'PRC2B_HUMAN',\n",
       " 'AR6P6_HUMAN']"
      ]
     },
     "execution_count": 28,
     "metadata": {},
     "output_type": "execute_result"
    }
   ],
   "source": [
    "g.missing_pdb_structures"
   ]
  },
  {
   "cell_type": "code",
   "execution_count": 29,
   "metadata": {},
   "outputs": [
    {
     "data": {
      "text/plain": [
       "Index(['AASS_HUMAN', 'AASS_HUMAN', 'AASS_HUMAN', 'AATF_HUMAN', 'ACADM_HUMAN',\n",
       "       'ACADM_HUMAN', 'ACADM_HUMAN', 'ACADM_HUMAN', 'ACADM_HUMAN',\n",
       "       'ACADM_HUMAN',\n",
       "       ...\n",
       "       'TPA_HUMAN', 'TPA_HUMAN', 'TPA_HUMAN', 'TPA_HUMAN', 'TPA_HUMAN',\n",
       "       'TPA_HUMAN', 'TPA_HUMAN', 'U3IP2_HUMAN', 'U3IP2_HUMAN', 'UBP13_HUMAN'],\n",
       "      dtype='object', name='gene', length=2262)"
      ]
     },
     "execution_count": 29,
     "metadata": {},
     "output_type": "execute_result"
    }
   ],
   "source": [
    "g.df_pdb_ranking.index"
   ]
  },
  {
   "cell_type": "markdown",
   "metadata": {},
   "source": [
    "## Run Clus Pro"
   ]
  },
  {
   "cell_type": "code",
   "execution_count": 30,
   "metadata": {},
   "outputs": [],
   "source": [
    "import os\n",
    "import glob\n",
    "import time\n",
    "import cluspro_api\n",
    "from tqdm import tqdm"
   ]
  },
  {
   "cell_type": "code",
   "execution_count": 31,
   "metadata": {},
   "outputs": [
    {
     "data": {
      "text/html": [
       "<div>\n",
       "<style scoped>\n",
       "    .dataframe tbody tr th:only-of-type {\n",
       "        vertical-align: middle;\n",
       "    }\n",
       "\n",
       "    .dataframe tbody tr th {\n",
       "        vertical-align: top;\n",
       "    }\n",
       "\n",
       "    .dataframe thead th {\n",
       "        text-align: right;\n",
       "    }\n",
       "</style>\n",
       "<table border=\"1\" class=\"dataframe\">\n",
       "  <thead>\n",
       "    <tr style=\"text-align: right;\">\n",
       "      <th></th>\n",
       "      <th>Bait</th>\n",
       "      <th>Preys</th>\n",
       "      <th>PreyGene</th>\n",
       "      <th>MIST</th>\n",
       "      <th>Saint_BFDR</th>\n",
       "      <th>AvgSpec</th>\n",
       "      <th>FoldChange</th>\n",
       "      <th>Uniprot Protein ID</th>\n",
       "      <th>Uniprot Protein Description</th>\n",
       "      <th>Uniprot Function</th>\n",
       "      <th>Structures (PDB)</th>\n",
       "      <th>Uniprot Function in Disease</th>\n",
       "    </tr>\n",
       "  </thead>\n",
       "  <tbody>\n",
       "    <tr>\n",
       "      <th>1</th>\n",
       "      <td>SARS-CoV2 E</td>\n",
       "      <td>O60885</td>\n",
       "      <td>BRD4</td>\n",
       "      <td>0.978488</td>\n",
       "      <td>0.00</td>\n",
       "      <td>2.67</td>\n",
       "      <td>26.67</td>\n",
       "      <td>BRD4_HUMAN</td>\n",
       "      <td>Bromodomain-containing protein 4 (Protein HUNK1)</td>\n",
       "      <td>Chromatin reader protein that recognizes and ...</td>\n",
       "      <td>2I8N;2LSP;2MJV;2N3K;2NCZ;2ND0;2ND1;2NNU;2OSS;2...</td>\n",
       "      <td>Note=A chromosomal aberration involving BRD4 ...</td>\n",
       "    </tr>\n",
       "    <tr>\n",
       "      <th>2</th>\n",
       "      <td>SARS-CoV2 E</td>\n",
       "      <td>P25440</td>\n",
       "      <td>BRD2</td>\n",
       "      <td>0.906593</td>\n",
       "      <td>0.00</td>\n",
       "      <td>7.00</td>\n",
       "      <td>70.00</td>\n",
       "      <td>BRD2_HUMAN</td>\n",
       "      <td>Bromodomain-containing protein 2 (O27.1.1) (Re...</td>\n",
       "      <td>May play a role in spermatogenesis or follicu...</td>\n",
       "      <td>1X0J;2DVQ;2DVR;2DVS;2DVV;2E3K;2G4A;2YDW;2YEK;3...</td>\n",
       "      <td>NaN</td>\n",
       "    </tr>\n",
       "    <tr>\n",
       "      <th>3</th>\n",
       "      <td>SARS-CoV2 E</td>\n",
       "      <td>Q6UX04</td>\n",
       "      <td>CWC27</td>\n",
       "      <td>0.893109</td>\n",
       "      <td>0.03</td>\n",
       "      <td>2.67</td>\n",
       "      <td>26.67</td>\n",
       "      <td>CWC27_HUMAN</td>\n",
       "      <td>Spliceosome-associated protein CWC27 homolog (...</td>\n",
       "      <td>As part of the spliceosome, plays a role in p...</td>\n",
       "      <td>2HQ6;4R3E;5Z56;5Z58;6FF4;6FF7</td>\n",
       "      <td>Retinitis pigmentosa with or without skeletal...</td>\n",
       "    </tr>\n",
       "    <tr>\n",
       "      <th>9</th>\n",
       "      <td>SARS-CoV2 M</td>\n",
       "      <td>P11310</td>\n",
       "      <td>ACADM</td>\n",
       "      <td>0.724349</td>\n",
       "      <td>0.00</td>\n",
       "      <td>2.67</td>\n",
       "      <td>26.67</td>\n",
       "      <td>ACADM_HUMAN</td>\n",
       "      <td>Medium-chain specific acyl-CoA dehydrogenase, ...</td>\n",
       "      <td>Acyl-CoA dehydrogenase specific for acyl chai...</td>\n",
       "      <td>1EGC;1EGD;1EGE;1T9G;2A1T;4P13</td>\n",
       "      <td>Acyl-CoA dehydrogenase medium-chain deficienc...</td>\n",
       "    </tr>\n",
       "    <tr>\n",
       "      <th>10</th>\n",
       "      <td>SARS-CoV2 M</td>\n",
       "      <td>P13804</td>\n",
       "      <td>ETFA</td>\n",
       "      <td>0.718398</td>\n",
       "      <td>0.00</td>\n",
       "      <td>2.33</td>\n",
       "      <td>23.33</td>\n",
       "      <td>ETFA_HUMAN</td>\n",
       "      <td>Electron transfer flavoprotein subunit alpha, ...</td>\n",
       "      <td>Heterodimeric electron transfer flavoprotein ...</td>\n",
       "      <td>1EFV;1T9G;2A1T;2A1U</td>\n",
       "      <td>Glutaric aciduria 2A (GA2A) [MIM:231680]: An ...</td>\n",
       "    </tr>\n",
       "    <tr>\n",
       "      <th>...</th>\n",
       "      <td>...</td>\n",
       "      <td>...</td>\n",
       "      <td>...</td>\n",
       "      <td>...</td>\n",
       "      <td>...</td>\n",
       "      <td>...</td>\n",
       "      <td>...</td>\n",
       "      <td>...</td>\n",
       "      <td>...</td>\n",
       "      <td>...</td>\n",
       "      <td>...</td>\n",
       "      <td>...</td>\n",
       "    </tr>\n",
       "    <tr>\n",
       "      <th>305</th>\n",
       "      <td>SARS-CoV2 orf9b</td>\n",
       "      <td>Q9UL15</td>\n",
       "      <td>BAG5</td>\n",
       "      <td>0.864650</td>\n",
       "      <td>0.00</td>\n",
       "      <td>6.67</td>\n",
       "      <td>66.67</td>\n",
       "      <td>BAG5_HUMAN</td>\n",
       "      <td>BAG family molecular chaperone regulator 5 (BA...</td>\n",
       "      <td>Inhibits both auto-ubiquitination of PRKN and...</td>\n",
       "      <td>2D9D;3A8Y</td>\n",
       "      <td>NaN</td>\n",
       "    </tr>\n",
       "    <tr>\n",
       "      <th>309</th>\n",
       "      <td>SARS-CoV2 orf9c</td>\n",
       "      <td>P33527</td>\n",
       "      <td>ABCC1</td>\n",
       "      <td>0.780000</td>\n",
       "      <td>0.00</td>\n",
       "      <td>12.67</td>\n",
       "      <td>126.67</td>\n",
       "      <td>MRP1_HUMAN</td>\n",
       "      <td>Multidrug resistance-associated protein 1 (EC ...</td>\n",
       "      <td>Mediates export of organic anions and drugs f...</td>\n",
       "      <td>2CBZ;4C3Z</td>\n",
       "      <td>NaN</td>\n",
       "    </tr>\n",
       "    <tr>\n",
       "      <th>310</th>\n",
       "      <td>SARS-CoV2 orf9c</td>\n",
       "      <td>P55085</td>\n",
       "      <td>F2RL1</td>\n",
       "      <td>0.891879</td>\n",
       "      <td>0.00</td>\n",
       "      <td>3.67</td>\n",
       "      <td>36.67</td>\n",
       "      <td>PAR2_HUMAN</td>\n",
       "      <td>Proteinase-activated receptor 2 (PAR-2) (Coagu...</td>\n",
       "      <td>Receptor for trypsin and trypsin-like enzymes...</td>\n",
       "      <td>5NDD;5NDZ;5NJ6</td>\n",
       "      <td>NaN</td>\n",
       "    </tr>\n",
       "    <tr>\n",
       "      <th>317</th>\n",
       "      <td>SARS-CoV2 orf9c</td>\n",
       "      <td>Q86UT6</td>\n",
       "      <td>NLRX1</td>\n",
       "      <td>0.931986</td>\n",
       "      <td>0.00</td>\n",
       "      <td>11.67</td>\n",
       "      <td>116.67</td>\n",
       "      <td>NLRX1_HUMAN</td>\n",
       "      <td>NLR family member X1 (Caterpiller protein 11.3...</td>\n",
       "      <td>Participates in antiviral signaling. Acts as ...</td>\n",
       "      <td>3UN9</td>\n",
       "      <td>NaN</td>\n",
       "    </tr>\n",
       "    <tr>\n",
       "      <th>330</th>\n",
       "      <td>SARS-CoV2 orf9c</td>\n",
       "      <td>Q9Y6M9</td>\n",
       "      <td>NDUFB9</td>\n",
       "      <td>0.966178</td>\n",
       "      <td>0.04</td>\n",
       "      <td>2.33</td>\n",
       "      <td>23.33</td>\n",
       "      <td>NDUB9_HUMAN</td>\n",
       "      <td>NADH dehydrogenase [ubiquinone] 1 beta subcomp...</td>\n",
       "      <td>Accessory subunit of the mitochondrial membra...</td>\n",
       "      <td>5XTC;5XTD;5XTH;5XTI</td>\n",
       "      <td>Mitochondrial complex I deficiency, nuclear t...</td>\n",
       "    </tr>\n",
       "  </tbody>\n",
       "</table>\n",
       "<p>139 rows × 12 columns</p>\n",
       "</div>"
      ],
      "text/plain": [
       "                Bait   Preys PreyGene      MIST  Saint_BFDR  AvgSpec  \\\n",
       "1        SARS-CoV2 E  O60885     BRD4  0.978488        0.00     2.67   \n",
       "2        SARS-CoV2 E  P25440     BRD2  0.906593        0.00     7.00   \n",
       "3        SARS-CoV2 E  Q6UX04    CWC27  0.893109        0.03     2.67   \n",
       "9        SARS-CoV2 M  P11310    ACADM  0.724349        0.00     2.67   \n",
       "10       SARS-CoV2 M  P13804     ETFA  0.718398        0.00     2.33   \n",
       "..               ...     ...      ...       ...         ...      ...   \n",
       "305  SARS-CoV2 orf9b  Q9UL15     BAG5  0.864650        0.00     6.67   \n",
       "309  SARS-CoV2 orf9c  P33527    ABCC1  0.780000        0.00    12.67   \n",
       "310  SARS-CoV2 orf9c  P55085    F2RL1  0.891879        0.00     3.67   \n",
       "317  SARS-CoV2 orf9c  Q86UT6    NLRX1  0.931986        0.00    11.67   \n",
       "330  SARS-CoV2 orf9c  Q9Y6M9   NDUFB9  0.966178        0.04     2.33   \n",
       "\n",
       "     FoldChange Uniprot Protein ID  \\\n",
       "1         26.67         BRD4_HUMAN   \n",
       "2         70.00         BRD2_HUMAN   \n",
       "3         26.67        CWC27_HUMAN   \n",
       "9         26.67        ACADM_HUMAN   \n",
       "10        23.33         ETFA_HUMAN   \n",
       "..          ...                ...   \n",
       "305       66.67         BAG5_HUMAN   \n",
       "309      126.67         MRP1_HUMAN   \n",
       "310       36.67         PAR2_HUMAN   \n",
       "317      116.67        NLRX1_HUMAN   \n",
       "330       23.33        NDUB9_HUMAN   \n",
       "\n",
       "                           Uniprot Protein Description  \\\n",
       "1     Bromodomain-containing protein 4 (Protein HUNK1)   \n",
       "2    Bromodomain-containing protein 2 (O27.1.1) (Re...   \n",
       "3    Spliceosome-associated protein CWC27 homolog (...   \n",
       "9    Medium-chain specific acyl-CoA dehydrogenase, ...   \n",
       "10   Electron transfer flavoprotein subunit alpha, ...   \n",
       "..                                                 ...   \n",
       "305  BAG family molecular chaperone regulator 5 (BA...   \n",
       "309  Multidrug resistance-associated protein 1 (EC ...   \n",
       "310  Proteinase-activated receptor 2 (PAR-2) (Coagu...   \n",
       "317  NLR family member X1 (Caterpiller protein 11.3...   \n",
       "330  NADH dehydrogenase [ubiquinone] 1 beta subcomp...   \n",
       "\n",
       "                                      Uniprot Function  \\\n",
       "1     Chromatin reader protein that recognizes and ...   \n",
       "2     May play a role in spermatogenesis or follicu...   \n",
       "3     As part of the spliceosome, plays a role in p...   \n",
       "9     Acyl-CoA dehydrogenase specific for acyl chai...   \n",
       "10    Heterodimeric electron transfer flavoprotein ...   \n",
       "..                                                 ...   \n",
       "305   Inhibits both auto-ubiquitination of PRKN and...   \n",
       "309   Mediates export of organic anions and drugs f...   \n",
       "310   Receptor for trypsin and trypsin-like enzymes...   \n",
       "317   Participates in antiviral signaling. Acts as ...   \n",
       "330   Accessory subunit of the mitochondrial membra...   \n",
       "\n",
       "                                      Structures (PDB)  \\\n",
       "1    2I8N;2LSP;2MJV;2N3K;2NCZ;2ND0;2ND1;2NNU;2OSS;2...   \n",
       "2    1X0J;2DVQ;2DVR;2DVS;2DVV;2E3K;2G4A;2YDW;2YEK;3...   \n",
       "3                        2HQ6;4R3E;5Z56;5Z58;6FF4;6FF7   \n",
       "9                        1EGC;1EGD;1EGE;1T9G;2A1T;4P13   \n",
       "10                                 1EFV;1T9G;2A1T;2A1U   \n",
       "..                                                 ...   \n",
       "305                                          2D9D;3A8Y   \n",
       "309                                          2CBZ;4C3Z   \n",
       "310                                     5NDD;5NDZ;5NJ6   \n",
       "317                                               3UN9   \n",
       "330                                5XTC;5XTD;5XTH;5XTI   \n",
       "\n",
       "                           Uniprot Function in Disease  \n",
       "1     Note=A chromosomal aberration involving BRD4 ...  \n",
       "2                                                  NaN  \n",
       "3     Retinitis pigmentosa with or without skeletal...  \n",
       "9     Acyl-CoA dehydrogenase medium-chain deficienc...  \n",
       "10    Glutaric aciduria 2A (GA2A) [MIM:231680]: An ...  \n",
       "..                                                 ...  \n",
       "305                                                NaN  \n",
       "309                                                NaN  \n",
       "310                                                NaN  \n",
       "317                                                NaN  \n",
       "330   Mitochondrial complex I deficiency, nuclear t...  \n",
       "\n",
       "[139 rows x 12 columns]"
      ]
     },
     "execution_count": 31,
     "metadata": {},
     "output_type": "execute_result"
    }
   ],
   "source": [
    "interactions_with_available_structures = df.loc[df['Uniprot Protein ID'].isin(g.df_pdb_ranking.index)]\n",
    "interactions_with_available_structures"
   ]
  },
  {
   "cell_type": "code",
   "execution_count": 32,
   "metadata": {},
   "outputs": [
    {
     "data": {
      "text/plain": [
       "array(['SARS-CoV2 E', 'SARS-CoV2 M', 'SARS-CoV2 N', 'SARS-CoV2 Spike',\n",
       "       'SARS-CoV2 nsp1', 'SARS-CoV2 nsp10', 'SARS-CoV2 nsp11',\n",
       "       'SARS-CoV2 nsp12', 'SARS-CoV2 nsp13', 'SARS-CoV2 nsp14',\n",
       "       'SARS-CoV2 nsp15', 'SARS-CoV2 nsp2', 'SARS-CoV2 nsp4',\n",
       "       'SARS-CoV2 nsp5', 'SARS-CoV2 nsp5_C145A', 'SARS-CoV2 nsp6',\n",
       "       'SARS-CoV2 nsp7', 'SARS-CoV2 nsp8', 'SARS-CoV2 nsp9',\n",
       "       'SARS-CoV2 orf10', 'SARS-CoV2 orf3a', 'SARS-CoV2 orf3b',\n",
       "       'SARS-CoV2 orf6', 'SARS-CoV2 orf7a', 'SARS-CoV2 orf8',\n",
       "       'SARS-CoV2 orf9b', 'SARS-CoV2 orf9c'], dtype=object)"
      ]
     },
     "execution_count": 32,
     "metadata": {},
     "output_type": "execute_result"
    }
   ],
   "source": [
    "df['Bait'].unique()"
   ]
  },
  {
   "cell_type": "code",
   "execution_count": 33,
   "metadata": {},
   "outputs": [],
   "source": [
    "korkin_dict = {'SARS-CoV2 E': 'wE-',\n",
    "              'SARS-CoV2 M': 'wM-',\n",
    "              'SARS-CoV2 N': 'wN-',\n",
    "              'SARS-CoV2 Spike': 'wS-', \n",
    "              'SARS-CoV2 nsp1': 'wNsp1-',\n",
    "              'SARS-CoV2 nsp10': 'wNsp10-', \n",
    "              'SARS-CoV2 nsp11': 'wNsp11-', \n",
    "              'SARS-CoV2 nsp12': 'wNsp12-', \n",
    "              'SARS-CoV2 nsp13': 'wNsp13-', \n",
    "              'SARS-CoV2 nsp14': 'wNsp14-', \n",
    "              'SARS-CoV2 nsp15': 'wNsp15-', \n",
    "              'SARS-CoV2 nsp2': 'wNsp2-',\n",
    "              'SARS-CoV2 nsp4': 'wNsp4-',\n",
    "              'SARS-CoV2 nsp5': 'wNsp5-', \n",
    "              'SARS-CoV2 nsp5_C145A': 'wNsp5-', \n",
    "              'SARS-CoV2 nsp6': 'wNsp6-',\n",
    "              'SARS-CoV2 nsp7': 'wNsp7-', \n",
    "              'SARS-CoV2 nsp8': 'wNsp8-', \n",
    "              'SARS-CoV2 nsp9': 'wNsp9-',\n",
    "              'SARS-CoV2 orf10': 'wORF10-', \n",
    "              'SARS-CoV2 orf3a': 'wORF3a-', \n",
    "              'SARS-CoV2 orf3b': 'wORF3b-',  \n",
    "              'SARS-CoV2 orf6': 'wORF6-',\n",
    "              'SARS-CoV2 orf7a': 'wORF7a-',\n",
    "              'SARS-CoV2 orf8': 'wORF8-',\n",
    "              'SARS-CoV2 orf9b': 'wORF9b-',\n",
    "              'SARS-CoV2 orf9c': 'wORF9c-'\n",
    "              }     \n",
    "\n",
    "modeller_dict = {'SARS-CoV2 E': 'wE-',\n",
    "              'SARS-CoV2 M': 'wM-',\n",
    "              'SARS-CoV2 N': 'Nucleoprotein',\n",
    "              'SARS-CoV2 Spike': 'wS-', \n",
    "              'SARS-CoV2 nsp1': 'nsp1',\n",
    "              'SARS-CoV2 nsp10': 'wNsp10-', \n",
    "              'SARS-CoV2 nsp11': 'wNsp11-', \n",
    "              'SARS-CoV2 nsp12': 'wNsp12-', \n",
    "              'SARS-CoV2 nsp13': 'helicase', \n",
    "              'SARS-CoV2 nsp14': 'Guanine-N7', \n",
    "              'SARS-CoV2 nsp15': 'wNsp15-', \n",
    "              'SARS-CoV2 nsp2': 'nsp2',\n",
    "              'SARS-CoV2 nsp4': 'nsp4',\n",
    "              'SARS-CoV2 nsp5': 'wNsp5-', \n",
    "              'SARS-CoV2 nsp5_C145A': 'wNsp5-', \n",
    "              'SARS-CoV2 nsp6': 'nsp6',\n",
    "              'SARS-CoV2 nsp7': 'wNsp7-', \n",
    "              'SARS-CoV2 nsp8': 'wNsp8-', \n",
    "              'SARS-CoV2 nsp9': 'wNsp9-',\n",
    "              'SARS-CoV2 orf10': 'ORF10', \n",
    "              'SARS-CoV2 orf3a': 'RORF3a', \n",
    "              'SARS-CoV2 orf3b': 'ORF3b-',  \n",
    "              'SARS-CoV2 orf6': 'ORF6',\n",
    "              'SARS-CoV2 orf7a': 'ORF7a',\n",
    "              'SARS-CoV2 orf8': 'wORF8-',\n",
    "              'SARS-CoV2 orf9b': 'wORF9b-',\n",
    "              'SARS-CoV2 orf9c': 'wORF9c-'}\n",
    "alpha_fold_dict = {}\n",
    "\n",
    "sars_structure_path = '../structures/korkin_lab/IndividualModels/'"
   ]
  },
  {
   "cell_type": "code",
   "execution_count": 24,
   "metadata": {},
   "outputs": [
    {
     "name": "stderr",
     "output_type": "stream",
     "text": [
      "Empty dataframe\n"
     ]
    },
    {
     "data": {
      "text/html": [
       "<div>\n",
       "<style scoped>\n",
       "    .dataframe tbody tr th:only-of-type {\n",
       "        vertical-align: middle;\n",
       "    }\n",
       "\n",
       "    .dataframe tbody tr th {\n",
       "        vertical-align: top;\n",
       "    }\n",
       "\n",
       "    .dataframe thead th {\n",
       "        text-align: right;\n",
       "    }\n",
       "</style>\n",
       "<table border=\"1\" class=\"dataframe\">\n",
       "  <thead>\n",
       "    <tr style=\"text-align: right;\">\n",
       "      <th></th>\n",
       "    </tr>\n",
       "  </thead>\n",
       "  <tbody>\n",
       "  </tbody>\n",
       "</table>\n",
       "</div>"
      ],
      "text/plain": [
       "Empty DataFrame\n",
       "Columns: []\n",
       "Index: []"
      ]
     },
     "execution_count": 24,
     "metadata": {},
     "output_type": "execute_result"
    }
   ],
   "source": [
    "g.df_pdb_ranking"
   ]
  },
  {
   "cell_type": "code",
   "execution_count": 184,
   "metadata": {
    "collapsed": true,
    "jupyter": {
     "outputs_hidden": true,
     "source_hidden": true
    },
    "scrolled": true
   },
   "outputs": [
    {
     "name": "stdout",
     "output_type": "stream",
     "text": [
      "cluspro_submit --receptor ../structures/korkin_lab/IndividualModels/wE-5x29A.pdb --ligpdb 6dne --username arian --secret 4HBSKRtJ\n",
      "cluspro_submit --receptor ../structures/korkin_lab/IndividualModels/wE-5x29A.pdb --ligpdb 4uyg --username arian --secret 4HBSKRtJ\n",
      "cluspro_submit --receptor ../structures/korkin_lab/IndividualModels/wE-5x29A.pdb --ligpdb 6ff4 --username arian --secret 4HBSKRtJ\n",
      "cluspro_submit --receptor ../structures/korkin_lab/IndividualModels/wN-Nterminal_domain-1ssk_4ud1A.pdb --ligpdb 4jxm --username arian --secret 4HBSKRtJ\n",
      "cluspro_submit --receptor ../structures/korkin_lab/IndividualModels/wN-Nterminal_domain-1ssk_4ud1A.pdb --ligpdb 4f02 --username arian --secret 4HBSKRtJ\n",
      "cluspro_submit --receptor ../structures/korkin_lab/IndividualModels/wN-Nterminal_domain-1ssk_4ud1A.pdb --ligpdb 6hmd --username arian --secret 4HBSKRtJ\n",
      "cluspro_submit --receptor ../structures/korkin_lab/IndividualModels/wN-Nterminal_domain-1ssk_4ud1A.pdb --ligpdb 4dgl --username arian --secret 4HBSKRtJ\n",
      "cluspro_submit --receptor ../structures/korkin_lab/IndividualModels/wN-Nterminal_domain-1ssk_4ud1A.pdb --ligpdb 4fcj --username arian --secret 4HBSKRtJ\n",
      "cluspro_submit --receptor ../structures/korkin_lab/IndividualModels/wN-Nterminal_domain-1ssk_4ud1A.pdb --ligpdb 5v87 --username arian --secret 4HBSKRtJ\n",
      "cluspro_submit --receptor ../structures/korkin_lab/IndividualModels/wN-Nterminal_domain-1ssk_4ud1A.pdb --ligpdb 6ff7 --username arian --secret 4HBSKRtJ\n",
      "cluspro_submit --receptor ../structures/korkin_lab/IndividualModels/wN-Nterminal_domain-1ssk_4ud1A.pdb --ligpdb 2wjy --username arian --secret 4HBSKRtJ\n",
      "cluspro_submit --receptor ../structures/korkin_lab/IndividualModels/wN-Nterminal_domain-1ssk_4ud1A.pdb --ligpdb 6ek0 --username arian --secret 4HBSKRtJ\n",
      "cluspro_submit --receptor ../structures/korkin_lab/IndividualModels/wNsp1-2hsxA.pdb --ligpdb 5exr --username arian --secret 4HBSKRtJ\n",
      "cluspro_submit --receptor ../structures/korkin_lab/IndividualModels/wNsp1-2hsxA.pdb --ligpdb 4mhq --username arian --secret 4HBSKRtJ\n",
      "cluspro_submit --receptor ../structures/korkin_lab/IndividualModels/wNsp1-2hsxA.pdb --ligpdb 4rr2 --username arian --secret 4HBSKRtJ\n",
      "cluspro_submit --receptor ../structures/korkin_lab/IndividualModels/wNsp1-2hsxA.pdb --ligpdb 4y97 --username arian --secret 4HBSKRtJ\n",
      "cluspro_submit --receptor ../structures/korkin_lab/IndividualModels/wNsp10-2g9tA.pdb --ligpdb 3mbg --username arian --secret 4HBSKRtJ\n",
      "cluspro_submit --receptor ../structures/korkin_lab/IndividualModels/wNsp10-2g9tA.pdb --ligpdb 6bnt --username arian --secret 4HBSKRtJ\n",
      "cluspro_submit --receptor ../structures/korkin_lab/IndividualModels/wNsp12-6nurA.pdb --ligpdb 6icz --username arian --secret 4HBSKRtJ\n",
      "cluspro_submit --receptor ../structures/korkin_lab/IndividualModels/wNsp12-6nurA.pdb --ligpdb 4neu --username arian --secret 4HBSKRtJ\n",
      "cluspro_submit --receptor ../structures/korkin_lab/IndividualModels/wNsp12-6nurA.pdb --ligpdb 4jol --username arian --secret 4HBSKRtJ\n",
      "cluspro_submit --receptor ../structures/korkin_lab/IndividualModels/wNsp12-6nurA.pdb --ligpdb 2ok3 --username arian --secret 4HBSKRtJ\n",
      "cluspro_submit --receptor ../structures/korkin_lab/IndividualModels/wNsp13-6jytA.pdb --ligpdb 3ci9 --username arian --secret 4HBSKRtJ\n",
      "cluspro_submit --receptor ../structures/korkin_lab/IndividualModels/wNsp13-6jytA.pdb --ligpdb 2d68 --username arian --secret 4HBSKRtJ\n",
      "cluspro_submit --receptor ../structures/korkin_lab/IndividualModels/wNsp13-6jytA.pdb --ligpdb 5h78 --username arian --secret 4HBSKRtJ\n",
      "cluspro_submit --receptor ../structures/korkin_lab/IndividualModels/wNsp13-6jytA.pdb --ligpdb 3ovv --username arian --secret 4HBSKRtJ\n",
      "cluspro_submit --receptor ../structures/korkin_lab/IndividualModels/wNsp13-6jytA.pdb --ligpdb 1gxr --username arian --secret 4HBSKRtJ\n",
      "cluspro_submit --receptor ../structures/korkin_lab/IndividualModels/wNsp13-6jytA.pdb --ligpdb 6iw8 --username arian --secret 4HBSKRtJ\n",
      "cluspro_submit --receptor ../structures/korkin_lab/IndividualModels/wNsp13-6jytA.pdb --ligpdb 5fcn --username arian --secret 4HBSKRtJ\n",
      "cluspro_submit --receptor ../structures/korkin_lab/IndividualModels/wNsp13-6jytA.pdb --ligpdb 3bbp --username arian --secret 4HBSKRtJ\n",
      "cluspro_submit --receptor ../structures/korkin_lab/IndividualModels/wNsp13-6jytA.pdb --ligpdb 2l80 --username arian --secret 4HBSKRtJ\n",
      "cluspro_submit --receptor ../structures/korkin_lab/IndividualModels/wNsp13-6jytA.pdb --ligpdb 6g8t --username arian --secret 4HBSKRtJ\n",
      "cluspro_submit --receptor ../structures/korkin_lab/IndividualModels/wNsp13-6jytA.pdb --ligpdb 5cx3 --username arian --secret 4HBSKRtJ\n",
      "cluspro_submit --receptor ../structures/korkin_lab/IndividualModels/wNsp13-6jytA.pdb --ligpdb 6nt9 --username arian --secret 4HBSKRtJ\n",
      "cluspro_submit --receptor ../structures/korkin_lab/IndividualModels/wNsp14-5c8uB.pdb --ligpdb 3hg3 --username arian --secret 4HBSKRtJ\n",
      "cluspro_submit --receptor ../structures/korkin_lab/IndividualModels/wNsp14-5c8uB.pdb --ligpdb 6i0m --username arian --secret 4HBSKRtJ\n",
      "cluspro_submit --receptor ../structures/korkin_lab/IndividualModels/wNsp14-5c8uB.pdb --ligpdb 5bwl --username arian --secret 4HBSKRtJ\n",
      "cluspro_submit --receptor ../structures/korkin_lab/IndividualModels/wNsp15-2h85A.pdb --ligpdb 1gy5 --username arian --secret 4HBSKRtJ\n",
      "cluspro_submit --receptor ../structures/korkin_lab/IndividualModels/wNsp15-2h85A.pdb --ligpdb 2a5d --username arian --secret 4HBSKRtJ\n",
      "cluspro_submit --receptor ../structures/korkin_lab/IndividualModels/wNsp15-2h85A.pdb --ligpdb 2gwf --username arian --secret 4HBSKRtJ\n",
      "cluspro_submit --receptor ../structures/korkin_lab/IndividualModels/wNsp4-3vc8A.pdb --ligpdb 2wk3 --username arian --secret 4HBSKRtJ\n",
      "cluspro_submit --receptor ../structures/korkin_lab/IndividualModels/wNsp4-3vc8A.pdb --ligpdb 2bsk --username arian --secret 4HBSKRtJ\n",
      "cluspro_submit --receptor ../structures/korkin_lab/IndividualModels/wNsp4-3vc8A.pdb --ligpdb 2bsk --username arian --secret 4HBSKRtJ\n",
      "cluspro_submit --receptor ../structures/korkin_lab/IndividualModels/wNsp7-1ysyA.pdb --ligpdb 3ner --username arian --secret 4HBSKRtJ\n",
      "cluspro_submit --receptor ../structures/korkin_lab/IndividualModels/wNsp7-1ysyA.pdb --ligpdb 1umk --username arian --secret 4HBSKRtJ\n",
      "cluspro_submit --receptor ../structures/korkin_lab/IndividualModels/wNsp7-1ysyA.pdb --ligpdb 2bov --username arian --secret 4HBSKRtJ\n",
      "cluspro_submit --receptor ../structures/korkin_lab/IndividualModels/wNsp7-1ysyA.pdb --ligpdb 4pyi --username arian --secret 4HBSKRtJ\n",
      "cluspro_submit --receptor ../structures/korkin_lab/IndividualModels/wNsp7-1ysyA.pdb --ligpdb 4kyi --username arian --secret 4HBSKRtJ\n",
      "cluspro_submit --receptor ../structures/korkin_lab/IndividualModels/wNsp7-1ysyA.pdb --ligpdb 1t91 --username arian --secret 4HBSKRtJ\n",
      "cluspro_submit --receptor ../structures/korkin_lab/IndividualModels/wNsp7-1ysyA.pdb --ligpdb 5szi --username arian --secret 4HBSKRtJ\n",
      "cluspro_submit --receptor ../structures/korkin_lab/IndividualModels/wNsp7-1ysyA.pdb --ligpdb 1z0a --username arian --secret 4HBSKRtJ\n",
      "cluspro_submit --receptor ../structures/korkin_lab/IndividualModels/wNsp7-1ysyA.pdb --ligpdb 5szj --username arian --secret 4HBSKRtJ\n",
      "cluspro_submit --receptor ../structures/korkin_lab/IndividualModels/wNsp7-1ysyA.pdb --ligpdb 4drz --username arian --secret 4HBSKRtJ\n",
      "cluspro_submit --receptor ../structures/korkin_lab/IndividualModels/wNsp7-1ysyA.pdb --ligpdb 5c4m --username arian --secret 4HBSKRtJ\n",
      "cluspro_submit --receptor ../structures/korkin_lab/IndividualModels/wNsp7-1ysyA.pdb --ligpdb 3tkl --username arian --secret 4HBSKRtJ\n",
      "cluspro_submit --receptor ../structures/korkin_lab/IndividualModels/wNsp7-1ysyA.pdb --ligpdb 4pnk --username arian --secret 4HBSKRtJ\n",
      "cluspro_submit --receptor ../structures/korkin_lab/IndividualModels/wNsp7-1ysyA.pdb --ligpdb 4tvs --username arian --secret 4HBSKRtJ\n",
      "cluspro_submit --receptor ../structures/korkin_lab/IndividualModels/wNsp7-1ysyA.pdb --ligpdb 6fw2 --username arian --secret 4HBSKRtJ\n",
      "cluspro_submit --receptor ../structures/korkin_lab/IndividualModels/wNsp7-1ysyA.pdb --ligpdb 5kiw --username arian --secret 4HBSKRtJ\n",
      "cluspro_submit --receptor ../structures/korkin_lab/IndividualModels/wNsp7-1ysyA.pdb --ligpdb 1x3s --username arian --secret 4HBSKRtJ\n",
      "cluspro_submit --receptor ../structures/korkin_lab/IndividualModels/wNsp8-6nurA.pdb --ligpdb 5wrw --username arian --secret 4HBSKRtJ\n",
      "cluspro_submit --receptor ../structures/korkin_lab/IndividualModels/wNsp8-6nurA.pdb --ligpdb 5lsu --username arian --secret 4HBSKRtJ\n",
      "cluspro_submit --receptor ../structures/korkin_lab/IndividualModels/wNsp8-6nurA.pdb --ligpdb 1jid --username arian --secret 4HBSKRtJ\n",
      "cluspro_submit --receptor ../structures/korkin_lab/IndividualModels/wNsp8-6nurA.pdb --ligpdb 5l3q --username arian --secret 4HBSKRtJ\n",
      "cluspro_submit --receptor ../structures/korkin_lab/IndividualModels/wNsp8-6nurA.pdb --ligpdb 3j9m --username arian --secret 4HBSKRtJ\n",
      "cluspro_submit --receptor ../structures/korkin_lab/IndividualModels/wNsp8-6nurA.pdb --ligpdb 4wkr --username arian --secret 4HBSKRtJ\n",
      "cluspro_submit --receptor ../structures/korkin_lab/IndividualModels/wNsp8-6nurA.pdb --ligpdb 6dcc --username arian --secret 4HBSKRtJ\n",
      "cluspro_submit --receptor ../structures/korkin_lab/IndividualModels/wNsp8-6nurA.pdb --ligpdb 2nn6 --username arian --secret 4HBSKRtJ\n",
      "cluspro_submit --receptor ../structures/korkin_lab/IndividualModels/wNsp8-6nurA.pdb --ligpdb 4zdl --username arian --secret 4HBSKRtJ\n",
      "cluspro_submit --receptor ../structures/korkin_lab/IndividualModels/wNsp8-6nurA.pdb --ligpdb 2nn6 --username arian --secret 4HBSKRtJ\n",
      "cluspro_submit --receptor ../structures/korkin_lab/IndividualModels/wNsp8-6nurA.pdb --ligpdb 2nn6 --username arian --secret 4HBSKRtJ\n",
      "cluspro_submit --receptor ../structures/korkin_lab/IndividualModels/wNsp8-6nurA.pdb --ligpdb 5w6a --username arian --secret 4HBSKRtJ\n",
      "cluspro_submit --receptor ../structures/korkin_lab/IndividualModels/wNsp8-6nurA.pdb --ligpdb 2dk3 --username arian --secret 4HBSKRtJ\n",
      "cluspro_submit --receptor ../structures/korkin_lab/IndividualModels/wNsp8-6nurA.pdb --ligpdb 3j9m --username arian --secret 4HBSKRtJ\n",
      "cluspro_submit --receptor ../structures/korkin_lab/IndividualModels/wNsp8-6nurA.pdb --ligpdb 3j9m --username arian --secret 4HBSKRtJ\n",
      "cluspro_submit --receptor ../structures/korkin_lab/IndividualModels/wNsp8-6nurA.pdb --ligpdb 2nn6 --username arian --secret 4HBSKRtJ\n",
      "cluspro_submit --receptor ../structures/korkin_lab/IndividualModels/wNsp8-6nurA.pdb --ligpdb 3j9m --username arian --secret 4HBSKRtJ\n",
      "cluspro_submit --receptor ../structures/korkin_lab/IndividualModels/wNsp9-3ee7.pdb --ligpdb 5iyb --username arian --secret 4HBSKRtJ\n",
      "cluspro_submit --receptor ../structures/korkin_lab/IndividualModels/wNsp9-3ee7.pdb --ligpdb 1uzk --username arian --secret 4HBSKRtJ\n",
      "cluspro_submit --receptor ../structures/korkin_lab/IndividualModels/wNsp9-3ee7.pdb --ligpdb 3fmp --username arian --secret 4HBSKRtJ\n",
      "cluspro_submit --receptor ../structures/korkin_lab/IndividualModels/wNsp9-3ee7.pdb --ligpdb 5ijn --username arian --secret 4HBSKRtJ\n",
      "cluspro_submit --receptor ../structures/korkin_lab/IndividualModels/wNsp9-3ee7.pdb --ligpdb 5ijn --username arian --secret 4HBSKRtJ\n",
      "cluspro_submit --receptor ../structures/korkin_lab/IndividualModels/wNsp9-3ee7.pdb --ligpdb 4xi7 --username arian --secret 4HBSKRtJ\n",
      "cluspro_submit --receptor ../structures/korkin_lab/IndividualModels/wNsp9-3ee7.pdb --ligpdb 4u7i --username arian --secret 4HBSKRtJ\n",
      "cluspro_submit --receptor ../structures/korkin_lab/IndividualModels/wNsp9-3ee7.pdb --ligpdb 3zke --username arian --secret 4HBSKRtJ\n",
      "cluspro_submit --receptor ../structures/korkin_lab/IndividualModels/wNsp9-3ee7.pdb --ligpdb 5ijn --username arian --secret 4HBSKRtJ\n",
      "cluspro_submit --receptor ../structures/korkin_lab/IndividualModels/wNsp9-3ee7.pdb --ligpdb 4ndn --username arian --secret 4HBSKRtJ\n"
     ]
    },
    {
     "data": {
      "text/plain": [
       "['cluspro_submit --receptor ../structures/korkin_lab/IndividualModels/wE-5x29A.pdb --ligpdb 6dne --username arian --secret 4HBSKRtJ',\n",
       " 'cluspro_submit --receptor ../structures/korkin_lab/IndividualModels/wE-5x29A.pdb --ligpdb 4uyg --username arian --secret 4HBSKRtJ',\n",
       " 'cluspro_submit --receptor ../structures/korkin_lab/IndividualModels/wE-5x29A.pdb --ligpdb 6ff4 --username arian --secret 4HBSKRtJ',\n",
       " 'cluspro_submit --receptor ../structures/korkin_lab/IndividualModels/wN-Cterminal_domain-2jw8A.pdb --ligpdb 4jxm --username arian --secret 4HBSKRtJ',\n",
       " 'cluspro_submit --receptor ../structures/korkin_lab/IndividualModels/wN-Nterminal_domain-1ssk_4ud1A.pdb --ligpdb 4jxm --username arian --secret 4HBSKRtJ',\n",
       " 'cluspro_submit --receptor ../structures/korkin_lab/IndividualModels/wN-Cterminal_domain-2jw8A.pdb --ligpdb 4f02 --username arian --secret 4HBSKRtJ',\n",
       " 'cluspro_submit --receptor ../structures/korkin_lab/IndividualModels/wN-Nterminal_domain-1ssk_4ud1A.pdb --ligpdb 4f02 --username arian --secret 4HBSKRtJ',\n",
       " 'cluspro_submit --receptor ../structures/korkin_lab/IndividualModels/wN-Cterminal_domain-2jw8A.pdb --ligpdb 6hmd --username arian --secret 4HBSKRtJ',\n",
       " 'cluspro_submit --receptor ../structures/korkin_lab/IndividualModels/wN-Nterminal_domain-1ssk_4ud1A.pdb --ligpdb 6hmd --username arian --secret 4HBSKRtJ',\n",
       " 'cluspro_submit --receptor ../structures/korkin_lab/IndividualModels/wN-Cterminal_domain-2jw8A.pdb --ligpdb 4dgl --username arian --secret 4HBSKRtJ',\n",
       " 'cluspro_submit --receptor ../structures/korkin_lab/IndividualModels/wN-Nterminal_domain-1ssk_4ud1A.pdb --ligpdb 4dgl --username arian --secret 4HBSKRtJ',\n",
       " 'cluspro_submit --receptor ../structures/korkin_lab/IndividualModels/wN-Cterminal_domain-2jw8A.pdb --ligpdb 4fcj --username arian --secret 4HBSKRtJ',\n",
       " 'cluspro_submit --receptor ../structures/korkin_lab/IndividualModels/wN-Nterminal_domain-1ssk_4ud1A.pdb --ligpdb 4fcj --username arian --secret 4HBSKRtJ',\n",
       " 'cluspro_submit --receptor ../structures/korkin_lab/IndividualModels/wN-Cterminal_domain-2jw8A.pdb --ligpdb 5v87 --username arian --secret 4HBSKRtJ',\n",
       " 'cluspro_submit --receptor ../structures/korkin_lab/IndividualModels/wN-Nterminal_domain-1ssk_4ud1A.pdb --ligpdb 5v87 --username arian --secret 4HBSKRtJ',\n",
       " 'cluspro_submit --receptor ../structures/korkin_lab/IndividualModels/wN-Cterminal_domain-2jw8A.pdb --ligpdb 6ff7 --username arian --secret 4HBSKRtJ',\n",
       " 'cluspro_submit --receptor ../structures/korkin_lab/IndividualModels/wN-Nterminal_domain-1ssk_4ud1A.pdb --ligpdb 6ff7 --username arian --secret 4HBSKRtJ',\n",
       " 'cluspro_submit --receptor ../structures/korkin_lab/IndividualModels/wN-Cterminal_domain-2jw8A.pdb --ligpdb 2wjy --username arian --secret 4HBSKRtJ',\n",
       " 'cluspro_submit --receptor ../structures/korkin_lab/IndividualModels/wN-Nterminal_domain-1ssk_4ud1A.pdb --ligpdb 2wjy --username arian --secret 4HBSKRtJ',\n",
       " 'cluspro_submit --receptor ../structures/korkin_lab/IndividualModels/wN-Cterminal_domain-2jw8A.pdb --ligpdb 6ek0 --username arian --secret 4HBSKRtJ',\n",
       " 'cluspro_submit --receptor ../structures/korkin_lab/IndividualModels/wN-Nterminal_domain-1ssk_4ud1A.pdb --ligpdb 6ek0 --username arian --secret 4HBSKRtJ',\n",
       " 'cluspro_submit --receptor ../structures/korkin_lab/IndividualModels/wNsp1-2hsxA.pdb --ligpdb 5exr --username arian --secret 4HBSKRtJ',\n",
       " 'cluspro_submit --receptor ../structures/korkin_lab/IndividualModels/wNsp1-2hsxA.pdb --ligpdb 4mhq --username arian --secret 4HBSKRtJ',\n",
       " 'cluspro_submit --receptor ../structures/korkin_lab/IndividualModels/wNsp1-2hsxA.pdb --ligpdb 4rr2 --username arian --secret 4HBSKRtJ',\n",
       " 'cluspro_submit --receptor ../structures/korkin_lab/IndividualModels/wNsp1-2hsxA.pdb --ligpdb 4y97 --username arian --secret 4HBSKRtJ',\n",
       " 'cluspro_submit --receptor ../structures/korkin_lab/IndividualModels/wNsp10-2g9tA.pdb --ligpdb 3mbg --username arian --secret 4HBSKRtJ',\n",
       " 'cluspro_submit --receptor ../structures/korkin_lab/IndividualModels/wNsp10-2g9tA.pdb --ligpdb 6bnt --username arian --secret 4HBSKRtJ',\n",
       " 'cluspro_submit --receptor ../structures/korkin_lab/IndividualModels/wNsp12-6nurA.pdb --ligpdb 6icz --username arian --secret 4HBSKRtJ',\n",
       " 'cluspro_submit --receptor ../structures/korkin_lab/IndividualModels/wNsp12-6nurA.pdb --ligpdb 4neu --username arian --secret 4HBSKRtJ',\n",
       " 'cluspro_submit --receptor ../structures/korkin_lab/IndividualModels/wNsp12-6nurA.pdb --ligpdb 4jol --username arian --secret 4HBSKRtJ',\n",
       " 'cluspro_submit --receptor ../structures/korkin_lab/IndividualModels/wNsp12-6nurA.pdb --ligpdb 2ok3 --username arian --secret 4HBSKRtJ',\n",
       " 'cluspro_submit --receptor ../structures/korkin_lab/IndividualModels/wNsp13-6jytA.pdb --ligpdb 3ci9 --username arian --secret 4HBSKRtJ',\n",
       " 'cluspro_submit --receptor ../structures/korkin_lab/IndividualModels/wNsp13-6jytA.pdb --ligpdb 2d68 --username arian --secret 4HBSKRtJ',\n",
       " 'cluspro_submit --receptor ../structures/korkin_lab/IndividualModels/wNsp13-6jytA.pdb --ligpdb 5h78 --username arian --secret 4HBSKRtJ',\n",
       " 'cluspro_submit --receptor ../structures/korkin_lab/IndividualModels/wNsp13-6jytA.pdb --ligpdb 3ovv --username arian --secret 4HBSKRtJ',\n",
       " 'cluspro_submit --receptor ../structures/korkin_lab/IndividualModels/wNsp13-6jytA.pdb --ligpdb 1gxr --username arian --secret 4HBSKRtJ',\n",
       " 'cluspro_submit --receptor ../structures/korkin_lab/IndividualModels/wNsp13-6jytA.pdb --ligpdb 6iw8 --username arian --secret 4HBSKRtJ',\n",
       " 'cluspro_submit --receptor ../structures/korkin_lab/IndividualModels/wNsp13-6jytA.pdb --ligpdb 5fcn --username arian --secret 4HBSKRtJ',\n",
       " 'cluspro_submit --receptor ../structures/korkin_lab/IndividualModels/wNsp13-6jytA.pdb --ligpdb 3bbp --username arian --secret 4HBSKRtJ',\n",
       " 'cluspro_submit --receptor ../structures/korkin_lab/IndividualModels/wNsp13-6jytA.pdb --ligpdb 2l80 --username arian --secret 4HBSKRtJ',\n",
       " 'cluspro_submit --receptor ../structures/korkin_lab/IndividualModels/wNsp13-6jytA.pdb --ligpdb 6g8t --username arian --secret 4HBSKRtJ',\n",
       " 'cluspro_submit --receptor ../structures/korkin_lab/IndividualModels/wNsp13-6jytA.pdb --ligpdb 5cx3 --username arian --secret 4HBSKRtJ',\n",
       " 'cluspro_submit --receptor ../structures/korkin_lab/IndividualModels/wNsp13-6jytA.pdb --ligpdb 6nt9 --username arian --secret 4HBSKRtJ',\n",
       " 'cluspro_submit --receptor ../structures/korkin_lab/IndividualModels/wNsp14-5c8uB.pdb --ligpdb 3hg3 --username arian --secret 4HBSKRtJ',\n",
       " 'cluspro_submit --receptor ../structures/korkin_lab/IndividualModels/wNsp14-5c8uB.pdb --ligpdb 6i0m --username arian --secret 4HBSKRtJ',\n",
       " 'cluspro_submit --receptor ../structures/korkin_lab/IndividualModels/wNsp14-5c8uB.pdb --ligpdb 5bwl --username arian --secret 4HBSKRtJ',\n",
       " 'cluspro_submit --receptor ../structures/korkin_lab/IndividualModels/wNsp15-2h85A.pdb --ligpdb 1gy5 --username arian --secret 4HBSKRtJ',\n",
       " 'cluspro_submit --receptor ../structures/korkin_lab/IndividualModels/wNsp15-2h85A.pdb --ligpdb 2a5d --username arian --secret 4HBSKRtJ',\n",
       " 'cluspro_submit --receptor ../structures/korkin_lab/IndividualModels/wNsp15-2h85A.pdb --ligpdb 2gwf --username arian --secret 4HBSKRtJ',\n",
       " 'cluspro_submit --receptor ../structures/korkin_lab/IndividualModels/wNsp4-3vc8A.pdb --ligpdb 2wk3 --username arian --secret 4HBSKRtJ',\n",
       " 'cluspro_submit --receptor ../structures/korkin_lab/IndividualModels/wNsp4-3vc8A.pdb --ligpdb 2bsk --username arian --secret 4HBSKRtJ',\n",
       " 'cluspro_submit --receptor ../structures/korkin_lab/IndividualModels/wNsp4-3vc8A.pdb --ligpdb 2bsk --username arian --secret 4HBSKRtJ',\n",
       " 'cluspro_submit --receptor ../structures/korkin_lab/IndividualModels/wNsp7-1ysyA.pdb --ligpdb 3ner --username arian --secret 4HBSKRtJ',\n",
       " 'cluspro_submit --receptor ../structures/korkin_lab/IndividualModels/wNsp7-1ysyA.pdb --ligpdb 1umk --username arian --secret 4HBSKRtJ',\n",
       " 'cluspro_submit --receptor ../structures/korkin_lab/IndividualModels/wNsp7-1ysyA.pdb --ligpdb 2bov --username arian --secret 4HBSKRtJ',\n",
       " 'cluspro_submit --receptor ../structures/korkin_lab/IndividualModels/wNsp7-1ysyA.pdb --ligpdb 4pyi --username arian --secret 4HBSKRtJ',\n",
       " 'cluspro_submit --receptor ../structures/korkin_lab/IndividualModels/wNsp7-1ysyA.pdb --ligpdb 4kyi --username arian --secret 4HBSKRtJ',\n",
       " 'cluspro_submit --receptor ../structures/korkin_lab/IndividualModels/wNsp7-1ysyA.pdb --ligpdb 1t91 --username arian --secret 4HBSKRtJ',\n",
       " 'cluspro_submit --receptor ../structures/korkin_lab/IndividualModels/wNsp7-1ysyA.pdb --ligpdb 5szi --username arian --secret 4HBSKRtJ',\n",
       " 'cluspro_submit --receptor ../structures/korkin_lab/IndividualModels/wNsp7-1ysyA.pdb --ligpdb 1z0a --username arian --secret 4HBSKRtJ',\n",
       " 'cluspro_submit --receptor ../structures/korkin_lab/IndividualModels/wNsp7-1ysyA.pdb --ligpdb 5szj --username arian --secret 4HBSKRtJ',\n",
       " 'cluspro_submit --receptor ../structures/korkin_lab/IndividualModels/wNsp7-1ysyA.pdb --ligpdb 4drz --username arian --secret 4HBSKRtJ',\n",
       " 'cluspro_submit --receptor ../structures/korkin_lab/IndividualModels/wNsp7-1ysyA.pdb --ligpdb 5c4m --username arian --secret 4HBSKRtJ',\n",
       " 'cluspro_submit --receptor ../structures/korkin_lab/IndividualModels/wNsp7-1ysyA.pdb --ligpdb 3tkl --username arian --secret 4HBSKRtJ',\n",
       " 'cluspro_submit --receptor ../structures/korkin_lab/IndividualModels/wNsp7-1ysyA.pdb --ligpdb 4pnk --username arian --secret 4HBSKRtJ',\n",
       " 'cluspro_submit --receptor ../structures/korkin_lab/IndividualModels/wNsp7-1ysyA.pdb --ligpdb 4tvs --username arian --secret 4HBSKRtJ',\n",
       " 'cluspro_submit --receptor ../structures/korkin_lab/IndividualModels/wNsp7-1ysyA.pdb --ligpdb 6fw2 --username arian --secret 4HBSKRtJ',\n",
       " 'cluspro_submit --receptor ../structures/korkin_lab/IndividualModels/wNsp7-1ysyA.pdb --ligpdb 5kiw --username arian --secret 4HBSKRtJ',\n",
       " 'cluspro_submit --receptor ../structures/korkin_lab/IndividualModels/wNsp7-1ysyA.pdb --ligpdb 1x3s --username arian --secret 4HBSKRtJ',\n",
       " 'cluspro_submit --receptor ../structures/korkin_lab/IndividualModels/wNsp8-6nurA.pdb --ligpdb 5wrw --username arian --secret 4HBSKRtJ',\n",
       " 'cluspro_submit --receptor ../structures/korkin_lab/IndividualModels/wNsp8-6nurA.pdb --ligpdb 5lsu --username arian --secret 4HBSKRtJ',\n",
       " 'cluspro_submit --receptor ../structures/korkin_lab/IndividualModels/wNsp8-6nurA.pdb --ligpdb 1jid --username arian --secret 4HBSKRtJ',\n",
       " 'cluspro_submit --receptor ../structures/korkin_lab/IndividualModels/wNsp8-6nurA.pdb --ligpdb 5l3q --username arian --secret 4HBSKRtJ',\n",
       " 'cluspro_submit --receptor ../structures/korkin_lab/IndividualModels/wNsp8-6nurA.pdb --ligpdb 3j9m --username arian --secret 4HBSKRtJ',\n",
       " 'cluspro_submit --receptor ../structures/korkin_lab/IndividualModels/wNsp8-6nurA.pdb --ligpdb 4wkr --username arian --secret 4HBSKRtJ',\n",
       " 'cluspro_submit --receptor ../structures/korkin_lab/IndividualModels/wNsp8-6nurA.pdb --ligpdb 6dcc --username arian --secret 4HBSKRtJ',\n",
       " 'cluspro_submit --receptor ../structures/korkin_lab/IndividualModels/wNsp8-6nurA.pdb --ligpdb 2nn6 --username arian --secret 4HBSKRtJ',\n",
       " 'cluspro_submit --receptor ../structures/korkin_lab/IndividualModels/wNsp8-6nurA.pdb --ligpdb 4zdl --username arian --secret 4HBSKRtJ',\n",
       " 'cluspro_submit --receptor ../structures/korkin_lab/IndividualModels/wNsp8-6nurA.pdb --ligpdb 2nn6 --username arian --secret 4HBSKRtJ',\n",
       " 'cluspro_submit --receptor ../structures/korkin_lab/IndividualModels/wNsp8-6nurA.pdb --ligpdb 2nn6 --username arian --secret 4HBSKRtJ',\n",
       " 'cluspro_submit --receptor ../structures/korkin_lab/IndividualModels/wNsp8-6nurA.pdb --ligpdb 5w6a --username arian --secret 4HBSKRtJ',\n",
       " 'cluspro_submit --receptor ../structures/korkin_lab/IndividualModels/wNsp8-6nurA.pdb --ligpdb 2dk3 --username arian --secret 4HBSKRtJ',\n",
       " 'cluspro_submit --receptor ../structures/korkin_lab/IndividualModels/wNsp8-6nurA.pdb --ligpdb 3j9m --username arian --secret 4HBSKRtJ',\n",
       " 'cluspro_submit --receptor ../structures/korkin_lab/IndividualModels/wNsp8-6nurA.pdb --ligpdb 3j9m --username arian --secret 4HBSKRtJ',\n",
       " 'cluspro_submit --receptor ../structures/korkin_lab/IndividualModels/wNsp8-6nurA.pdb --ligpdb 2nn6 --username arian --secret 4HBSKRtJ',\n",
       " 'cluspro_submit --receptor ../structures/korkin_lab/IndividualModels/wNsp8-6nurA.pdb --ligpdb 3j9m --username arian --secret 4HBSKRtJ',\n",
       " 'cluspro_submit --receptor ../structures/korkin_lab/IndividualModels/wNsp9-3ee7.pdb --ligpdb 5iyb --username arian --secret 4HBSKRtJ',\n",
       " 'cluspro_submit --receptor ../structures/korkin_lab/IndividualModels/wNsp9-3ee7.pdb --ligpdb 1uzk --username arian --secret 4HBSKRtJ',\n",
       " 'cluspro_submit --receptor ../structures/korkin_lab/IndividualModels/wNsp9-3ee7.pdb --ligpdb 3fmp --username arian --secret 4HBSKRtJ',\n",
       " 'cluspro_submit --receptor ../structures/korkin_lab/IndividualModels/wNsp9-3ee7.pdb --ligpdb 5ijn --username arian --secret 4HBSKRtJ',\n",
       " 'cluspro_submit --receptor ../structures/korkin_lab/IndividualModels/wNsp9-3ee7.pdb --ligpdb 5ijn --username arian --secret 4HBSKRtJ',\n",
       " 'cluspro_submit --receptor ../structures/korkin_lab/IndividualModels/wNsp9-3ee7.pdb --ligpdb 4xi7 --username arian --secret 4HBSKRtJ',\n",
       " 'cluspro_submit --receptor ../structures/korkin_lab/IndividualModels/wNsp9-3ee7.pdb --ligpdb 4u7i --username arian --secret 4HBSKRtJ',\n",
       " 'cluspro_submit --receptor ../structures/korkin_lab/IndividualModels/wNsp9-3ee7.pdb --ligpdb 3zke --username arian --secret 4HBSKRtJ',\n",
       " 'cluspro_submit --receptor ../structures/korkin_lab/IndividualModels/wNsp9-3ee7.pdb --ligpdb 5ijn --username arian --secret 4HBSKRtJ',\n",
       " 'cluspro_submit --receptor ../structures/korkin_lab/IndividualModels/wNsp9-3ee7.pdb --ligpdb 4ndn --username arian --secret 4HBSKRtJ']"
      ]
     },
     "execution_count": 184,
     "metadata": {},
     "output_type": "execute_result"
    }
   ],
   "source": [
    "def create_cluspro_queries(interaction_df, human_protein_df, sars_mapping_dict, sars_structure_path):\n",
    "    query_list = []\n",
    "    \n",
    "    # Select best human protein structures\n",
    "    human_protein_df = human_protein_df.loc[human_protein_df['rank'] == 1]\n",
    "    \n",
    "    # Subset interaction df to available structures\n",
    "    sars_structure_files = [f for f in os.listdir(sars_structure_path) if f.endswith('.pdb')]\n",
    "        \n",
    "    # Maps SARS proteins to structures\n",
    "    mapping = [glob.glob(os.path.join(sars_structure_path, f + '*.pdb')) for f in interaction_df['Bait'].map(sars_mapping_dict)]\n",
    "    interaction_df['mapping'] = mapping\n",
    "    interaction_df = interaction_df[interaction_df['mapping'].map(lambda d: len(d)) > 0]\n",
    "    \n",
    "    \n",
    "    # Iterate over interaction pairs to construct queries\n",
    "    for row in range(len(interaction_df)):\n",
    "        interaction_pair = interaction_df.iloc[row]\n",
    "        \n",
    "        try:\n",
    "            human_protein = human_protein_df.loc[interaction_pair['Uniprot Protein ID']]['pdb_id']\n",
    "            \n",
    "            for mapping in interaction_pair['mapping']:\n",
    "                query = f'cluspro_submit --receptor {mapping} --ligpdb {human_protein} --username arian --secret 4HBSKRtJ'\n",
    "                #piper_qiery = \n",
    "                query_list.append(query)\n",
    "            print(query)\n",
    "        except:\n",
    "            continue\n",
    "            \n",
    "    return query_list\n",
    "                        \n",
    "    \n",
    "create_cluspro_queries(interaction_df=interactions_with_available_structures,\n",
    "                       human_protein_df=g.df_pdb_ranking,\n",
    "                       sars_mapping_dict=korkin_dict,\n",
    "                       sars_structure_path=sars_structure_path)"
   ]
  },
  {
   "cell_type": "code",
   "execution_count": 185,
   "metadata": {
    "collapsed": true,
    "jupyter": {
     "outputs_hidden": true,
     "source_hidden": true
    }
   },
   "outputs": [
    {
     "name": "stdout",
     "output_type": "stream",
     "text": [
      "cluspro_submit --receptor ../structures/korkin_lab/IndividualModels/wE-5x29A.pdb --ligpdb 6dne --username arian --secret 4HBSKRtJ\n",
      "cluspro_submit --receptor ../structures/korkin_lab/IndividualModels/wE-5x29A.pdb --ligpdb 4uyg --username arian --secret 4HBSKRtJ\n",
      "cluspro_submit --receptor ../structures/korkin_lab/IndividualModels/wE-5x29A.pdb --ligpdb 6ff4 --username arian --secret 4HBSKRtJ\n",
      "cluspro_submit --receptor ../structures/korkin_lab/IndividualModels/wN-Nterminal_domain-1ssk_4ud1A.pdb --ligpdb 4jxm --username arian --secret 4HBSKRtJ\n",
      "cluspro_submit --receptor ../structures/korkin_lab/IndividualModels/wN-Nterminal_domain-1ssk_4ud1A.pdb --ligpdb 4f02 --username arian --secret 4HBSKRtJ\n",
      "cluspro_submit --receptor ../structures/korkin_lab/IndividualModels/wN-Nterminal_domain-1ssk_4ud1A.pdb --ligpdb 6hmd --username arian --secret 4HBSKRtJ\n",
      "cluspro_submit --receptor ../structures/korkin_lab/IndividualModels/wN-Nterminal_domain-1ssk_4ud1A.pdb --ligpdb 4dgl --username arian --secret 4HBSKRtJ\n",
      "cluspro_submit --receptor ../structures/korkin_lab/IndividualModels/wN-Nterminal_domain-1ssk_4ud1A.pdb --ligpdb 4fcj --username arian --secret 4HBSKRtJ\n",
      "cluspro_submit --receptor ../structures/korkin_lab/IndividualModels/wN-Nterminal_domain-1ssk_4ud1A.pdb --ligpdb 5v87 --username arian --secret 4HBSKRtJ\n",
      "cluspro_submit --receptor ../structures/korkin_lab/IndividualModels/wN-Nterminal_domain-1ssk_4ud1A.pdb --ligpdb 6ff7 --username arian --secret 4HBSKRtJ\n",
      "cluspro_submit --receptor ../structures/korkin_lab/IndividualModels/wN-Nterminal_domain-1ssk_4ud1A.pdb --ligpdb 2wjy --username arian --secret 4HBSKRtJ\n",
      "cluspro_submit --receptor ../structures/korkin_lab/IndividualModels/wN-Nterminal_domain-1ssk_4ud1A.pdb --ligpdb 6ek0 --username arian --secret 4HBSKRtJ\n",
      "cluspro_submit --receptor ../structures/korkin_lab/IndividualModels/wNsp1-2hsxA.pdb --ligpdb 5exr --username arian --secret 4HBSKRtJ\n",
      "cluspro_submit --receptor ../structures/korkin_lab/IndividualModels/wNsp1-2hsxA.pdb --ligpdb 4mhq --username arian --secret 4HBSKRtJ\n",
      "cluspro_submit --receptor ../structures/korkin_lab/IndividualModels/wNsp1-2hsxA.pdb --ligpdb 4rr2 --username arian --secret 4HBSKRtJ\n",
      "cluspro_submit --receptor ../structures/korkin_lab/IndividualModels/wNsp1-2hsxA.pdb --ligpdb 4y97 --username arian --secret 4HBSKRtJ\n",
      "cluspro_submit --receptor ../structures/korkin_lab/IndividualModels/wNsp10-2g9tA.pdb --ligpdb 3mbg --username arian --secret 4HBSKRtJ\n",
      "cluspro_submit --receptor ../structures/korkin_lab/IndividualModels/wNsp10-2g9tA.pdb --ligpdb 6bnt --username arian --secret 4HBSKRtJ\n",
      "cluspro_submit --receptor ../structures/korkin_lab/IndividualModels/wNsp12-6nurA.pdb --ligpdb 6icz --username arian --secret 4HBSKRtJ\n",
      "cluspro_submit --receptor ../structures/korkin_lab/IndividualModels/wNsp12-6nurA.pdb --ligpdb 4neu --username arian --secret 4HBSKRtJ\n",
      "cluspro_submit --receptor ../structures/korkin_lab/IndividualModels/wNsp12-6nurA.pdb --ligpdb 4jol --username arian --secret 4HBSKRtJ\n",
      "cluspro_submit --receptor ../structures/korkin_lab/IndividualModels/wNsp12-6nurA.pdb --ligpdb 2ok3 --username arian --secret 4HBSKRtJ\n",
      "cluspro_submit --receptor ../structures/korkin_lab/IndividualModels/wNsp13-6jytA.pdb --ligpdb 3ci9 --username arian --secret 4HBSKRtJ\n",
      "cluspro_submit --receptor ../structures/korkin_lab/IndividualModels/wNsp13-6jytA.pdb --ligpdb 2d68 --username arian --secret 4HBSKRtJ\n",
      "cluspro_submit --receptor ../structures/korkin_lab/IndividualModels/wNsp13-6jytA.pdb --ligpdb 5h78 --username arian --secret 4HBSKRtJ\n",
      "cluspro_submit --receptor ../structures/korkin_lab/IndividualModels/wNsp13-6jytA.pdb --ligpdb 3ovv --username arian --secret 4HBSKRtJ\n",
      "cluspro_submit --receptor ../structures/korkin_lab/IndividualModels/wNsp13-6jytA.pdb --ligpdb 1gxr --username arian --secret 4HBSKRtJ\n",
      "cluspro_submit --receptor ../structures/korkin_lab/IndividualModels/wNsp13-6jytA.pdb --ligpdb 6iw8 --username arian --secret 4HBSKRtJ\n",
      "cluspro_submit --receptor ../structures/korkin_lab/IndividualModels/wNsp13-6jytA.pdb --ligpdb 5fcn --username arian --secret 4HBSKRtJ\n",
      "cluspro_submit --receptor ../structures/korkin_lab/IndividualModels/wNsp13-6jytA.pdb --ligpdb 3bbp --username arian --secret 4HBSKRtJ\n",
      "cluspro_submit --receptor ../structures/korkin_lab/IndividualModels/wNsp13-6jytA.pdb --ligpdb 2l80 --username arian --secret 4HBSKRtJ\n",
      "cluspro_submit --receptor ../structures/korkin_lab/IndividualModels/wNsp13-6jytA.pdb --ligpdb 6g8t --username arian --secret 4HBSKRtJ\n",
      "cluspro_submit --receptor ../structures/korkin_lab/IndividualModels/wNsp13-6jytA.pdb --ligpdb 5cx3 --username arian --secret 4HBSKRtJ\n",
      "cluspro_submit --receptor ../structures/korkin_lab/IndividualModels/wNsp13-6jytA.pdb --ligpdb 6nt9 --username arian --secret 4HBSKRtJ\n",
      "cluspro_submit --receptor ../structures/korkin_lab/IndividualModels/wNsp14-5c8uB.pdb --ligpdb 3hg3 --username arian --secret 4HBSKRtJ\n",
      "cluspro_submit --receptor ../structures/korkin_lab/IndividualModels/wNsp14-5c8uB.pdb --ligpdb 6i0m --username arian --secret 4HBSKRtJ\n",
      "cluspro_submit --receptor ../structures/korkin_lab/IndividualModels/wNsp14-5c8uB.pdb --ligpdb 5bwl --username arian --secret 4HBSKRtJ\n",
      "cluspro_submit --receptor ../structures/korkin_lab/IndividualModels/wNsp15-2h85A.pdb --ligpdb 1gy5 --username arian --secret 4HBSKRtJ\n",
      "cluspro_submit --receptor ../structures/korkin_lab/IndividualModels/wNsp15-2h85A.pdb --ligpdb 2a5d --username arian --secret 4HBSKRtJ\n",
      "cluspro_submit --receptor ../structures/korkin_lab/IndividualModels/wNsp15-2h85A.pdb --ligpdb 2gwf --username arian --secret 4HBSKRtJ\n",
      "cluspro_submit --receptor ../structures/korkin_lab/IndividualModels/wNsp4-3vc8A.pdb --ligpdb 2wk3 --username arian --secret 4HBSKRtJ\n",
      "cluspro_submit --receptor ../structures/korkin_lab/IndividualModels/wNsp4-3vc8A.pdb --ligpdb 2bsk --username arian --secret 4HBSKRtJ\n",
      "cluspro_submit --receptor ../structures/korkin_lab/IndividualModels/wNsp4-3vc8A.pdb --ligpdb 2bsk --username arian --secret 4HBSKRtJ\n",
      "cluspro_submit --receptor ../structures/korkin_lab/IndividualModels/wNsp7-1ysyA.pdb --ligpdb 3ner --username arian --secret 4HBSKRtJ\n",
      "cluspro_submit --receptor ../structures/korkin_lab/IndividualModels/wNsp7-1ysyA.pdb --ligpdb 1umk --username arian --secret 4HBSKRtJ\n",
      "cluspro_submit --receptor ../structures/korkin_lab/IndividualModels/wNsp7-1ysyA.pdb --ligpdb 2bov --username arian --secret 4HBSKRtJ\n",
      "cluspro_submit --receptor ../structures/korkin_lab/IndividualModels/wNsp7-1ysyA.pdb --ligpdb 4pyi --username arian --secret 4HBSKRtJ\n",
      "cluspro_submit --receptor ../structures/korkin_lab/IndividualModels/wNsp7-1ysyA.pdb --ligpdb 4kyi --username arian --secret 4HBSKRtJ\n",
      "cluspro_submit --receptor ../structures/korkin_lab/IndividualModels/wNsp7-1ysyA.pdb --ligpdb 1t91 --username arian --secret 4HBSKRtJ\n",
      "cluspro_submit --receptor ../structures/korkin_lab/IndividualModels/wNsp7-1ysyA.pdb --ligpdb 5szi --username arian --secret 4HBSKRtJ\n",
      "cluspro_submit --receptor ../structures/korkin_lab/IndividualModels/wNsp7-1ysyA.pdb --ligpdb 1z0a --username arian --secret 4HBSKRtJ\n",
      "cluspro_submit --receptor ../structures/korkin_lab/IndividualModels/wNsp7-1ysyA.pdb --ligpdb 5szj --username arian --secret 4HBSKRtJ\n",
      "cluspro_submit --receptor ../structures/korkin_lab/IndividualModels/wNsp7-1ysyA.pdb --ligpdb 4drz --username arian --secret 4HBSKRtJ\n",
      "cluspro_submit --receptor ../structures/korkin_lab/IndividualModels/wNsp7-1ysyA.pdb --ligpdb 5c4m --username arian --secret 4HBSKRtJ\n",
      "cluspro_submit --receptor ../structures/korkin_lab/IndividualModels/wNsp7-1ysyA.pdb --ligpdb 3tkl --username arian --secret 4HBSKRtJ\n",
      "cluspro_submit --receptor ../structures/korkin_lab/IndividualModels/wNsp7-1ysyA.pdb --ligpdb 4pnk --username arian --secret 4HBSKRtJ\n",
      "cluspro_submit --receptor ../structures/korkin_lab/IndividualModels/wNsp7-1ysyA.pdb --ligpdb 4tvs --username arian --secret 4HBSKRtJ\n",
      "cluspro_submit --receptor ../structures/korkin_lab/IndividualModels/wNsp7-1ysyA.pdb --ligpdb 6fw2 --username arian --secret 4HBSKRtJ\n",
      "cluspro_submit --receptor ../structures/korkin_lab/IndividualModels/wNsp7-1ysyA.pdb --ligpdb 5kiw --username arian --secret 4HBSKRtJ\n",
      "cluspro_submit --receptor ../structures/korkin_lab/IndividualModels/wNsp7-1ysyA.pdb --ligpdb 1x3s --username arian --secret 4HBSKRtJ\n",
      "cluspro_submit --receptor ../structures/korkin_lab/IndividualModels/wNsp8-6nurA.pdb --ligpdb 5wrw --username arian --secret 4HBSKRtJ\n",
      "cluspro_submit --receptor ../structures/korkin_lab/IndividualModels/wNsp8-6nurA.pdb --ligpdb 5lsu --username arian --secret 4HBSKRtJ\n",
      "cluspro_submit --receptor ../structures/korkin_lab/IndividualModels/wNsp8-6nurA.pdb --ligpdb 1jid --username arian --secret 4HBSKRtJ\n",
      "cluspro_submit --receptor ../structures/korkin_lab/IndividualModels/wNsp8-6nurA.pdb --ligpdb 5l3q --username arian --secret 4HBSKRtJ\n",
      "cluspro_submit --receptor ../structures/korkin_lab/IndividualModels/wNsp8-6nurA.pdb --ligpdb 3j9m --username arian --secret 4HBSKRtJ\n",
      "cluspro_submit --receptor ../structures/korkin_lab/IndividualModels/wNsp8-6nurA.pdb --ligpdb 4wkr --username arian --secret 4HBSKRtJ\n",
      "cluspro_submit --receptor ../structures/korkin_lab/IndividualModels/wNsp8-6nurA.pdb --ligpdb 6dcc --username arian --secret 4HBSKRtJ\n",
      "cluspro_submit --receptor ../structures/korkin_lab/IndividualModels/wNsp8-6nurA.pdb --ligpdb 2nn6 --username arian --secret 4HBSKRtJ\n",
      "cluspro_submit --receptor ../structures/korkin_lab/IndividualModels/wNsp8-6nurA.pdb --ligpdb 4zdl --username arian --secret 4HBSKRtJ\n",
      "cluspro_submit --receptor ../structures/korkin_lab/IndividualModels/wNsp8-6nurA.pdb --ligpdb 2nn6 --username arian --secret 4HBSKRtJ\n",
      "cluspro_submit --receptor ../structures/korkin_lab/IndividualModels/wNsp8-6nurA.pdb --ligpdb 2nn6 --username arian --secret 4HBSKRtJ\n",
      "cluspro_submit --receptor ../structures/korkin_lab/IndividualModels/wNsp8-6nurA.pdb --ligpdb 5w6a --username arian --secret 4HBSKRtJ\n",
      "cluspro_submit --receptor ../structures/korkin_lab/IndividualModels/wNsp8-6nurA.pdb --ligpdb 2dk3 --username arian --secret 4HBSKRtJ\n",
      "cluspro_submit --receptor ../structures/korkin_lab/IndividualModels/wNsp8-6nurA.pdb --ligpdb 3j9m --username arian --secret 4HBSKRtJ\n",
      "cluspro_submit --receptor ../structures/korkin_lab/IndividualModels/wNsp8-6nurA.pdb --ligpdb 3j9m --username arian --secret 4HBSKRtJ\n",
      "cluspro_submit --receptor ../structures/korkin_lab/IndividualModels/wNsp8-6nurA.pdb --ligpdb 2nn6 --username arian --secret 4HBSKRtJ\n",
      "cluspro_submit --receptor ../structures/korkin_lab/IndividualModels/wNsp8-6nurA.pdb --ligpdb 3j9m --username arian --secret 4HBSKRtJ\n",
      "cluspro_submit --receptor ../structures/korkin_lab/IndividualModels/wNsp9-3ee7.pdb --ligpdb 5iyb --username arian --secret 4HBSKRtJ\n",
      "cluspro_submit --receptor ../structures/korkin_lab/IndividualModels/wNsp9-3ee7.pdb --ligpdb 1uzk --username arian --secret 4HBSKRtJ\n",
      "cluspro_submit --receptor ../structures/korkin_lab/IndividualModels/wNsp9-3ee7.pdb --ligpdb 3fmp --username arian --secret 4HBSKRtJ\n",
      "cluspro_submit --receptor ../structures/korkin_lab/IndividualModels/wNsp9-3ee7.pdb --ligpdb 5ijn --username arian --secret 4HBSKRtJ\n",
      "cluspro_submit --receptor ../structures/korkin_lab/IndividualModels/wNsp9-3ee7.pdb --ligpdb 5ijn --username arian --secret 4HBSKRtJ\n",
      "cluspro_submit --receptor ../structures/korkin_lab/IndividualModels/wNsp9-3ee7.pdb --ligpdb 4xi7 --username arian --secret 4HBSKRtJ\n",
      "cluspro_submit --receptor ../structures/korkin_lab/IndividualModels/wNsp9-3ee7.pdb --ligpdb 4u7i --username arian --secret 4HBSKRtJ\n",
      "cluspro_submit --receptor ../structures/korkin_lab/IndividualModels/wNsp9-3ee7.pdb --ligpdb 3zke --username arian --secret 4HBSKRtJ\n",
      "cluspro_submit --receptor ../structures/korkin_lab/IndividualModels/wNsp9-3ee7.pdb --ligpdb 5ijn --username arian --secret 4HBSKRtJ\n",
      "cluspro_submit --receptor ../structures/korkin_lab/IndividualModels/wNsp9-3ee7.pdb --ligpdb 4ndn --username arian --secret 4HBSKRtJ\n"
     ]
    }
   ],
   "source": [
    "query_list = create_cluspro_queries(interaction_df=interactions_with_available_structures,\n",
    "                       human_protein_df=g.df_pdb_ranking,\n",
    "                       sars_mapping_dict=korkin_dict,\n",
    "                       sars_structure_path=sars_structure_path)\n",
    "\n",
    "def submit_queries(query_list):\n",
    "    for query in query_list:\n",
    "        print(f'Running Query: {query}')\n",
    "        !$query\n",
    "        time.sleep(5)\n",
    "    print('Queries submitted')   \n",
    "submit_queries(query_list[0:2])   "
   ]
  },
  {
   "cell_type": "markdown",
   "metadata": {},
   "source": [
    "# Run Local PIPER Install"
   ]
  },
  {
   "cell_type": "code",
   "execution_count": null,
   "metadata": {
    "scrolled": true
   },
   "outputs": [
    {
     "name": "stderr",
     "output_type": "stream",
     "text": [
      "  0%|          | 0/87 [00:00<?, ?it/s]"
     ]
    },
    {
     "name": "stdout",
     "output_type": "stream",
     "text": [
      "run_piper --rec ./gempro/vh_ppi/genes/BRD4_HUMAN/BRD4_HUMAN_protein/structures/6dne.pdb --rec-chains B --lig ../structures/korkin_lab/IndividualModels/wE-5x29A.pdb --output-dir \"/home/arj39/Documents/github/covid/ppi_docking/viral_human_docked_structures/\"\n",
      "Copyright 2013-18 Acpharis Inc, All Rights Reserved\n",
      "Docking 6dne.B.wE-5x29A (1/1)\n",
      "FFT Sampling |████████████████████████████████| 70000/70000 (0:00:00 remaining)ng))�█████▎                   | 26757/70000 (0:11:56 remaining)ning)��███      | 57117/70000 (0:03:30 remaining)\n",
      "\n",
      "Begin Clustering\n",
      "1/4\n",
      "Copyright 2018 Acpharis, All Rights Reserved\n",
      "Copyright 2006 Trustees of Boston University, All Rights Reserved\n",
      "\n",
      "2/4\n",
      "Copyright 2018 Acpharis, All Rights Reserved\n",
      "Copyright 2006 Trustees of Boston University, All Rights Reserved\n",
      "\n",
      "3/4\n",
      "Copyright 2018 Acpharis, All Rights Reserved\n",
      "Copyright 2006 Trustees of Boston University, All Rights Reserved\n",
      "\n",
      "4/4\n",
      "Copyright 2018 Acpharis, All Rights Reserved\n",
      "Copyright 2006 Trustees of Boston University, All Rights Reserved\n",
      "\n",
      "Finished Clustering\n",
      "\n",
      "Begin Eliminating Clashes\n",
      "Eliminating Clashes |████████████████████████████████| 120/120 (0:00:00 remaining)\n",
      "\n",
      "Finished Eliminating Clashes\n",
      "\n",
      "\u001b[?25h"
     ]
    },
    {
     "name": "stderr",
     "output_type": "stream",
     "text": [
      "  1%|          | 1/87 [20:06<28:49:49, 1206.86s/it]"
     ]
    },
    {
     "name": "stdout",
     "output_type": "stream",
     "text": [
      "run_piper --rec ./gempro/vh_ppi/genes/BRD2_HUMAN/BRD2_HUMAN_protein/structures/4uyg.pdb --rec-chains B --lig ../structures/korkin_lab/IndividualModels/wE-5x29A.pdb --output-dir \"/home/arj39/Documents/github/covid/ppi_docking/viral_human_docked_structures/\"\n",
      "Copyright 2013-18 Acpharis Inc, All Rights Reserved\n",
      "Docking 4uyg.B.wE-5x29A (1/1)\n",
      "FFT Sampling |████████████████████████████████| 70000/70000 (0:00:00 remaining)ng))000 (0:09:48 remaining)mpling |███████████████████▊            | 43079/70000 (0:06:59 remaining)mpling |███████████████████▉            | 43424/70000 (0:06:53 remaining)�██████████            | 43850/70000 (0:06:46 remaining)ning)\n",
      "\n",
      "Begin Clustering\n",
      "1/4\n",
      "Copyright 2018 Acpharis, All Rights Reserved\n",
      "Copyright 2006 Trustees of Boston University, All Rights Reserved\n",
      "\n",
      "2/4\n",
      "Copyright 2018 Acpharis, All Rights Reserved\n",
      "Copyright 2006 Trustees of Boston University, All Rights Reserved\n",
      "\n",
      "3/4\n",
      "Copyright 2018 Acpharis, All Rights Reserved\n",
      "Copyright 2006 Trustees of Boston University, All Rights Reserved\n",
      "\n",
      "4/4\n",
      "Copyright 2018 Acpharis, All Rights Reserved\n",
      "Copyright 2006 Trustees of Boston University, All Rights Reserved\n",
      "\n",
      "Finished Clustering\n",
      "\n",
      "Begin Eliminating Clashes\n",
      "Eliminating Clashes |████████████████████████████████| 112/112 (0:00:00 remaining)\n",
      "\n",
      "Finished Eliminating Clashes\n",
      "\n",
      "\u001b[?25h"
     ]
    },
    {
     "name": "stderr",
     "output_type": "stream",
     "text": [
      "  2%|▏         | 2/87 [39:31<28:11:56, 1194.32s/it]"
     ]
    },
    {
     "name": "stdout",
     "output_type": "stream",
     "text": [
      "run_piper --rec ./gempro/vh_ppi/genes/CWC27_HUMAN/CWC27_HUMAN_protein/structures/6ff4.pdb --rec-chains s --lig ../structures/korkin_lab/IndividualModels/wE-5x29A.pdb --output-dir \"/home/arj39/Documents/github/covid/ppi_docking/viral_human_docked_structures/\"\n",
      "Copyright 2013-18 Acpharis Inc, All Rights Reserved\n",
      "Docking 6ff4.s.wE-5x29A (1/1)\n",
      "FFT Sampling |████████████████████████████████| 70000/70000 (0:00:00 remaining)ng)))��                              | 4169/70000 (0:40:00 remaining):10 remaining)4100/70000 (0:20:13 remaining)�███████████████████▋ | 66858/70000 (0:01:46 remaining)\n",
      "\n",
      "Begin Clustering\n",
      "1/4\n",
      "Copyright 2018 Acpharis, All Rights Reserved\n",
      "Copyright 2006 Trustees of Boston University, All Rights Reserved\n",
      "\n",
      "2/4\n",
      "Copyright 2018 Acpharis, All Rights Reserved\n",
      "Copyright 2006 Trustees of Boston University, All Rights Reserved\n",
      "\n",
      "3/4\n",
      "Copyright 2018 Acpharis, All Rights Reserved\n",
      "Copyright 2006 Trustees of Boston University, All Rights Reserved\n",
      "\n",
      "4/4\n",
      "Copyright 2018 Acpharis, All Rights Reserved\n",
      "Copyright 2006 Trustees of Boston University, All Rights Reserved\n",
      "\n",
      "Finished Clustering\n",
      "\n",
      "Begin Eliminating Clashes\n",
      "Eliminating Clashes |████████████████████████████████| 120/120 (0:00:00 remaining)\n",
      "\n",
      "Finished Eliminating Clashes\n",
      "\n",
      "\u001b[?25h"
     ]
    },
    {
     "name": "stderr",
     "output_type": "stream",
     "text": [
      "  3%|▎         | 3/87 [1:20:09<36:34:09, 1567.25s/it]"
     ]
    },
    {
     "name": "stdout",
     "output_type": "stream",
     "text": [
      "run_piper --rec ./gempro/vh_ppi/genes/U3IP2_HUMAN/U3IP2_HUMAN_protein/structures/4jxm.pdb --rec-chains A --lig ../structures/korkin_lab/IndividualModels/wN-Cterminal_domain-2jw8A.pdb --output-dir \"/home/arj39/Documents/github/covid/ppi_docking/viral_human_docked_structures/\"\n",
      "Copyright 2013-18 Acpharis Inc, All Rights Reserved\n",
      "Docking 4jxm.A.wN-Cterminal_domain-2jw8A (1/1)\n",
      "FFT Sampling |████████████████████████████████| 70000/70000 (0:00:00 remaining)ng))�█████▍                   | 27102/70000 (0:16:38 remaining)�██████████████▎            | 42275/70000 (0:10:43 remaining)KFFT Sampling |█████████████████████▊          | 47496/70000 (0:08:40 remaining)�      | 56504/70000 (0:05:12 remaining)\n",
      "\n",
      "Begin Clustering\n",
      "1/4\n",
      "Copyright 2018 Acpharis, All Rights Reserved\n",
      "Copyright 2006 Trustees of Boston University, All Rights Reserved\n",
      "\n",
      "2/4\n",
      "Copyright 2018 Acpharis, All Rights Reserved\n",
      "Copyright 2006 Trustees of Boston University, All Rights Reserved\n",
      "\n",
      "3/4\n",
      "Copyright 2018 Acpharis, All Rights Reserved\n",
      "Copyright 2006 Trustees of Boston University, All Rights Reserved\n",
      "\n",
      "4/4\n",
      "Copyright 2018 Acpharis, All Rights Reserved\n",
      "Copyright 2006 Trustees of Boston University, All Rights Reserved\n",
      "\n",
      "Finished Clustering\n",
      "\n",
      "Begin Eliminating Clashes\n",
      "Eliminating Clashes |████████████████████████████████| 112/112 (0:00:00 remaining)\n",
      "\n",
      "Finished Eliminating Clashes\n",
      "\n",
      "\u001b[?25hrun_piper --rec ./gempro/vh_ppi/genes/U3IP2_HUMAN/U3IP2_HUMAN_protein/structures/4jxm.pdb --rec-chains A --lig ../structures/korkin_lab/IndividualModels/wN-Nterminal_domain-1ssk_4ud1A.pdb --output-dir \"/home/arj39/Documents/github/covid/ppi_docking/viral_human_docked_structures/\"\n",
      "Copyright 2013-18 Acpharis Inc, All Rights Reserved\n",
      "Docking 4jxm.A.wN-Nterminal_domain-1ssk_4ud1A (1/1)\n",
      "FFT Sampling |████████████████████████████████| 70000/70000 (0:00:00 remaining)ng)))�██▌                            | 7654/70000 (0:41:33 remaining)(0:34:41 remaining)Sampling |███████████▏                    | 24377/70000 (0:29:25 remaining)�▎             | 39898/70000 (0:19:19 remaining)�█             | 41620/70000 (0:18:12 remaining)ampling |███████████████████████▋        | 51634/70000 (0:11:47 remaining)███████████▏      | 55065/70000 (0:09:36 remaining)03:21 remaining)�███████████████████▋ | 66856/70000 (0:02:02 remaining)\n",
      "\n",
      "Begin Clustering\n",
      "1/4\n",
      "Copyright 2018 Acpharis, All Rights Reserved\n",
      "Copyright 2006 Trustees of Boston University, All Rights Reserved\n",
      "\n",
      "2/4\n",
      "Copyright 2018 Acpharis, All Rights Reserved\n",
      "Copyright 2006 Trustees of Boston University, All Rights Reserved\n",
      "\n",
      "3/4\n",
      "Copyright 2018 Acpharis, All Rights Reserved\n",
      "Copyright 2006 Trustees of Boston University, All Rights Reserved\n",
      "\n",
      "4/4\n",
      "Copyright 2018 Acpharis, All Rights Reserved\n",
      "Copyright 2006 Trustees of Boston University, All Rights Reserved\n",
      "\n",
      "Finished Clustering\n",
      "\n",
      "Begin Eliminating Clashes\n",
      "Eliminating Clashes |████████████████████████████████| 120/120 (0:00:00 remaining)\n",
      "\n",
      "Finished Eliminating Clashes\n",
      "\n",
      "\u001b[?25h"
     ]
    },
    {
     "name": "stderr",
     "output_type": "stream",
     "text": [
      "  5%|▍         | 4/87 [2:38:02<57:37:09, 2499.15s/it]"
     ]
    },
    {
     "name": "stdout",
     "output_type": "stream",
     "text": [
      "run_piper --rec ./gempro/vh_ppi/genes/PABP1_HUMAN/PABP1_HUMAN_protein/structures/4f02.pdb --rec-chains D --lig ../structures/korkin_lab/IndividualModels/wN-Cterminal_domain-2jw8A.pdb --output-dir \"/home/arj39/Documents/github/covid/ppi_docking/viral_human_docked_structures/\"\n",
      "Copyright 2013-18 Acpharis Inc, All Rights Reserved\n",
      "Docking 4f02.D.wN-Cterminal_domain-2jw8A (1/1)\n",
      "FFT Sampling |████████████████████████████████| 70000/70000 (0:00:00 remaining)ng)))ampling |██████                          | 12885/70000 (0:19:17 remaining)�██████▌                        | 16366/70000 (0:17:55 remaining)FT Sampling |██████████▉                     | 23652/70000 (0:15:20 remaining)�██▍                   | 27156/70000 (0:14:06 remaining)g |█████████████                   | 28284/70000 (0:13:41 remaining)��███████████▎                  | 28970/70000 (0:13:28 remaining)00 (0:09:25 remaining)�████▏         | 48544/70000 (0:07:07 remaining)�█████████████████▍        | 51242/70000 (0:06:14 remaining)��    | 61329/70000 (0:02:53 remaining)7/70000 (0:00:10 remaining)\n",
      "\n",
      "Begin Clustering\n",
      "1/4\n",
      "Copyright 2018 Acpharis, All Rights Reserved\n",
      "Copyright 2006 Trustees of Boston University, All Rights Reserved\n",
      "\n",
      "2/4\n",
      "Copyright 2018 Acpharis, All Rights Reserved\n",
      "Copyright 2006 Trustees of Boston University, All Rights Reserved\n",
      "\n",
      "3/4\n",
      "Copyright 2018 Acpharis, All Rights Reserved\n",
      "Copyright 2006 Trustees of Boston University, All Rights Reserved\n",
      "\n",
      "4/4\n",
      "Copyright 2018 Acpharis, All Rights Reserved\n",
      "Copyright 2006 Trustees of Boston University, All Rights Reserved\n",
      "\n",
      "Finished Clustering\n",
      "\n",
      "Begin Eliminating Clashes\n",
      "Eliminating Clashes |████████████████████████████████| 116/116 (0:00:00 remaining)\n",
      "\n",
      "Finished Eliminating Clashes\n",
      "\n",
      "\u001b[?25hrun_piper --rec ./gempro/vh_ppi/genes/PABP1_HUMAN/PABP1_HUMAN_protein/structures/4f02.pdb --rec-chains D --lig ../structures/korkin_lab/IndividualModels/wN-Nterminal_domain-1ssk_4ud1A.pdb --output-dir \"/home/arj39/Documents/github/covid/ppi_docking/viral_human_docked_structures/\"\n",
      "Copyright 2013-18 Acpharis Inc, All Rights Reserved\n",
      "Docking 4f02.D.wN-Nterminal_domain-1ssk_4ud1A (1/1)\n",
      "FFT Sampling |████████████████████████████████| 70000/70000 (0:00:00 remaining)ng)))                | 6631/70000 (0:35:12 remaining)�█████████████████▋        | 51591/70000 (0:09:52 remaining)��██████████▏       | 52759/70000 (0:09:13 remaining)\n",
      "\n",
      "Begin Clustering\n",
      "1/4\n",
      "Copyright 2018 Acpharis, All Rights Reserved\n",
      "Copyright 2006 Trustees of Boston University, All Rights Reserved\n",
      "\n",
      "2/4\n",
      "Copyright 2018 Acpharis, All Rights Reserved\n",
      "Copyright 2006 Trustees of Boston University, All Rights Reserved\n",
      "\n",
      "3/4\n",
      "Copyright 2018 Acpharis, All Rights Reserved\n",
      "Copyright 2006 Trustees of Boston University, All Rights Reserved\n",
      "\n",
      "4/4\n",
      "Copyright 2018 Acpharis, All Rights Reserved\n",
      "Copyright 2006 Trustees of Boston University, All Rights Reserved\n",
      "\n",
      "Finished Clustering\n",
      "\n",
      "Begin Eliminating Clashes\n",
      "Eliminating Clashes |████████████████████████████████| 120/120 (0:00:00 remaining)\n",
      "\n",
      "Finished Eliminating Clashes\n",
      "\n",
      "\u001b[?25h"
     ]
    },
    {
     "name": "stderr",
     "output_type": "stream",
     "text": [
      "  6%|▌         | 5/87 [3:43:47<66:48:01, 2932.70s/it]"
     ]
    },
    {
     "name": "stdout",
     "output_type": "stream",
     "text": [
      "run_piper --rec ./gempro/vh_ppi/genes/CSK22_HUMAN/CSK22_HUMAN_protein/structures/6hmd.pdb --rec-chains A --lig ../structures/korkin_lab/IndividualModels/wN-Cterminal_domain-2jw8A.pdb --output-dir \"/home/arj39/Documents/github/covid/ppi_docking/viral_human_docked_structures/\"\n",
      "Copyright 2013-18 Acpharis Inc, All Rights Reserved\n",
      "Docking 6hmd.A.wN-Cterminal_domain-2jw8A (1/1)\n",
      "FFT Sampling |████████████████████████████████| 70000/70000 (0:00:00 remaining)ng)))��                        | 16669/70000 (0:21:36 remaining)��██▏             | 39774/70000 (0:12:11 remaining)�███████████████            | 43652/70000 (0:10:43 remaining)�███████         | 50488/70000 (0:07:54 remaining)��███████▌      | 55828/70000 (0:05:46 remaining)��████▊     | 58404/70000 (0:04:43 remaining)�████████████████████████     | 58916/70000 (0:04:31 remaining)\n",
      "\n",
      "Begin Clustering\n",
      "1/4\n",
      "Copyright 2018 Acpharis, All Rights Reserved\n",
      "Copyright 2006 Trustees of Boston University, All Rights Reserved\n",
      "\n",
      "2/4\n",
      "Copyright 2018 Acpharis, All Rights Reserved\n",
      "Copyright 2006 Trustees of Boston University, All Rights Reserved\n",
      "\n",
      "3/4\n",
      "Copyright 2018 Acpharis, All Rights Reserved\n",
      "Copyright 2006 Trustees of Boston University, All Rights Reserved\n",
      "\n",
      "4/4\n",
      "Copyright 2018 Acpharis, All Rights Reserved\n",
      "Copyright 2006 Trustees of Boston University, All Rights Reserved\n",
      "\n",
      "Finished Clustering\n",
      "\n",
      "Begin Eliminating Clashes\n",
      "Eliminating Clashes |████████████████████████████████| 120/120 (0:00:00 remaining)\n",
      "\n",
      "Finished Eliminating Clashes\n",
      "\n",
      "\u001b[?25hrun_piper --rec ./gempro/vh_ppi/genes/CSK22_HUMAN/CSK22_HUMAN_protein/structures/6hmd.pdb --rec-chains A --lig ../structures/korkin_lab/IndividualModels/wN-Nterminal_domain-1ssk_4ud1A.pdb --output-dir \"/home/arj39/Documents/github/covid/ppi_docking/viral_human_docked_structures/\"\n",
      "Copyright 2013-18 Acpharis Inc, All Rights Reserved\n",
      "Docking 6hmd.A.wN-Nterminal_domain-1ssk_4ud1A (1/1)\n",
      "FFT Sampling |████████████████████████████████| 70000/70000 (0:00:00 remaining)ing)) (0:36:19 remaining)ng |█████████████▎                  | 28935/70000 (0:29:02 remaining)��████               | 37172/70000 (0:23:11 remaining)FT Sampling |████████████████████████▎       | 53156/70000 (0:11:51 remaining)�████████████████████▍   | 62019/70000 (0:05:39 remaining)1/70000 (0:01:04 remaining)\n",
      "\n",
      "Begin Clustering\n",
      "1/4\n",
      "Copyright 2018 Acpharis, All Rights Reserved\n",
      "Copyright 2006 Trustees of Boston University, All Rights Reserved\n",
      "\n",
      "2/4\n",
      "Copyright 2018 Acpharis, All Rights Reserved\n",
      "Copyright 2006 Trustees of Boston University, All Rights Reserved\n",
      "\n",
      "3/4\n",
      "Copyright 2018 Acpharis, All Rights Reserved\n",
      "Copyright 2006 Trustees of Boston University, All Rights Reserved\n",
      "\n",
      "4/4\n",
      "Copyright 2018 Acpharis, All Rights Reserved\n",
      "Copyright 2006 Trustees of Boston University, All Rights Reserved\n",
      "\n",
      "Finished Clustering\n",
      "\n",
      "Begin Eliminating Clashes\n",
      "Eliminating Clashes |████████████████████████████████| 120/120 (0:00:00 remaining)\n",
      "\n",
      "Finished Eliminating Clashes\n",
      "\n",
      "\u001b[?25h"
     ]
    },
    {
     "name": "stderr",
     "output_type": "stream",
     "text": [
      "  7%|▋         | 6/87 [5:06:52<79:50:35, 3548.58s/it]"
     ]
    },
    {
     "name": "stdout",
     "output_type": "stream",
     "text": [
      "run_piper --rec ./gempro/vh_ppi/genes/CSK2B_HUMAN/CSK2B_HUMAN_protein/structures/4dgl.pdb --rec-chains A --lig ../structures/korkin_lab/IndividualModels/wN-Cterminal_domain-2jw8A.pdb --output-dir \"/home/arj39/Documents/github/covid/ppi_docking/viral_human_docked_structures/\"\n",
      "Copyright 2013-18 Acpharis Inc, All Rights Reserved\n",
      "Docking 4dgl.A.wN-Cterminal_domain-2jw8A (1/1)\n",
      "FFT Sampling |████████████████████████████████| 70000/70000 (0:00:00 remaining)ng)))000 (0:21:52 remaining)██████████████▏              | 37500/70000 (0:18:19 remaining)��█████▎        | 50914/70000 (0:10:45 remaining)\n",
      "\n",
      "Begin Clustering\n",
      "1/4\n",
      "Copyright 2018 Acpharis, All Rights Reserved\n",
      "Copyright 2006 Trustees of Boston University, All Rights Reserved\n",
      "\n",
      "2/4\n",
      "Copyright 2018 Acpharis, All Rights Reserved\n",
      "Copyright 2006 Trustees of Boston University, All Rights Reserved\n",
      "\n",
      "3/4\n",
      "Copyright 2018 Acpharis, All Rights Reserved\n",
      "Copyright 2006 Trustees of Boston University, All Rights Reserved\n",
      "\n",
      "4/4\n",
      "Copyright 2018 Acpharis, All Rights Reserved\n",
      "Copyright 2006 Trustees of Boston University, All Rights Reserved\n",
      "\n",
      "Finished Clustering\n",
      "\n",
      "Begin Eliminating Clashes\n",
      "Eliminating Clashes |████████████████████████████████| 111/111 (0:00:00 remaining)\n",
      "\n",
      "Finished Eliminating Clashes\n",
      "\n",
      "\u001b[?25hrun_piper --rec ./gempro/vh_ppi/genes/CSK2B_HUMAN/CSK2B_HUMAN_protein/structures/4dgl.pdb --rec-chains A --lig ../structures/korkin_lab/IndividualModels/wN-Nterminal_domain-1ssk_4ud1A.pdb --output-dir \"/home/arj39/Documents/github/covid/ppi_docking/viral_human_docked_structures/\"\n",
      "Copyright 2013-18 Acpharis Inc, All Rights Reserved\n",
      "Docking 4dgl.A.wN-Nterminal_domain-1ssk_4ud1A (1/1)\n",
      "FFT Sampling |████████████████████████████████| 70000/70000 (0:00:00 remaining)ing))�██████▎                      | 20218/70000 (0:41:52 remaining)FT Sampling |██████████▍                     | 22605/70000 (0:39:53 remaining)��███▍                   | 27153/70000 (0:35:54 remaining)��███████████▋                  | 29696/70000 (0:33:35 remaining)3/70000 (0:22:15 remaining)\n",
      "\n",
      "Begin Clustering\n",
      "1/4\n",
      "Copyright 2018 Acpharis, All Rights Reserved\n",
      "Copyright 2006 Trustees of Boston University, All Rights Reserved\n",
      "\n",
      "2/4\n",
      "Copyright 2018 Acpharis, All Rights Reserved\n",
      "Copyright 2006 Trustees of Boston University, All Rights Reserved\n",
      "\n",
      "3/4\n",
      "Copyright 2018 Acpharis, All Rights Reserved\n",
      "Copyright 2006 Trustees of Boston University, All Rights Reserved\n",
      "\n",
      "4/4\n",
      "Copyright 2018 Acpharis, All Rights Reserved\n",
      "Copyright 2006 Trustees of Boston University, All Rights Reserved\n",
      "\n",
      "Finished Clustering\n",
      "\n",
      "Begin Eliminating Clashes\n",
      "Eliminating Clashes |████████████████████████████████| 120/120 (0:00:00 remaining)\n",
      "\n",
      "Finished Eliminating Clashes\n",
      "\n",
      "\u001b[?25h"
     ]
    },
    {
     "name": "stderr",
     "output_type": "stream",
     "text": [
      "  8%|▊         | 7/87 [6:50:06<96:29:28, 4342.11s/it]"
     ]
    },
    {
     "name": "stdout",
     "output_type": "stream",
     "text": [
      "run_piper --rec ./gempro/vh_ppi/genes/G3BP1_HUMAN/G3BP1_HUMAN_protein/structures/4fcj.pdb --rec-chains B --lig ../structures/korkin_lab/IndividualModels/wN-Cterminal_domain-2jw8A.pdb --output-dir \"/home/arj39/Documents/github/covid/ppi_docking/viral_human_docked_structures/\"\n",
      "Copyright 2013-18 Acpharis Inc, All Rights Reserved\n",
      "Docking 4fcj.B.wN-Cterminal_domain-2jw8A (1/1)\n",
      "FFT Sampling |██▍                             | 5192/70000 (0:18:56 remaining)ing)))"
     ]
    }
   ],
   "source": [
    "def run_piper(interaction_df, human_protein_df, sars_mapping_dict, sars_structure_path):\n",
    "    \n",
    "    # Select best humanprotein structures\n",
    "    human_protein_df = human_protein_df.loc[human_protein_df['rank'] == 1]\n",
    "    \n",
    "    # Subset interaction df to available structures\n",
    "    sars_structure_files = [f for f in os.listdir(sars_structure_path) if f.endswith('.pdb')]\n",
    "        \n",
    "    # Maps SARS proteins to structures\n",
    "    mapping = [glob.glob(os.path.join(sars_structure_path, f + '*.pdb')) for f in interaction_df['Bait'].map(sars_mapping_dict)]\n",
    "    interaction_df['mapping'] = mapping\n",
    "    interaction_df = interaction_df[interaction_df['mapping'].map(lambda d: len(d)) > 0]\n",
    "    \n",
    "    #print(human_protein_df)\n",
    "    for row in tqdm(range(len(interaction_df))):\n",
    "        interaction_pair = interaction_df.iloc[row]\n",
    "        #print(interaction_pair)\n",
    "        \n",
    "        try:\n",
    "            human_protein = human_protein_df.loc[interaction_pair['Uniprot Protein ID']]['pdb_id']\n",
    "            human_protein_chain = human_protein_df.loc[interaction_pair['Uniprot Protein ID']]['pdb_chain_id']\n",
    "            human_protein_path = f'./gempro/vh_ppi/genes/{interaction_pair[\"Uniprot Protein ID\"]}/{interaction_pair[\"Uniprot Protein ID\"]}_protein/structures/{human_protein}.pdb'\n",
    "            \n",
    "            #print(interaction_pair)\n",
    "            for mapping in interaction_pair['mapping']:\n",
    "                #print(mapping)\n",
    "                query = f'run_piper --rec {human_protein_path} --rec-chains {human_protein_chain} '\n",
    "                query += f'--lig {mapping} '\n",
    "                query += f'--output-dir \"/home/arj39/Documents/github/covid/ppi_docking/viral_human_docked_structures/\"'\n",
    "                print(query)      \n",
    "                !$query\n",
    "        except:\n",
    "            continue\n",
    "\n",
    "run_piper(interaction_df=interactions_with_available_structures,\n",
    "         human_protein_df=g.df_pdb_ranking,\n",
    "         sars_mapping_dict=korkin_dict,\n",
    "         sars_structure_path=sars_structure_path)\n"
   ]
  },
  {
   "cell_type": "code",
   "execution_count": null,
   "metadata": {},
   "outputs": [],
   "source": []
  },
  {
   "cell_type": "code",
   "execution_count": null,
   "metadata": {},
   "outputs": [],
   "source": []
  },
  {
   "cell_type": "code",
   "execution_count": null,
   "metadata": {},
   "outputs": [],
   "source": []
  },
  {
   "cell_type": "code",
   "execution_count": null,
   "metadata": {},
   "outputs": [],
   "source": []
  },
  {
   "cell_type": "code",
   "execution_count": null,
   "metadata": {},
   "outputs": [],
   "source": []
  },
  {
   "cell_type": "markdown",
   "metadata": {},
   "source": [
    "## Run ZDock"
   ]
  },
  {
   "cell_type": "markdown",
   "metadata": {},
   "source": [
    "### Example\n",
    "```bash\n",
    "mark_sure receptor.pdb receptor_m.pdb\n",
    "mark_sur ligand,pdb ligand_m.pdb\n",
    "zdock -R receptor_m.pdb -L ligand_m.pdb -o zdock.out\n",
    "create.pl zdock.out\n",
    "```\n"
   ]
  },
  {
   "cell_type": "code",
   "execution_count": 34,
   "metadata": {},
   "outputs": [],
   "source": [
    "ZDOCK_PATH = \"/home/arj39/zdock3.0.2_linux_x64/\"\n",
    "sars_structure_path = '../structures/korkin_lab/IndividualModels/'"
   ]
  },
  {
   "cell_type": "code",
   "execution_count": 109,
   "metadata": {},
   "outputs": [],
   "source": [
    "def run_zdock(interaction_df, human_protein_df, sars_mapping_dict, sars_structure_path):\n",
    "    \n",
    "    # Select best humanprotein structures\n",
    "    human_protein_df = human_protein_df.loc[human_protein_df['rank'] == 1]\n",
    "    \n",
    "    # Subset interaction df to available structures\n",
    "    sars_structure_files = [f for f in os.listdir(sars_structure_path) if f.endswith('.pdb')]\n",
    "        \n",
    "    # Maps SARS proteins to structures\n",
    "    mapping = [glob.glob(os.path.join(sars_structure_path, f + '*.pdb')) for f in interaction_df['Bait'].map(sars_mapping_dict)]\n",
    "    interaction_df['mapping'] = mapping\n",
    "    interaction_df = interaction_df[interaction_df['mapping'].map(lambda d: len(d)) > 0]\n",
    "    \n",
    "    \n",
    "    for row in tqdm(range(len(interaction_df))):\n",
    "        interaction_pair = interaction_df.iloc[row]\n",
    "        \n",
    "        try:\n",
    "            human_protein = human_protein_df.loc[interaction_pair['Uniprot Protein ID']]['pdb_id']\n",
    "            human_protein_path = f'./gempro/vh_ppi/genes/{interaction_pair[\"Uniprot Protein ID\"]}/{interaction_pair[\"Uniprot Protein ID\"]}_protein/structures/{human_protein}.pdb'\n",
    "            \n",
    "            for mapping in interaction_pair['mapping']:\n",
    "                query = f'{ZDOCK_PATH}mark_sur {human_protein_path} {human_protein_path}_m;'\n",
    "                query += f'{ZDOCK_PATH}mark_sur {mapping} {mapping}_m;'\n",
    "                query += f'{ZDOCK_PATH}zdock -R {mapping}_m -L {human_protein}_m -o {mapping}_{human_protein}.out;'\n",
    "                query += f'{ZDOCK_PATH}create.pl {mapping}_{human_protein}.out;'\n",
    "                #print(query)      \n",
    "                !$query\n",
    "        except:\n",
    "            continue"
   ]
  },
  {
   "cell_type": "code",
   "execution_count": 110,
   "metadata": {
    "scrolled": true
   },
   "outputs": [
    {
     "name": "stderr",
     "output_type": "stream",
     "text": [
      "  0%|          | 0/87 [00:00<?, ?it/s]"
     ]
    },
    {
     "name": "stdout",
     "output_type": "stream",
     "text": [
      "/home/arj39/zdock3.0.2_linux_x64/mark_sur: error while loading shared libraries: libg2c.so.0: cannot open shared object file: No such file or directory\n",
      "/home/arj39/zdock3.0.2_linux_x64/mark_sur: error while loading shared libraries: libg2c.so.0: cannot open shared object file: No such file or directory\n",
      "\n",
      "\n",
      "!! Can not find file ../structures/korkin_lab/IndividualModels/wE-5x29A.pdb_m !!\n",
      "\n",
      "error: need to have create_lig executable linked or copied to current directory\n"
     ]
    },
    {
     "name": "stderr",
     "output_type": "stream",
     "text": [
      "  1%|          | 1/87 [00:00<00:09,  8.66it/s]"
     ]
    },
    {
     "name": "stdout",
     "output_type": "stream",
     "text": [
      "/home/arj39/zdock3.0.2_linux_x64/mark_sur: error while loading shared libraries: libg2c.so.0: cannot open shared object file: No such file or directory\n",
      "/home/arj39/zdock3.0.2_linux_x64/mark_sur: error while loading shared libraries: libg2c.so.0: cannot open shared object file: No such file or directory\n",
      "\n",
      "\n",
      "!! Can not find file ../structures/korkin_lab/IndividualModels/wE-5x29A.pdb_m !!\n",
      "\n",
      "error: need to have create_lig executable linked or copied to current directory\n"
     ]
    },
    {
     "name": "stderr",
     "output_type": "stream",
     "text": [
      "  2%|▏         | 2/87 [00:00<00:10,  8.38it/s]"
     ]
    },
    {
     "name": "stdout",
     "output_type": "stream",
     "text": [
      "/home/arj39/zdock3.0.2_linux_x64/mark_sur: error while loading shared libraries: libg2c.so.0: cannot open shared object file: No such file or directory\n",
      "/home/arj39/zdock3.0.2_linux_x64/mark_sur: error while loading shared libraries: libg2c.so.0: cannot open shared object file: No such file or directory\n",
      "\n",
      "\n",
      "!! Can not find file ../structures/korkin_lab/IndividualModels/wE-5x29A.pdb_m !!\n",
      "\n",
      "error: need to have create_lig executable linked or copied to current directory\n"
     ]
    },
    {
     "name": "stderr",
     "output_type": "stream",
     "text": [
      "  3%|▎         | 3/87 [00:00<00:10,  7.76it/s]"
     ]
    },
    {
     "name": "stdout",
     "output_type": "stream",
     "text": [
      "/home/arj39/zdock3.0.2_linux_x64/mark_sur: error while loading shared libraries: libg2c.so.0: cannot open shared object file: No such file or directory\n",
      "/home/arj39/zdock3.0.2_linux_x64/mark_sur: error while loading shared libraries: libg2c.so.0: cannot open shared object file: No such file or directory\n",
      "\n",
      "\n",
      "!! Can not find file ../structures/korkin_lab/IndividualModels/wN-Cterminal_domain-2jw8A.pdb_m !!\n",
      "\n",
      "error: need to have create_lig executable linked or copied to current directory\n",
      "/home/arj39/zdock3.0.2_linux_x64/mark_sur: error while loading shared libraries: libg2c.so.0: cannot open shared object file: No such file or directory\n",
      "/home/arj39/zdock3.0.2_linux_x64/mark_sur: error while loading shared libraries: libg2c.so.0: cannot open shared object file: No such file or directory\n",
      "\n",
      "\n",
      "!! Can not find file ../structures/korkin_lab/IndividualModels/wN-Nterminal_domain-1ssk_4ud1A.pdb_m !!\n",
      "\n",
      "error: need to have create_lig executable linked or copied to current directory\n"
     ]
    },
    {
     "name": "stderr",
     "output_type": "stream",
     "text": [
      "  5%|▍         | 4/87 [00:00<00:15,  5.37it/s]"
     ]
    },
    {
     "name": "stdout",
     "output_type": "stream",
     "text": [
      "/home/arj39/zdock3.0.2_linux_x64/mark_sur: error while loading shared libraries: libg2c.so.0: cannot open shared object file: No such file or directory\n",
      "/home/arj39/zdock3.0.2_linux_x64/mark_sur: error while loading shared libraries: libg2c.so.0: cannot open shared object file: No such file or directory\n",
      "\n",
      "\n",
      "!! Can not find file ../structures/korkin_lab/IndividualModels/wN-Cterminal_domain-2jw8A.pdb_m !!\n",
      "\n",
      "error: need to have create_lig executable linked or copied to current directory\n",
      "/home/arj39/zdock3.0.2_linux_x64/mark_sur: error while loading shared libraries: libg2c.so.0: cannot open shared object file: No such file or directory\n",
      "/home/arj39/zdock3.0.2_linux_x64/mark_sur: error while loading shared libraries: libg2c.so.0: cannot open shared object file: No such file or directory\n",
      "\n",
      "\n",
      "!! Can not find file ../structures/korkin_lab/IndividualModels/wN-Nterminal_domain-1ssk_4ud1A.pdb_m !!\n",
      "\n",
      "error: need to have create_lig executable linked or copied to current directory\n"
     ]
    },
    {
     "name": "stderr",
     "output_type": "stream",
     "text": [
      "  6%|▌         | 5/87 [00:01<00:18,  4.38it/s]"
     ]
    },
    {
     "name": "stdout",
     "output_type": "stream",
     "text": [
      "/home/arj39/zdock3.0.2_linux_x64/mark_sur: error while loading shared libraries: libg2c.so.0: cannot open shared object file: No such file or directory\n",
      "/home/arj39/zdock3.0.2_linux_x64/mark_sur: error while loading shared libraries: libg2c.so.0: cannot open shared object file: No such file or directory\n",
      "\n",
      "\n",
      "!! Can not find file ../structures/korkin_lab/IndividualModels/wN-Cterminal_domain-2jw8A.pdb_m !!\n",
      "\n",
      "error: need to have create_lig executable linked or copied to current directory\n",
      "/home/arj39/zdock3.0.2_linux_x64/mark_sur: error while loading shared libraries: libg2c.so.0: cannot open shared object file: No such file or directory\n",
      "/home/arj39/zdock3.0.2_linux_x64/mark_sur: error while loading shared libraries: libg2c.so.0: cannot open shared object file: No such file or directory\n",
      "\n",
      "\n",
      "!! Can not find file ../structures/korkin_lab/IndividualModels/wN-Nterminal_domain-1ssk_4ud1A.pdb_m !!\n",
      "\n",
      "error: need to have create_lig executable linked or copied to current directory\n"
     ]
    },
    {
     "name": "stderr",
     "output_type": "stream",
     "text": [
      "  7%|▋         | 6/87 [00:01<00:20,  3.92it/s]"
     ]
    },
    {
     "name": "stdout",
     "output_type": "stream",
     "text": [
      "/home/arj39/zdock3.0.2_linux_x64/mark_sur: error while loading shared libraries: libg2c.so.0: cannot open shared object file: No such file or directory\n",
      "/home/arj39/zdock3.0.2_linux_x64/mark_sur: error while loading shared libraries: libg2c.so.0: cannot open shared object file: No such file or directory\n",
      "\n",
      "\n",
      "!! Can not find file ../structures/korkin_lab/IndividualModels/wN-Cterminal_domain-2jw8A.pdb_m !!\n",
      "\n",
      "error: need to have create_lig executable linked or copied to current directory\n",
      "/home/arj39/zdock3.0.2_linux_x64/mark_sur: error while loading shared libraries: libg2c.so.0: cannot open shared object file: No such file or directory\n",
      "/home/arj39/zdock3.0.2_linux_x64/mark_sur: error while loading shared libraries: libg2c.so.0: cannot open shared object file: No such file or directory\n",
      "\n",
      "\n",
      "!! Can not find file ../structures/korkin_lab/IndividualModels/wN-Nterminal_domain-1ssk_4ud1A.pdb_m !!\n",
      "\n",
      "error: need to have create_lig executable linked or copied to current directory\n"
     ]
    },
    {
     "name": "stderr",
     "output_type": "stream",
     "text": [
      "  8%|▊         | 7/87 [00:01<00:21,  3.66it/s]"
     ]
    },
    {
     "name": "stdout",
     "output_type": "stream",
     "text": [
      "/home/arj39/zdock3.0.2_linux_x64/mark_sur: error while loading shared libraries: libg2c.so.0: cannot open shared object file: No such file or directory\n",
      "/home/arj39/zdock3.0.2_linux_x64/mark_sur: error while loading shared libraries: libg2c.so.0: cannot open shared object file: No such file or directory\n",
      "\n",
      "\n",
      "!! Can not find file ../structures/korkin_lab/IndividualModels/wN-Cterminal_domain-2jw8A.pdb_m !!\n",
      "\n",
      "error: need to have create_lig executable linked or copied to current directory\n",
      "/home/arj39/zdock3.0.2_linux_x64/mark_sur: error while loading shared libraries: libg2c.so.0: cannot open shared object file: No such file or directory\n",
      "/home/arj39/zdock3.0.2_linux_x64/mark_sur: error while loading shared libraries: libg2c.so.0: cannot open shared object file: No such file or directory\n",
      "\n",
      "\n",
      "!! Can not find file ../structures/korkin_lab/IndividualModels/wN-Nterminal_domain-1ssk_4ud1A.pdb_m !!\n",
      "\n",
      "error: need to have create_lig executable linked or copied to current directory\n"
     ]
    },
    {
     "name": "stderr",
     "output_type": "stream",
     "text": [
      "  9%|▉         | 8/87 [00:01<00:22,  3.54it/s]"
     ]
    },
    {
     "name": "stdout",
     "output_type": "stream",
     "text": [
      "/home/arj39/zdock3.0.2_linux_x64/mark_sur: error while loading shared libraries: libg2c.so.0: cannot open shared object file: No such file or directory\n",
      "/home/arj39/zdock3.0.2_linux_x64/mark_sur: error while loading shared libraries: libg2c.so.0: cannot open shared object file: No such file or directory\n",
      "\n",
      "\n",
      "!! Can not find file ../structures/korkin_lab/IndividualModels/wN-Cterminal_domain-2jw8A.pdb_m !!\n",
      "\n",
      "error: need to have create_lig executable linked or copied to current directory\n",
      "/home/arj39/zdock3.0.2_linux_x64/mark_sur: error while loading shared libraries: libg2c.so.0: cannot open shared object file: No such file or directory\n",
      "/home/arj39/zdock3.0.2_linux_x64/mark_sur: error while loading shared libraries: libg2c.so.0: cannot open shared object file: No such file or directory\n",
      "\n",
      "\n",
      "!! Can not find file ../structures/korkin_lab/IndividualModels/wN-Nterminal_domain-1ssk_4ud1A.pdb_m !!\n",
      "\n",
      "error: need to have create_lig executable linked or copied to current directory\n"
     ]
    },
    {
     "name": "stderr",
     "output_type": "stream",
     "text": [
      " 10%|█         | 9/87 [00:02<00:21,  3.56it/s]"
     ]
    },
    {
     "name": "stdout",
     "output_type": "stream",
     "text": [
      "/home/arj39/zdock3.0.2_linux_x64/mark_sur: error while loading shared libraries: libg2c.so.0: cannot open shared object file: No such file or directory\n",
      "/home/arj39/zdock3.0.2_linux_x64/mark_sur: error while loading shared libraries: libg2c.so.0: cannot open shared object file: No such file or directory\n",
      "\n",
      "\n",
      "!! Can not find file ../structures/korkin_lab/IndividualModels/wN-Cterminal_domain-2jw8A.pdb_m !!\n",
      "\n",
      "error: need to have create_lig executable linked or copied to current directory\n",
      "/home/arj39/zdock3.0.2_linux_x64/mark_sur: error while loading shared libraries: libg2c.so.0: cannot open shared object file: No such file or directory\n",
      "/home/arj39/zdock3.0.2_linux_x64/mark_sur: error while loading shared libraries: libg2c.so.0: cannot open shared object file: No such file or directory\n",
      "\n",
      "\n",
      "!! Can not find file ../structures/korkin_lab/IndividualModels/wN-Nterminal_domain-1ssk_4ud1A.pdb_m !!\n",
      "\n",
      "error: need to have create_lig executable linked or copied to current directory\n"
     ]
    },
    {
     "name": "stderr",
     "output_type": "stream",
     "text": [
      " 11%|█▏        | 10/87 [00:02<00:22,  3.44it/s]"
     ]
    },
    {
     "name": "stdout",
     "output_type": "stream",
     "text": [
      "/home/arj39/zdock3.0.2_linux_x64/mark_sur: error while loading shared libraries: libg2c.so.0: cannot open shared object file: No such file or directory\n",
      "/home/arj39/zdock3.0.2_linux_x64/mark_sur: error while loading shared libraries: libg2c.so.0: cannot open shared object file: No such file or directory\n",
      "\n",
      "\n",
      "!! Can not find file ../structures/korkin_lab/IndividualModels/wN-Cterminal_domain-2jw8A.pdb_m !!\n",
      "\n",
      "error: need to have create_lig executable linked or copied to current directory\n",
      "/home/arj39/zdock3.0.2_linux_x64/mark_sur: error while loading shared libraries: libg2c.so.0: cannot open shared object file: No such file or directory\n",
      "/home/arj39/zdock3.0.2_linux_x64/mark_sur: error while loading shared libraries: libg2c.so.0: cannot open shared object file: No such file or directory\n",
      "\n",
      "\n",
      "!! Can not find file ../structures/korkin_lab/IndividualModels/wN-Nterminal_domain-1ssk_4ud1A.pdb_m !!\n",
      "\n",
      "error: need to have create_lig executable linked or copied to current directory\n"
     ]
    },
    {
     "name": "stderr",
     "output_type": "stream",
     "text": [
      " 13%|█▎        | 11/87 [00:02<00:22,  3.44it/s]"
     ]
    },
    {
     "name": "stdout",
     "output_type": "stream",
     "text": [
      "/home/arj39/zdock3.0.2_linux_x64/mark_sur: error while loading shared libraries: libg2c.so.0: cannot open shared object file: No such file or directory\n",
      "/home/arj39/zdock3.0.2_linux_x64/mark_sur: error while loading shared libraries: libg2c.so.0: cannot open shared object file: No such file or directory\n",
      "\n",
      "\n",
      "!! Can not find file ../structures/korkin_lab/IndividualModels/wN-Cterminal_domain-2jw8A.pdb_m !!\n",
      "\n",
      "error: need to have create_lig executable linked or copied to current directory\n",
      "/home/arj39/zdock3.0.2_linux_x64/mark_sur: error while loading shared libraries: libg2c.so.0: cannot open shared object file: No such file or directory\n",
      "/home/arj39/zdock3.0.2_linux_x64/mark_sur: error while loading shared libraries: libg2c.so.0: cannot open shared object file: No such file or directory\n",
      "\n",
      "\n",
      "!! Can not find file ../structures/korkin_lab/IndividualModels/wN-Nterminal_domain-1ssk_4ud1A.pdb_m !!\n",
      "\n",
      "error: need to have create_lig executable linked or copied to current directory\n"
     ]
    },
    {
     "name": "stderr",
     "output_type": "stream",
     "text": [
      " 14%|█▍        | 12/87 [00:03<00:21,  3.44it/s]"
     ]
    },
    {
     "name": "stdout",
     "output_type": "stream",
     "text": [
      "/home/arj39/zdock3.0.2_linux_x64/mark_sur: error while loading shared libraries: libg2c.so.0: cannot open shared object file: No such file or directory\n",
      "/home/arj39/zdock3.0.2_linux_x64/mark_sur: error while loading shared libraries: libg2c.so.0: cannot open shared object file: No such file or directory\n",
      "\n",
      "\n",
      "!! Can not find file ../structures/korkin_lab/IndividualModels/wNsp1-2hsxA.pdb_m !!\n",
      "\n",
      "error: need to have create_lig executable linked or copied to current directory\n"
     ]
    },
    {
     "name": "stderr",
     "output_type": "stream",
     "text": [
      " 15%|█▍        | 13/87 [00:03<00:18,  4.09it/s]"
     ]
    },
    {
     "name": "stdout",
     "output_type": "stream",
     "text": [
      "/home/arj39/zdock3.0.2_linux_x64/mark_sur: error while loading shared libraries: libg2c.so.0: cannot open shared object file: No such file or directory\n",
      "/home/arj39/zdock3.0.2_linux_x64/mark_sur: error while loading shared libraries: libg2c.so.0: cannot open shared object file: No such file or directory\n",
      "\n",
      "\n",
      "!! Can not find file ../structures/korkin_lab/IndividualModels/wNsp1-2hsxA.pdb_m !!\n",
      "\n",
      "error: need to have create_lig executable linked or copied to current directory\n"
     ]
    },
    {
     "name": "stderr",
     "output_type": "stream",
     "text": [
      " 16%|█▌        | 14/87 [00:03<00:15,  4.59it/s]"
     ]
    },
    {
     "name": "stdout",
     "output_type": "stream",
     "text": [
      "/home/arj39/zdock3.0.2_linux_x64/mark_sur: error while loading shared libraries: libg2c.so.0: cannot open shared object file: No such file or directory\n",
      "/home/arj39/zdock3.0.2_linux_x64/mark_sur: error while loading shared libraries: libg2c.so.0: cannot open shared object file: No such file or directory\n",
      "\n",
      "\n",
      "!! Can not find file ../structures/korkin_lab/IndividualModels/wNsp1-2hsxA.pdb_m !!\n",
      "\n",
      "error: need to have create_lig executable linked or copied to current directory\n"
     ]
    },
    {
     "name": "stderr",
     "output_type": "stream",
     "text": [
      " 17%|█▋        | 15/87 [00:03<00:13,  5.33it/s]"
     ]
    },
    {
     "name": "stdout",
     "output_type": "stream",
     "text": [
      "/home/arj39/zdock3.0.2_linux_x64/mark_sur: error while loading shared libraries: libg2c.so.0: cannot open shared object file: No such file or directory\n",
      "/home/arj39/zdock3.0.2_linux_x64/mark_sur: error while loading shared libraries: libg2c.so.0: cannot open shared object file: No such file or directory\n",
      "\n",
      "\n",
      "!! Can not find file ../structures/korkin_lab/IndividualModels/wNsp1-2hsxA.pdb_m !!\n",
      "\n",
      "error: need to have create_lig executable linked or copied to current directory\n"
     ]
    },
    {
     "name": "stderr",
     "output_type": "stream",
     "text": [
      " 18%|█▊        | 16/87 [00:03<00:12,  5.67it/s]"
     ]
    },
    {
     "name": "stdout",
     "output_type": "stream",
     "text": [
      "/home/arj39/zdock3.0.2_linux_x64/mark_sur: error while loading shared libraries: libg2c.so.0: cannot open shared object file: No such file or directory\n",
      "/home/arj39/zdock3.0.2_linux_x64/mark_sur: error while loading shared libraries: libg2c.so.0: cannot open shared object file: No such file or directory\n",
      "\n",
      "\n",
      "!! Can not find file ../structures/korkin_lab/IndividualModels/wNsp10-2g9tA.pdb_m !!\n",
      "\n",
      "error: need to have create_lig executable linked or copied to current directory\n"
     ]
    },
    {
     "name": "stderr",
     "output_type": "stream",
     "text": [
      " 20%|█▉        | 17/87 [00:03<00:11,  6.32it/s]"
     ]
    },
    {
     "name": "stdout",
     "output_type": "stream",
     "text": [
      "/home/arj39/zdock3.0.2_linux_x64/mark_sur: error while loading shared libraries: libg2c.so.0: cannot open shared object file: No such file or directory\n",
      "/home/arj39/zdock3.0.2_linux_x64/mark_sur: error while loading shared libraries: libg2c.so.0: cannot open shared object file: No such file or directory\n",
      "\n",
      "\n",
      "!! Can not find file ../structures/korkin_lab/IndividualModels/wNsp10-2g9tA.pdb_m !!\n",
      "\n",
      "error: need to have create_lig executable linked or copied to current directory\n"
     ]
    },
    {
     "name": "stderr",
     "output_type": "stream",
     "text": [
      " 21%|██        | 18/87 [00:03<00:10,  6.36it/s]"
     ]
    },
    {
     "name": "stdout",
     "output_type": "stream",
     "text": [
      "/home/arj39/zdock3.0.2_linux_x64/mark_sur: error while loading shared libraries: libg2c.so.0: cannot open shared object file: No such file or directory\n",
      "/home/arj39/zdock3.0.2_linux_x64/mark_sur: error while loading shared libraries: libg2c.so.0: cannot open shared object file: No such file or directory\n",
      "\n",
      "\n",
      "!! Can not find file ../structures/korkin_lab/IndividualModels/wNsp12-6nurA.pdb_m !!\n",
      "\n",
      "error: need to have create_lig executable linked or copied to current directory\n"
     ]
    },
    {
     "name": "stderr",
     "output_type": "stream",
     "text": [
      " 22%|██▏       | 19/87 [00:04<00:09,  6.88it/s]"
     ]
    },
    {
     "name": "stdout",
     "output_type": "stream",
     "text": [
      "/home/arj39/zdock3.0.2_linux_x64/mark_sur: error while loading shared libraries: libg2c.so.0: cannot open shared object file: No such file or directory\n",
      "/home/arj39/zdock3.0.2_linux_x64/mark_sur: error while loading shared libraries: libg2c.so.0: cannot open shared object file: No such file or directory\n",
      "\n",
      "\n",
      "!! Can not find file ../structures/korkin_lab/IndividualModels/wNsp12-6nurA.pdb_m !!\n",
      "\n",
      "error: need to have create_lig executable linked or copied to current directory\n"
     ]
    },
    {
     "name": "stderr",
     "output_type": "stream",
     "text": [
      " 23%|██▎       | 20/87 [00:04<00:10,  6.60it/s]"
     ]
    },
    {
     "name": "stdout",
     "output_type": "stream",
     "text": [
      "/home/arj39/zdock3.0.2_linux_x64/mark_sur: error while loading shared libraries: libg2c.so.0: cannot open shared object file: No such file or directory\n",
      "/home/arj39/zdock3.0.2_linux_x64/mark_sur: error while loading shared libraries: libg2c.so.0: cannot open shared object file: No such file or directory\n",
      "\n",
      "\n",
      "!! Can not find file ../structures/korkin_lab/IndividualModels/wNsp12-6nurA.pdb_m !!\n",
      "\n",
      "error: need to have create_lig executable linked or copied to current directory\n"
     ]
    },
    {
     "name": "stderr",
     "output_type": "stream",
     "text": [
      " 24%|██▍       | 21/87 [00:04<00:09,  6.72it/s]"
     ]
    },
    {
     "name": "stdout",
     "output_type": "stream",
     "text": [
      "/home/arj39/zdock3.0.2_linux_x64/mark_sur: error while loading shared libraries: libg2c.so.0: cannot open shared object file: No such file or directory\n",
      "/home/arj39/zdock3.0.2_linux_x64/mark_sur: error while loading shared libraries: libg2c.so.0: cannot open shared object file: No such file or directory\n",
      "\n",
      "\n",
      "!! Can not find file ../structures/korkin_lab/IndividualModels/wNsp12-6nurA.pdb_m !!\n",
      "\n",
      "error: need to have create_lig executable linked or copied to current directory\n"
     ]
    },
    {
     "name": "stderr",
     "output_type": "stream",
     "text": [
      " 25%|██▌       | 22/87 [00:04<00:09,  6.55it/s]"
     ]
    },
    {
     "name": "stdout",
     "output_type": "stream",
     "text": [
      "/home/arj39/zdock3.0.2_linux_x64/mark_sur: error while loading shared libraries: libg2c.so.0: cannot open shared object file: No such file or directory\n",
      "/home/arj39/zdock3.0.2_linux_x64/mark_sur: error while loading shared libraries: libg2c.so.0: cannot open shared object file: No such file or directory\n",
      "\n",
      "\n",
      "!! Can not find file ../structures/korkin_lab/IndividualModels/wNsp13-6jytA.pdb_m !!\n",
      "\n",
      "error: need to have create_lig executable linked or copied to current directory\n"
     ]
    },
    {
     "name": "stderr",
     "output_type": "stream",
     "text": [
      " 26%|██▋       | 23/87 [00:04<00:09,  6.45it/s]"
     ]
    },
    {
     "name": "stdout",
     "output_type": "stream",
     "text": [
      "/home/arj39/zdock3.0.2_linux_x64/mark_sur: error while loading shared libraries: libg2c.so.0: cannot open shared object file: No such file or directory\n",
      "/home/arj39/zdock3.0.2_linux_x64/mark_sur: error while loading shared libraries: libg2c.so.0: cannot open shared object file: No such file or directory\n",
      "\n",
      "\n",
      "!! Can not find file ../structures/korkin_lab/IndividualModels/wNsp13-6jytA.pdb_m !!\n",
      "\n",
      "error: need to have create_lig executable linked or copied to current directory\n"
     ]
    },
    {
     "name": "stderr",
     "output_type": "stream",
     "text": [
      " 28%|██▊       | 24/87 [00:04<00:09,  6.39it/s]"
     ]
    },
    {
     "name": "stdout",
     "output_type": "stream",
     "text": [
      "/home/arj39/zdock3.0.2_linux_x64/mark_sur: error while loading shared libraries: libg2c.so.0: cannot open shared object file: No such file or directory\n",
      "/home/arj39/zdock3.0.2_linux_x64/mark_sur: error while loading shared libraries: libg2c.so.0: cannot open shared object file: No such file or directory\n",
      "\n",
      "\n",
      "!! Can not find file ../structures/korkin_lab/IndividualModels/wNsp13-6jytA.pdb_m !!\n",
      "\n",
      "error: need to have create_lig executable linked or copied to current directory\n"
     ]
    },
    {
     "name": "stderr",
     "output_type": "stream",
     "text": [
      " 29%|██▊       | 25/87 [00:05<00:09,  6.39it/s]"
     ]
    },
    {
     "name": "stdout",
     "output_type": "stream",
     "text": [
      "/home/arj39/zdock3.0.2_linux_x64/mark_sur: error while loading shared libraries: libg2c.so.0: cannot open shared object file: No such file or directory\n",
      "/home/arj39/zdock3.0.2_linux_x64/mark_sur: error while loading shared libraries: libg2c.so.0: cannot open shared object file: No such file or directory\n",
      "\n",
      "\n",
      "!! Can not find file ../structures/korkin_lab/IndividualModels/wNsp13-6jytA.pdb_m !!\n",
      "\n",
      "error: need to have create_lig executable linked or copied to current directory\n"
     ]
    },
    {
     "name": "stderr",
     "output_type": "stream",
     "text": [
      " 30%|██▉       | 26/87 [00:05<00:09,  6.63it/s]"
     ]
    },
    {
     "name": "stdout",
     "output_type": "stream",
     "text": [
      "/home/arj39/zdock3.0.2_linux_x64/mark_sur: error while loading shared libraries: libg2c.so.0: cannot open shared object file: No such file or directory\n",
      "/home/arj39/zdock3.0.2_linux_x64/mark_sur: error while loading shared libraries: libg2c.so.0: cannot open shared object file: No such file or directory\n",
      "\n",
      "\n",
      "!! Can not find file ../structures/korkin_lab/IndividualModels/wNsp13-6jytA.pdb_m !!\n",
      "\n",
      "error: need to have create_lig executable linked or copied to current directory\n"
     ]
    },
    {
     "name": "stderr",
     "output_type": "stream",
     "text": [
      " 31%|███       | 27/87 [00:05<00:08,  6.87it/s]"
     ]
    },
    {
     "name": "stdout",
     "output_type": "stream",
     "text": [
      "/home/arj39/zdock3.0.2_linux_x64/mark_sur: error while loading shared libraries: libg2c.so.0: cannot open shared object file: No such file or directory\n",
      "/home/arj39/zdock3.0.2_linux_x64/mark_sur: error while loading shared libraries: libg2c.so.0: cannot open shared object file: No such file or directory\n",
      "\n",
      "\n",
      "!! Can not find file ../structures/korkin_lab/IndividualModels/wNsp13-6jytA.pdb_m !!\n",
      "\n",
      "error: need to have create_lig executable linked or copied to current directory\n"
     ]
    },
    {
     "name": "stderr",
     "output_type": "stream",
     "text": [
      " 32%|███▏      | 28/87 [00:05<00:08,  6.60it/s]"
     ]
    },
    {
     "name": "stdout",
     "output_type": "stream",
     "text": [
      "/home/arj39/zdock3.0.2_linux_x64/mark_sur: error while loading shared libraries: libg2c.so.0: cannot open shared object file: No such file or directory\n",
      "/home/arj39/zdock3.0.2_linux_x64/mark_sur: error while loading shared libraries: libg2c.so.0: cannot open shared object file: No such file or directory\n",
      "\n",
      "\n",
      "!! Can not find file ../structures/korkin_lab/IndividualModels/wNsp13-6jytA.pdb_m !!\n",
      "\n",
      "error: need to have create_lig executable linked or copied to current directory\n"
     ]
    },
    {
     "name": "stderr",
     "output_type": "stream",
     "text": [
      " 33%|███▎      | 29/87 [00:05<00:08,  6.92it/s]"
     ]
    },
    {
     "name": "stdout",
     "output_type": "stream",
     "text": [
      "/home/arj39/zdock3.0.2_linux_x64/mark_sur: error while loading shared libraries: libg2c.so.0: cannot open shared object file: No such file or directory\n",
      "/home/arj39/zdock3.0.2_linux_x64/mark_sur: error while loading shared libraries: libg2c.so.0: cannot open shared object file: No such file or directory\n",
      "\n",
      "\n",
      "!! Can not find file ../structures/korkin_lab/IndividualModels/wNsp13-6jytA.pdb_m !!\n",
      "\n",
      "error: need to have create_lig executable linked or copied to current directory\n"
     ]
    },
    {
     "name": "stderr",
     "output_type": "stream",
     "text": [
      " 34%|███▍      | 30/87 [00:05<00:07,  7.15it/s]"
     ]
    },
    {
     "name": "stdout",
     "output_type": "stream",
     "text": [
      "/home/arj39/zdock3.0.2_linux_x64/mark_sur: error while loading shared libraries: libg2c.so.0: cannot open shared object file: No such file or directory\n",
      "/home/arj39/zdock3.0.2_linux_x64/mark_sur: error while loading shared libraries: libg2c.so.0: cannot open shared object file: No such file or directory\n",
      "\n",
      "\n",
      "!! Can not find file ../structures/korkin_lab/IndividualModels/wNsp13-6jytA.pdb_m !!\n",
      "\n",
      "error: need to have create_lig executable linked or copied to current directory\n"
     ]
    },
    {
     "name": "stderr",
     "output_type": "stream",
     "text": [
      " 36%|███▌      | 31/87 [00:05<00:08,  6.76it/s]"
     ]
    },
    {
     "name": "stdout",
     "output_type": "stream",
     "text": [
      "/home/arj39/zdock3.0.2_linux_x64/mark_sur: error while loading shared libraries: libg2c.so.0: cannot open shared object file: No such file or directory\n",
      "/home/arj39/zdock3.0.2_linux_x64/mark_sur: error while loading shared libraries: libg2c.so.0: cannot open shared object file: No such file or directory\n",
      "\n",
      "\n",
      "!! Can not find file ../structures/korkin_lab/IndividualModels/wNsp13-6jytA.pdb_m !!\n",
      "\n",
      "error: need to have create_lig executable linked or copied to current directory\n"
     ]
    },
    {
     "name": "stderr",
     "output_type": "stream",
     "text": [
      " 37%|███▋      | 32/87 [00:06<00:07,  7.24it/s]"
     ]
    },
    {
     "name": "stdout",
     "output_type": "stream",
     "text": [
      "/home/arj39/zdock3.0.2_linux_x64/mark_sur: error while loading shared libraries: libg2c.so.0: cannot open shared object file: No such file or directory\n",
      "/home/arj39/zdock3.0.2_linux_x64/mark_sur: error while loading shared libraries: libg2c.so.0: cannot open shared object file: No such file or directory\n",
      "\n",
      "\n",
      "!! Can not find file ../structures/korkin_lab/IndividualModels/wNsp13-6jytA.pdb_m !!\n",
      "\n",
      "error: need to have create_lig executable linked or copied to current directory\n"
     ]
    },
    {
     "name": "stderr",
     "output_type": "stream",
     "text": [
      " 38%|███▊      | 33/87 [00:06<00:07,  7.61it/s]"
     ]
    },
    {
     "name": "stdout",
     "output_type": "stream",
     "text": [
      "/home/arj39/zdock3.0.2_linux_x64/mark_sur: error while loading shared libraries: libg2c.so.0: cannot open shared object file: No such file or directory\n",
      "/home/arj39/zdock3.0.2_linux_x64/mark_sur: error while loading shared libraries: libg2c.so.0: cannot open shared object file: No such file or directory\n",
      "\n",
      "\n",
      "!! Can not find file ../structures/korkin_lab/IndividualModels/wNsp13-6jytA.pdb_m !!\n",
      "\n",
      "error: need to have create_lig executable linked or copied to current directory\n"
     ]
    },
    {
     "name": "stderr",
     "output_type": "stream",
     "text": [
      " 39%|███▉      | 34/87 [00:06<00:07,  7.28it/s]"
     ]
    },
    {
     "name": "stdout",
     "output_type": "stream",
     "text": [
      "/home/arj39/zdock3.0.2_linux_x64/mark_sur: error while loading shared libraries: libg2c.so.0: cannot open shared object file: No such file or directory\n",
      "/home/arj39/zdock3.0.2_linux_x64/mark_sur: error while loading shared libraries: libg2c.so.0: cannot open shared object file: No such file or directory\n",
      "\n",
      "\n",
      "!! Can not find file ../structures/korkin_lab/IndividualModels/wNsp14-5c8uB.pdb_m !!\n",
      "\n",
      "error: need to have create_lig executable linked or copied to current directory\n"
     ]
    },
    {
     "name": "stderr",
     "output_type": "stream",
     "text": [
      " 40%|████      | 35/87 [00:06<00:06,  7.62it/s]"
     ]
    },
    {
     "name": "stdout",
     "output_type": "stream",
     "text": [
      "/home/arj39/zdock3.0.2_linux_x64/mark_sur: error while loading shared libraries: libg2c.so.0: cannot open shared object file: No such file or directory\n",
      "/home/arj39/zdock3.0.2_linux_x64/mark_sur: error while loading shared libraries: libg2c.so.0: cannot open shared object file: No such file or directory\n",
      "\n",
      "\n",
      "!! Can not find file ../structures/korkin_lab/IndividualModels/wNsp14-5c8uB.pdb_m !!\n",
      "\n",
      "error: need to have create_lig executable linked or copied to current directory\n"
     ]
    },
    {
     "name": "stderr",
     "output_type": "stream",
     "text": [
      " 41%|████▏     | 36/87 [00:06<00:06,  7.89it/s]"
     ]
    },
    {
     "name": "stdout",
     "output_type": "stream",
     "text": [
      "/home/arj39/zdock3.0.2_linux_x64/mark_sur: error while loading shared libraries: libg2c.so.0: cannot open shared object file: No such file or directory\n",
      "/home/arj39/zdock3.0.2_linux_x64/mark_sur: error while loading shared libraries: libg2c.so.0: cannot open shared object file: No such file or directory\n",
      "\n",
      "\n",
      "!! Can not find file ../structures/korkin_lab/IndividualModels/wNsp14-5c8uB.pdb_m !!\n",
      "\n",
      "error: need to have create_lig executable linked or copied to current directory\n"
     ]
    },
    {
     "name": "stderr",
     "output_type": "stream",
     "text": [
      " 43%|████▎     | 37/87 [00:06<00:06,  7.28it/s]"
     ]
    },
    {
     "name": "stdout",
     "output_type": "stream",
     "text": [
      "/home/arj39/zdock3.0.2_linux_x64/mark_sur: error while loading shared libraries: libg2c.so.0: cannot open shared object file: No such file or directory\n",
      "/home/arj39/zdock3.0.2_linux_x64/mark_sur: error while loading shared libraries: libg2c.so.0: cannot open shared object file: No such file or directory\n",
      "\n",
      "\n",
      "!! Can not find file ../structures/korkin_lab/IndividualModels/wNsp15-2h85A.pdb_m !!\n",
      "\n",
      "error: need to have create_lig executable linked or copied to current directory\n"
     ]
    },
    {
     "name": "stderr",
     "output_type": "stream",
     "text": [
      " 44%|████▎     | 38/87 [00:06<00:07,  6.99it/s]"
     ]
    },
    {
     "name": "stdout",
     "output_type": "stream",
     "text": [
      "/home/arj39/zdock3.0.2_linux_x64/mark_sur: error while loading shared libraries: libg2c.so.0: cannot open shared object file: No such file or directory\n",
      "/home/arj39/zdock3.0.2_linux_x64/mark_sur: error while loading shared libraries: libg2c.so.0: cannot open shared object file: No such file or directory\n",
      "\n",
      "\n",
      "!! Can not find file ../structures/korkin_lab/IndividualModels/wNsp15-2h85A.pdb_m !!\n",
      "\n",
      "error: need to have create_lig executable linked or copied to current directory\n"
     ]
    },
    {
     "name": "stderr",
     "output_type": "stream",
     "text": [
      " 45%|████▍     | 39/87 [00:07<00:07,  6.67it/s]"
     ]
    },
    {
     "name": "stdout",
     "output_type": "stream",
     "text": [
      "/home/arj39/zdock3.0.2_linux_x64/mark_sur: error while loading shared libraries: libg2c.so.0: cannot open shared object file: No such file or directory\n",
      "/home/arj39/zdock3.0.2_linux_x64/mark_sur: error while loading shared libraries: libg2c.so.0: cannot open shared object file: No such file or directory\n",
      "\n",
      "\n",
      "!! Can not find file ../structures/korkin_lab/IndividualModels/wNsp15-2h85A.pdb_m !!\n",
      "\n",
      "error: need to have create_lig executable linked or copied to current directory\n"
     ]
    },
    {
     "name": "stderr",
     "output_type": "stream",
     "text": [
      " 46%|████▌     | 40/87 [00:07<00:07,  6.48it/s]"
     ]
    },
    {
     "name": "stdout",
     "output_type": "stream",
     "text": [
      "/home/arj39/zdock3.0.2_linux_x64/mark_sur: error while loading shared libraries: libg2c.so.0: cannot open shared object file: No such file or directory\n",
      "/home/arj39/zdock3.0.2_linux_x64/mark_sur: error while loading shared libraries: libg2c.so.0: cannot open shared object file: No such file or directory\n",
      "\n",
      "\n",
      "!! Can not find file ../structures/korkin_lab/IndividualModels/wNsp4-3vc8A.pdb_m !!\n",
      "\n",
      "error: need to have create_lig executable linked or copied to current directory\n"
     ]
    },
    {
     "name": "stderr",
     "output_type": "stream",
     "text": [
      " 47%|████▋     | 41/87 [00:07<00:06,  6.70it/s]"
     ]
    },
    {
     "name": "stdout",
     "output_type": "stream",
     "text": [
      "/home/arj39/zdock3.0.2_linux_x64/mark_sur: error while loading shared libraries: libg2c.so.0: cannot open shared object file: No such file or directory\n",
      "/home/arj39/zdock3.0.2_linux_x64/mark_sur: error while loading shared libraries: libg2c.so.0: cannot open shared object file: No such file or directory\n",
      "\n",
      "\n",
      "!! Can not find file ../structures/korkin_lab/IndividualModels/wNsp4-3vc8A.pdb_m !!\n",
      "\n",
      "error: need to have create_lig executable linked or copied to current directory\n"
     ]
    },
    {
     "name": "stderr",
     "output_type": "stream",
     "text": [
      " 48%|████▊     | 42/87 [00:07<00:06,  6.57it/s]"
     ]
    },
    {
     "name": "stdout",
     "output_type": "stream",
     "text": [
      "/home/arj39/zdock3.0.2_linux_x64/mark_sur: error while loading shared libraries: libg2c.so.0: cannot open shared object file: No such file or directory\n",
      "/home/arj39/zdock3.0.2_linux_x64/mark_sur: error while loading shared libraries: libg2c.so.0: cannot open shared object file: No such file or directory\n",
      "\n",
      "\n",
      "!! Can not find file ../structures/korkin_lab/IndividualModels/wNsp4-3vc8A.pdb_m !!\n",
      "\n",
      "error: need to have create_lig executable linked or copied to current directory\n"
     ]
    },
    {
     "name": "stderr",
     "output_type": "stream",
     "text": [
      " 49%|████▉     | 43/87 [00:07<00:06,  6.45it/s]"
     ]
    },
    {
     "name": "stdout",
     "output_type": "stream",
     "text": [
      "/home/arj39/zdock3.0.2_linux_x64/mark_sur: error while loading shared libraries: libg2c.so.0: cannot open shared object file: No such file or directory\n",
      "/home/arj39/zdock3.0.2_linux_x64/mark_sur: error while loading shared libraries: libg2c.so.0: cannot open shared object file: No such file or directory\n",
      "\n",
      "\n",
      "!! Can not find file ../structures/korkin_lab/IndividualModels/wNsp7-1ysyA.pdb_m !!\n",
      "\n",
      "error: need to have create_lig executable linked or copied to current directory\n"
     ]
    },
    {
     "name": "stderr",
     "output_type": "stream",
     "text": [
      " 51%|█████     | 44/87 [00:07<00:06,  6.38it/s]"
     ]
    },
    {
     "name": "stdout",
     "output_type": "stream",
     "text": [
      "/home/arj39/zdock3.0.2_linux_x64/mark_sur: error while loading shared libraries: libg2c.so.0: cannot open shared object file: No such file or directory\n",
      "/home/arj39/zdock3.0.2_linux_x64/mark_sur: error while loading shared libraries: libg2c.so.0: cannot open shared object file: No such file or directory\n",
      "\n",
      "\n",
      "!! Can not find file ../structures/korkin_lab/IndividualModels/wNsp7-1ysyA.pdb_m !!\n",
      "\n",
      "error: need to have create_lig executable linked or copied to current directory\n"
     ]
    },
    {
     "name": "stderr",
     "output_type": "stream",
     "text": [
      " 52%|█████▏    | 45/87 [00:07<00:06,  6.44it/s]"
     ]
    },
    {
     "name": "stdout",
     "output_type": "stream",
     "text": [
      "/home/arj39/zdock3.0.2_linux_x64/mark_sur: error while loading shared libraries: libg2c.so.0: cannot open shared object file: No such file or directory\n",
      "/home/arj39/zdock3.0.2_linux_x64/mark_sur: error while loading shared libraries: libg2c.so.0: cannot open shared object file: No such file or directory\n",
      "\n",
      "\n",
      "!! Can not find file ../structures/korkin_lab/IndividualModels/wNsp7-1ysyA.pdb_m !!\n",
      "\n",
      "error: need to have create_lig executable linked or copied to current directory\n"
     ]
    },
    {
     "name": "stderr",
     "output_type": "stream",
     "text": [
      " 53%|█████▎    | 46/87 [00:08<00:06,  6.32it/s]"
     ]
    },
    {
     "name": "stdout",
     "output_type": "stream",
     "text": [
      "/home/arj39/zdock3.0.2_linux_x64/mark_sur: error while loading shared libraries: libg2c.so.0: cannot open shared object file: No such file or directory\n",
      "/home/arj39/zdock3.0.2_linux_x64/mark_sur: error while loading shared libraries: libg2c.so.0: cannot open shared object file: No such file or directory\n",
      "\n",
      "\n",
      "!! Can not find file ../structures/korkin_lab/IndividualModels/wNsp7-1ysyA.pdb_m !!\n",
      "\n",
      "error: need to have create_lig executable linked or copied to current directory\n"
     ]
    },
    {
     "name": "stderr",
     "output_type": "stream",
     "text": [
      " 54%|█████▍    | 47/87 [00:08<00:06,  6.25it/s]"
     ]
    },
    {
     "name": "stdout",
     "output_type": "stream",
     "text": [
      "/home/arj39/zdock3.0.2_linux_x64/mark_sur: error while loading shared libraries: libg2c.so.0: cannot open shared object file: No such file or directory\n",
      "/home/arj39/zdock3.0.2_linux_x64/mark_sur: error while loading shared libraries: libg2c.so.0: cannot open shared object file: No such file or directory\n",
      "\n",
      "\n",
      "!! Can not find file ../structures/korkin_lab/IndividualModels/wNsp7-1ysyA.pdb_m !!\n",
      "\n",
      "error: need to have create_lig executable linked or copied to current directory\n"
     ]
    },
    {
     "name": "stderr",
     "output_type": "stream",
     "text": [
      " 55%|█████▌    | 48/87 [00:08<00:06,  6.22it/s]"
     ]
    },
    {
     "name": "stdout",
     "output_type": "stream",
     "text": [
      "/home/arj39/zdock3.0.2_linux_x64/mark_sur: error while loading shared libraries: libg2c.so.0: cannot open shared object file: No such file or directory\n",
      "/home/arj39/zdock3.0.2_linux_x64/mark_sur: error while loading shared libraries: libg2c.so.0: cannot open shared object file: No such file or directory\n",
      "\n",
      "\n",
      "!! Can not find file ../structures/korkin_lab/IndividualModels/wNsp7-1ysyA.pdb_m !!\n",
      "\n",
      "error: need to have create_lig executable linked or copied to current directory\n"
     ]
    },
    {
     "name": "stderr",
     "output_type": "stream",
     "text": [
      " 56%|█████▋    | 49/87 [00:08<00:06,  6.16it/s]"
     ]
    },
    {
     "name": "stdout",
     "output_type": "stream",
     "text": [
      "/home/arj39/zdock3.0.2_linux_x64/mark_sur: error while loading shared libraries: libg2c.so.0: cannot open shared object file: No such file or directory\n",
      "/home/arj39/zdock3.0.2_linux_x64/mark_sur: error while loading shared libraries: libg2c.so.0: cannot open shared object file: No such file or directory\n",
      "\n",
      "\n",
      "!! Can not find file ../structures/korkin_lab/IndividualModels/wNsp7-1ysyA.pdb_m !!\n",
      "\n",
      "error: need to have create_lig executable linked or copied to current directory\n"
     ]
    },
    {
     "name": "stderr",
     "output_type": "stream",
     "text": [
      " 57%|█████▋    | 50/87 [00:08<00:05,  6.19it/s]"
     ]
    },
    {
     "name": "stdout",
     "output_type": "stream",
     "text": [
      "/home/arj39/zdock3.0.2_linux_x64/mark_sur: error while loading shared libraries: libg2c.so.0: cannot open shared object file: No such file or directory\n",
      "/home/arj39/zdock3.0.2_linux_x64/mark_sur: error while loading shared libraries: libg2c.so.0: cannot open shared object file: No such file or directory\n",
      "\n",
      "\n",
      "!! Can not find file ../structures/korkin_lab/IndividualModels/wNsp7-1ysyA.pdb_m !!\n",
      "\n",
      "error: need to have create_lig executable linked or copied to current directory\n"
     ]
    },
    {
     "name": "stderr",
     "output_type": "stream",
     "text": [
      " 59%|█████▊    | 51/87 [00:08<00:05,  6.22it/s]"
     ]
    },
    {
     "name": "stdout",
     "output_type": "stream",
     "text": [
      "/home/arj39/zdock3.0.2_linux_x64/mark_sur: error while loading shared libraries: libg2c.so.0: cannot open shared object file: No such file or directory\n",
      "/home/arj39/zdock3.0.2_linux_x64/mark_sur: error while loading shared libraries: libg2c.so.0: cannot open shared object file: No such file or directory\n",
      "\n",
      "\n",
      "!! Can not find file ../structures/korkin_lab/IndividualModels/wNsp7-1ysyA.pdb_m !!\n",
      "\n",
      "error: need to have create_lig executable linked or copied to current directory\n"
     ]
    },
    {
     "name": "stderr",
     "output_type": "stream",
     "text": [
      " 60%|█████▉    | 52/87 [00:09<00:05,  6.17it/s]"
     ]
    },
    {
     "name": "stdout",
     "output_type": "stream",
     "text": [
      "/home/arj39/zdock3.0.2_linux_x64/mark_sur: error while loading shared libraries: libg2c.so.0: cannot open shared object file: No such file or directory\n",
      "/home/arj39/zdock3.0.2_linux_x64/mark_sur: error while loading shared libraries: libg2c.so.0: cannot open shared object file: No such file or directory\n",
      "\n",
      "\n",
      "!! Can not find file ../structures/korkin_lab/IndividualModels/wNsp7-1ysyA.pdb_m !!\n",
      "\n",
      "error: need to have create_lig executable linked or copied to current directory\n"
     ]
    },
    {
     "name": "stderr",
     "output_type": "stream",
     "text": [
      " 61%|██████    | 53/87 [00:09<00:05,  6.12it/s]"
     ]
    },
    {
     "name": "stdout",
     "output_type": "stream",
     "text": [
      "/home/arj39/zdock3.0.2_linux_x64/mark_sur: error while loading shared libraries: libg2c.so.0: cannot open shared object file: No such file or directory\n",
      "/home/arj39/zdock3.0.2_linux_x64/mark_sur: error while loading shared libraries: libg2c.so.0: cannot open shared object file: No such file or directory\n",
      "\n",
      "\n",
      "!! Can not find file ../structures/korkin_lab/IndividualModels/wNsp7-1ysyA.pdb_m !!\n",
      "\n",
      "error: need to have create_lig executable linked or copied to current directory\n"
     ]
    },
    {
     "name": "stderr",
     "output_type": "stream",
     "text": [
      " 62%|██████▏   | 54/87 [00:09<00:05,  6.18it/s]"
     ]
    },
    {
     "name": "stdout",
     "output_type": "stream",
     "text": [
      "/home/arj39/zdock3.0.2_linux_x64/mark_sur: error while loading shared libraries: libg2c.so.0: cannot open shared object file: No such file or directory\n",
      "/home/arj39/zdock3.0.2_linux_x64/mark_sur: error while loading shared libraries: libg2c.so.0: cannot open shared object file: No such file or directory\n",
      "\n",
      "\n",
      "!! Can not find file ../structures/korkin_lab/IndividualModels/wNsp7-1ysyA.pdb_m !!\n",
      "\n",
      "error: need to have create_lig executable linked or copied to current directory\n"
     ]
    },
    {
     "name": "stderr",
     "output_type": "stream",
     "text": [
      " 63%|██████▎   | 55/87 [00:09<00:05,  6.19it/s]"
     ]
    },
    {
     "name": "stdout",
     "output_type": "stream",
     "text": [
      "/home/arj39/zdock3.0.2_linux_x64/mark_sur: error while loading shared libraries: libg2c.so.0: cannot open shared object file: No such file or directory\n",
      "/home/arj39/zdock3.0.2_linux_x64/mark_sur: error while loading shared libraries: libg2c.so.0: cannot open shared object file: No such file or directory\n",
      "\n",
      "\n",
      "!! Can not find file ../structures/korkin_lab/IndividualModels/wNsp7-1ysyA.pdb_m !!\n",
      "\n",
      "error: need to have create_lig executable linked or copied to current directory\n"
     ]
    },
    {
     "name": "stderr",
     "output_type": "stream",
     "text": [
      " 64%|██████▍   | 56/87 [00:09<00:04,  6.22it/s]"
     ]
    },
    {
     "name": "stdout",
     "output_type": "stream",
     "text": [
      "/home/arj39/zdock3.0.2_linux_x64/mark_sur: error while loading shared libraries: libg2c.so.0: cannot open shared object file: No such file or directory\n",
      "/home/arj39/zdock3.0.2_linux_x64/mark_sur: error while loading shared libraries: libg2c.so.0: cannot open shared object file: No such file or directory\n",
      "\n",
      "\n",
      "!! Can not find file ../structures/korkin_lab/IndividualModels/wNsp7-1ysyA.pdb_m !!\n",
      "\n",
      "error: need to have create_lig executable linked or copied to current directory\n"
     ]
    },
    {
     "name": "stderr",
     "output_type": "stream",
     "text": [
      " 66%|██████▌   | 57/87 [00:09<00:04,  6.19it/s]"
     ]
    },
    {
     "name": "stdout",
     "output_type": "stream",
     "text": [
      "/home/arj39/zdock3.0.2_linux_x64/mark_sur: error while loading shared libraries: libg2c.so.0: cannot open shared object file: No such file or directory\n",
      "/home/arj39/zdock3.0.2_linux_x64/mark_sur: error while loading shared libraries: libg2c.so.0: cannot open shared object file: No such file or directory\n",
      "\n",
      "\n",
      "!! Can not find file ../structures/korkin_lab/IndividualModels/wNsp7-1ysyA.pdb_m !!\n",
      "\n",
      "error: need to have create_lig executable linked or copied to current directory\n"
     ]
    },
    {
     "name": "stderr",
     "output_type": "stream",
     "text": [
      " 67%|██████▋   | 58/87 [00:10<00:04,  6.74it/s]"
     ]
    },
    {
     "name": "stdout",
     "output_type": "stream",
     "text": [
      "/home/arj39/zdock3.0.2_linux_x64/mark_sur: error while loading shared libraries: libg2c.so.0: cannot open shared object file: No such file or directory\n",
      "/home/arj39/zdock3.0.2_linux_x64/mark_sur: error while loading shared libraries: libg2c.so.0: cannot open shared object file: No such file or directory\n",
      "\n",
      "\n",
      "!! Can not find file ../structures/korkin_lab/IndividualModels/wNsp7-1ysyA.pdb_m !!\n",
      "\n",
      "error: need to have create_lig executable linked or copied to current directory\n"
     ]
    },
    {
     "name": "stderr",
     "output_type": "stream",
     "text": [
      " 68%|██████▊   | 59/87 [00:10<00:04,  6.95it/s]"
     ]
    },
    {
     "name": "stdout",
     "output_type": "stream",
     "text": [
      "/home/arj39/zdock3.0.2_linux_x64/mark_sur: error while loading shared libraries: libg2c.so.0: cannot open shared object file: No such file or directory\n",
      "/home/arj39/zdock3.0.2_linux_x64/mark_sur: error while loading shared libraries: libg2c.so.0: cannot open shared object file: No such file or directory\n",
      "\n",
      "\n",
      "!! Can not find file ../structures/korkin_lab/IndividualModels/wNsp7-1ysyA.pdb_m !!\n",
      "\n",
      "error: need to have create_lig executable linked or copied to current directory\n"
     ]
    },
    {
     "name": "stderr",
     "output_type": "stream",
     "text": [
      " 69%|██████▉   | 60/87 [00:10<00:04,  6.65it/s]"
     ]
    },
    {
     "name": "stdout",
     "output_type": "stream",
     "text": [
      "/home/arj39/zdock3.0.2_linux_x64/mark_sur: error while loading shared libraries: libg2c.so.0: cannot open shared object file: No such file or directory\n",
      "/home/arj39/zdock3.0.2_linux_x64/mark_sur: error while loading shared libraries: libg2c.so.0: cannot open shared object file: No such file or directory\n",
      "\n",
      "\n",
      "!! Can not find file ../structures/korkin_lab/IndividualModels/wNsp8-6nurA.pdb_m !!\n",
      "\n",
      "error: need to have create_lig executable linked or copied to current directory\n"
     ]
    },
    {
     "name": "stderr",
     "output_type": "stream",
     "text": [
      " 70%|███████   | 61/87 [00:10<00:03,  6.65it/s]"
     ]
    },
    {
     "name": "stdout",
     "output_type": "stream",
     "text": [
      "/home/arj39/zdock3.0.2_linux_x64/mark_sur: error while loading shared libraries: libg2c.so.0: cannot open shared object file: No such file or directory\n",
      "/home/arj39/zdock3.0.2_linux_x64/mark_sur: error while loading shared libraries: libg2c.so.0: cannot open shared object file: No such file or directory\n",
      "\n",
      "\n",
      "!! Can not find file ../structures/korkin_lab/IndividualModels/wNsp8-6nurA.pdb_m !!\n",
      "\n",
      "error: need to have create_lig executable linked or copied to current directory\n"
     ]
    },
    {
     "name": "stderr",
     "output_type": "stream",
     "text": [
      " 71%|███████▏  | 62/87 [00:10<00:03,  6.52it/s]"
     ]
    },
    {
     "name": "stdout",
     "output_type": "stream",
     "text": [
      "/home/arj39/zdock3.0.2_linux_x64/mark_sur: error while loading shared libraries: libg2c.so.0: cannot open shared object file: No such file or directory\n",
      "/home/arj39/zdock3.0.2_linux_x64/mark_sur: error while loading shared libraries: libg2c.so.0: cannot open shared object file: No such file or directory\n",
      "\n",
      "\n",
      "!! Can not find file ../structures/korkin_lab/IndividualModels/wNsp8-6nurA.pdb_m !!\n",
      "\n",
      "error: need to have create_lig executable linked or copied to current directory\n"
     ]
    },
    {
     "name": "stderr",
     "output_type": "stream",
     "text": [
      " 72%|███████▏  | 63/87 [00:10<00:03,  6.39it/s]"
     ]
    },
    {
     "name": "stdout",
     "output_type": "stream",
     "text": [
      "/home/arj39/zdock3.0.2_linux_x64/mark_sur: error while loading shared libraries: libg2c.so.0: cannot open shared object file: No such file or directory\n",
      "/home/arj39/zdock3.0.2_linux_x64/mark_sur: error while loading shared libraries: libg2c.so.0: cannot open shared object file: No such file or directory\n",
      "\n",
      "\n",
      "!! Can not find file ../structures/korkin_lab/IndividualModels/wNsp8-6nurA.pdb_m !!\n",
      "\n",
      "error: need to have create_lig executable linked or copied to current directory\n"
     ]
    },
    {
     "name": "stderr",
     "output_type": "stream",
     "text": [
      " 74%|███████▎  | 64/87 [00:10<00:03,  6.44it/s]"
     ]
    },
    {
     "name": "stdout",
     "output_type": "stream",
     "text": [
      "/home/arj39/zdock3.0.2_linux_x64/mark_sur: error while loading shared libraries: libg2c.so.0: cannot open shared object file: No such file or directory\n",
      "/home/arj39/zdock3.0.2_linux_x64/mark_sur: error while loading shared libraries: libg2c.so.0: cannot open shared object file: No such file or directory\n",
      "\n",
      "\n",
      "!! Can not find file ../structures/korkin_lab/IndividualModels/wNsp8-6nurA.pdb_m !!\n",
      "\n",
      "error: need to have create_lig executable linked or copied to current directory\n"
     ]
    },
    {
     "name": "stderr",
     "output_type": "stream",
     "text": [
      " 75%|███████▍  | 65/87 [00:11<00:03,  6.32it/s]"
     ]
    },
    {
     "name": "stdout",
     "output_type": "stream",
     "text": [
      "/home/arj39/zdock3.0.2_linux_x64/mark_sur: error while loading shared libraries: libg2c.so.0: cannot open shared object file: No such file or directory\n",
      "/home/arj39/zdock3.0.2_linux_x64/mark_sur: error while loading shared libraries: libg2c.so.0: cannot open shared object file: No such file or directory\n",
      "\n",
      "\n",
      "!! Can not find file ../structures/korkin_lab/IndividualModels/wNsp8-6nurA.pdb_m !!\n",
      "\n",
      "error: need to have create_lig executable linked or copied to current directory\n"
     ]
    },
    {
     "name": "stderr",
     "output_type": "stream",
     "text": [
      " 76%|███████▌  | 66/87 [00:11<00:03,  6.65it/s]"
     ]
    },
    {
     "name": "stdout",
     "output_type": "stream",
     "text": [
      "/home/arj39/zdock3.0.2_linux_x64/mark_sur: error while loading shared libraries: libg2c.so.0: cannot open shared object file: No such file or directory\n",
      "/home/arj39/zdock3.0.2_linux_x64/mark_sur: error while loading shared libraries: libg2c.so.0: cannot open shared object file: No such file or directory\n",
      "\n",
      "\n",
      "!! Can not find file ../structures/korkin_lab/IndividualModels/wNsp8-6nurA.pdb_m !!\n",
      "\n",
      "error: need to have create_lig executable linked or copied to current directory\n"
     ]
    },
    {
     "name": "stderr",
     "output_type": "stream",
     "text": [
      " 77%|███████▋  | 67/87 [00:11<00:02,  6.88it/s]"
     ]
    },
    {
     "name": "stdout",
     "output_type": "stream",
     "text": [
      "/home/arj39/zdock3.0.2_linux_x64/mark_sur: error while loading shared libraries: libg2c.so.0: cannot open shared object file: No such file or directory\n",
      "/home/arj39/zdock3.0.2_linux_x64/mark_sur: error while loading shared libraries: libg2c.so.0: cannot open shared object file: No such file or directory\n",
      "\n",
      "\n",
      "!! Can not find file ../structures/korkin_lab/IndividualModels/wNsp8-6nurA.pdb_m !!\n",
      "\n",
      "error: need to have create_lig executable linked or copied to current directory\n"
     ]
    },
    {
     "name": "stderr",
     "output_type": "stream",
     "text": [
      " 78%|███████▊  | 68/87 [00:11<00:02,  6.56it/s]"
     ]
    },
    {
     "name": "stdout",
     "output_type": "stream",
     "text": [
      "/home/arj39/zdock3.0.2_linux_x64/mark_sur: error while loading shared libraries: libg2c.so.0: cannot open shared object file: No such file or directory\n",
      "/home/arj39/zdock3.0.2_linux_x64/mark_sur: error while loading shared libraries: libg2c.so.0: cannot open shared object file: No such file or directory\n",
      "\n",
      "\n",
      "!! Can not find file ../structures/korkin_lab/IndividualModels/wNsp8-6nurA.pdb_m !!\n",
      "\n",
      "error: need to have create_lig executable linked or copied to current directory\n"
     ]
    },
    {
     "name": "stderr",
     "output_type": "stream",
     "text": [
      " 79%|███████▉  | 69/87 [00:11<00:02,  6.39it/s]"
     ]
    },
    {
     "name": "stdout",
     "output_type": "stream",
     "text": [
      "/home/arj39/zdock3.0.2_linux_x64/mark_sur: error while loading shared libraries: libg2c.so.0: cannot open shared object file: No such file or directory\n",
      "/home/arj39/zdock3.0.2_linux_x64/mark_sur: error while loading shared libraries: libg2c.so.0: cannot open shared object file: No such file or directory\n",
      "\n",
      "\n",
      "!! Can not find file ../structures/korkin_lab/IndividualModels/wNsp8-6nurA.pdb_m !!\n",
      "\n",
      "error: need to have create_lig executable linked or copied to current directory\n"
     ]
    },
    {
     "name": "stderr",
     "output_type": "stream",
     "text": [
      " 80%|████████  | 70/87 [00:11<00:02,  6.49it/s]"
     ]
    },
    {
     "name": "stdout",
     "output_type": "stream",
     "text": [
      "/home/arj39/zdock3.0.2_linux_x64/mark_sur: error while loading shared libraries: libg2c.so.0: cannot open shared object file: No such file or directory\n",
      "/home/arj39/zdock3.0.2_linux_x64/mark_sur: error while loading shared libraries: libg2c.so.0: cannot open shared object file: No such file or directory\n",
      "\n",
      "\n",
      "!! Can not find file ../structures/korkin_lab/IndividualModels/wNsp8-6nurA.pdb_m !!\n",
      "\n",
      "error: need to have create_lig executable linked or copied to current directory\n"
     ]
    },
    {
     "name": "stderr",
     "output_type": "stream",
     "text": [
      " 82%|████████▏ | 71/87 [00:12<00:02,  6.35it/s]"
     ]
    },
    {
     "name": "stdout",
     "output_type": "stream",
     "text": [
      "/home/arj39/zdock3.0.2_linux_x64/mark_sur: error while loading shared libraries: libg2c.so.0: cannot open shared object file: No such file or directory\n",
      "/home/arj39/zdock3.0.2_linux_x64/mark_sur: error while loading shared libraries: libg2c.so.0: cannot open shared object file: No such file or directory\n",
      "\n",
      "\n",
      "!! Can not find file ../structures/korkin_lab/IndividualModels/wNsp8-6nurA.pdb_m !!\n",
      "\n",
      "error: need to have create_lig executable linked or copied to current directory\n"
     ]
    },
    {
     "name": "stderr",
     "output_type": "stream",
     "text": [
      " 83%|████████▎ | 72/87 [00:12<00:02,  6.25it/s]"
     ]
    },
    {
     "name": "stdout",
     "output_type": "stream",
     "text": [
      "/home/arj39/zdock3.0.2_linux_x64/mark_sur: error while loading shared libraries: libg2c.so.0: cannot open shared object file: No such file or directory\n",
      "/home/arj39/zdock3.0.2_linux_x64/mark_sur: error while loading shared libraries: libg2c.so.0: cannot open shared object file: No such file or directory\n",
      "\n",
      "\n",
      "!! Can not find file ../structures/korkin_lab/IndividualModels/wNsp8-6nurA.pdb_m !!\n",
      "\n",
      "error: need to have create_lig executable linked or copied to current directory\n"
     ]
    },
    {
     "name": "stderr",
     "output_type": "stream",
     "text": [
      " 84%|████████▍ | 73/87 [00:12<00:02,  6.35it/s]"
     ]
    },
    {
     "name": "stdout",
     "output_type": "stream",
     "text": [
      "/home/arj39/zdock3.0.2_linux_x64/mark_sur: error while loading shared libraries: libg2c.so.0: cannot open shared object file: No such file or directory\n",
      "/home/arj39/zdock3.0.2_linux_x64/mark_sur: error while loading shared libraries: libg2c.so.0: cannot open shared object file: No such file or directory\n",
      "\n",
      "\n",
      "!! Can not find file ../structures/korkin_lab/IndividualModels/wNsp8-6nurA.pdb_m !!\n",
      "\n",
      "error: need to have create_lig executable linked or copied to current directory\n"
     ]
    },
    {
     "name": "stderr",
     "output_type": "stream",
     "text": [
      " 85%|████████▌ | 74/87 [00:12<00:02,  6.41it/s]"
     ]
    },
    {
     "name": "stdout",
     "output_type": "stream",
     "text": [
      "/home/arj39/zdock3.0.2_linux_x64/mark_sur: error while loading shared libraries: libg2c.so.0: cannot open shared object file: No such file or directory\n",
      "/home/arj39/zdock3.0.2_linux_x64/mark_sur: error while loading shared libraries: libg2c.so.0: cannot open shared object file: No such file or directory\n",
      "\n",
      "\n",
      "!! Can not find file ../structures/korkin_lab/IndividualModels/wNsp8-6nurA.pdb_m !!\n",
      "\n",
      "error: need to have create_lig executable linked or copied to current directory\n"
     ]
    },
    {
     "name": "stderr",
     "output_type": "stream",
     "text": [
      " 86%|████████▌ | 75/87 [00:12<00:01,  6.35it/s]"
     ]
    },
    {
     "name": "stdout",
     "output_type": "stream",
     "text": [
      "/home/arj39/zdock3.0.2_linux_x64/mark_sur: error while loading shared libraries: libg2c.so.0: cannot open shared object file: No such file or directory\n",
      "/home/arj39/zdock3.0.2_linux_x64/mark_sur: error while loading shared libraries: libg2c.so.0: cannot open shared object file: No such file or directory\n",
      "\n",
      "\n",
      "!! Can not find file ../structures/korkin_lab/IndividualModels/wNsp8-6nurA.pdb_m !!\n",
      "\n",
      "error: need to have create_lig executable linked or copied to current directory\n"
     ]
    },
    {
     "name": "stderr",
     "output_type": "stream",
     "text": [
      " 87%|████████▋ | 76/87 [00:12<00:01,  6.26it/s]"
     ]
    },
    {
     "name": "stdout",
     "output_type": "stream",
     "text": [
      "/home/arj39/zdock3.0.2_linux_x64/mark_sur: error while loading shared libraries: libg2c.so.0: cannot open shared object file: No such file or directory\n",
      "/home/arj39/zdock3.0.2_linux_x64/mark_sur: error while loading shared libraries: libg2c.so.0: cannot open shared object file: No such file or directory\n",
      "\n",
      "\n",
      "!! Can not find file ../structures/korkin_lab/IndividualModels/wNsp8-6nurA.pdb_m !!\n",
      "\n",
      "error: need to have create_lig executable linked or copied to current directory\n"
     ]
    },
    {
     "name": "stderr",
     "output_type": "stream",
     "text": [
      " 89%|████████▊ | 77/87 [00:12<00:01,  6.42it/s]"
     ]
    },
    {
     "name": "stdout",
     "output_type": "stream",
     "text": [
      "/home/arj39/zdock3.0.2_linux_x64/mark_sur: error while loading shared libraries: libg2c.so.0: cannot open shared object file: No such file or directory\n",
      "/home/arj39/zdock3.0.2_linux_x64/mark_sur: error while loading shared libraries: libg2c.so.0: cannot open shared object file: No such file or directory\n",
      "\n",
      "\n",
      "!! Can not find file ../structures/korkin_lab/IndividualModels/wNsp9-3ee7.pdb_m !!\n",
      "\n",
      "error: need to have create_lig executable linked or copied to current directory\n"
     ]
    },
    {
     "name": "stderr",
     "output_type": "stream",
     "text": [
      " 90%|████████▉ | 78/87 [00:13<00:01,  6.37it/s]"
     ]
    },
    {
     "name": "stdout",
     "output_type": "stream",
     "text": [
      "/home/arj39/zdock3.0.2_linux_x64/mark_sur: error while loading shared libraries: libg2c.so.0: cannot open shared object file: No such file or directory\n",
      "/home/arj39/zdock3.0.2_linux_x64/mark_sur: error while loading shared libraries: libg2c.so.0: cannot open shared object file: No such file or directory\n",
      "\n",
      "\n",
      "!! Can not find file ../structures/korkin_lab/IndividualModels/wNsp9-3ee7.pdb_m !!\n",
      "\n",
      "error: need to have create_lig executable linked or copied to current directory\n"
     ]
    },
    {
     "name": "stderr",
     "output_type": "stream",
     "text": [
      " 91%|█████████ | 79/87 [00:13<00:01,  6.65it/s]"
     ]
    },
    {
     "name": "stdout",
     "output_type": "stream",
     "text": [
      "/home/arj39/zdock3.0.2_linux_x64/mark_sur: error while loading shared libraries: libg2c.so.0: cannot open shared object file: No such file or directory\n",
      "/home/arj39/zdock3.0.2_linux_x64/mark_sur: error while loading shared libraries: libg2c.so.0: cannot open shared object file: No such file or directory\n",
      "\n",
      "\n",
      "!! Can not find file ../structures/korkin_lab/IndividualModels/wNsp9-3ee7.pdb_m !!\n",
      "\n",
      "error: need to have create_lig executable linked or copied to current directory\n"
     ]
    },
    {
     "name": "stderr",
     "output_type": "stream",
     "text": [
      " 92%|█████████▏| 80/87 [00:13<00:01,  6.85it/s]"
     ]
    },
    {
     "name": "stdout",
     "output_type": "stream",
     "text": [
      "/home/arj39/zdock3.0.2_linux_x64/mark_sur: error while loading shared libraries: libg2c.so.0: cannot open shared object file: No such file or directory\n",
      "/home/arj39/zdock3.0.2_linux_x64/mark_sur: error while loading shared libraries: libg2c.so.0: cannot open shared object file: No such file or directory\n",
      "\n",
      "\n",
      "!! Can not find file ../structures/korkin_lab/IndividualModels/wNsp9-3ee7.pdb_m !!\n",
      "\n",
      "error: need to have create_lig executable linked or copied to current directory\n"
     ]
    },
    {
     "name": "stderr",
     "output_type": "stream",
     "text": [
      " 93%|█████████▎| 81/87 [00:13<00:00,  6.68it/s]"
     ]
    },
    {
     "name": "stdout",
     "output_type": "stream",
     "text": [
      "/home/arj39/zdock3.0.2_linux_x64/mark_sur: error while loading shared libraries: libg2c.so.0: cannot open shared object file: No such file or directory\n",
      "/home/arj39/zdock3.0.2_linux_x64/mark_sur: error while loading shared libraries: libg2c.so.0: cannot open shared object file: No such file or directory\n",
      "\n",
      "\n",
      "!! Can not find file ../structures/korkin_lab/IndividualModels/wNsp9-3ee7.pdb_m !!\n",
      "\n",
      "error: need to have create_lig executable linked or copied to current directory\n"
     ]
    },
    {
     "name": "stderr",
     "output_type": "stream",
     "text": [
      " 94%|█████████▍| 82/87 [00:13<00:00,  6.87it/s]"
     ]
    },
    {
     "name": "stdout",
     "output_type": "stream",
     "text": [
      "/home/arj39/zdock3.0.2_linux_x64/mark_sur: error while loading shared libraries: libg2c.so.0: cannot open shared object file: No such file or directory\n",
      "/home/arj39/zdock3.0.2_linux_x64/mark_sur: error while loading shared libraries: libg2c.so.0: cannot open shared object file: No such file or directory\n",
      "\n",
      "\n",
      "!! Can not find file ../structures/korkin_lab/IndividualModels/wNsp9-3ee7.pdb_m !!\n",
      "\n",
      "error: need to have create_lig executable linked or copied to current directory\n"
     ]
    },
    {
     "name": "stderr",
     "output_type": "stream",
     "text": [
      " 95%|█████████▌| 83/87 [00:13<00:00,  6.66it/s]"
     ]
    },
    {
     "name": "stdout",
     "output_type": "stream",
     "text": [
      "/home/arj39/zdock3.0.2_linux_x64/mark_sur: error while loading shared libraries: libg2c.so.0: cannot open shared object file: No such file or directory\n",
      "/home/arj39/zdock3.0.2_linux_x64/mark_sur: error while loading shared libraries: libg2c.so.0: cannot open shared object file: No such file or directory\n",
      "\n",
      "\n",
      "!! Can not find file ../structures/korkin_lab/IndividualModels/wNsp9-3ee7.pdb_m !!\n",
      "\n",
      "error: need to have create_lig executable linked or copied to current directory\n"
     ]
    },
    {
     "name": "stderr",
     "output_type": "stream",
     "text": [
      " 97%|█████████▋| 84/87 [00:13<00:00,  6.74it/s]"
     ]
    },
    {
     "name": "stdout",
     "output_type": "stream",
     "text": [
      "/home/arj39/zdock3.0.2_linux_x64/mark_sur: error while loading shared libraries: libg2c.so.0: cannot open shared object file: No such file or directory\n",
      "/home/arj39/zdock3.0.2_linux_x64/mark_sur: error while loading shared libraries: libg2c.so.0: cannot open shared object file: No such file or directory\n",
      "\n",
      "\n",
      "!! Can not find file ../structures/korkin_lab/IndividualModels/wNsp9-3ee7.pdb_m !!\n",
      "\n",
      "error: need to have create_lig executable linked or copied to current directory\n"
     ]
    },
    {
     "name": "stderr",
     "output_type": "stream",
     "text": [
      " 98%|█████████▊| 85/87 [00:14<00:00,  7.22it/s]"
     ]
    },
    {
     "name": "stdout",
     "output_type": "stream",
     "text": [
      "/home/arj39/zdock3.0.2_linux_x64/mark_sur: error while loading shared libraries: libg2c.so.0: cannot open shared object file: No such file or directory\n",
      "/home/arj39/zdock3.0.2_linux_x64/mark_sur: error while loading shared libraries: libg2c.so.0: cannot open shared object file: No such file or directory\n",
      "\n",
      "\n",
      "!! Can not find file ../structures/korkin_lab/IndividualModels/wNsp9-3ee7.pdb_m !!\n",
      "\n",
      "error: need to have create_lig executable linked or copied to current directory\n"
     ]
    },
    {
     "name": "stderr",
     "output_type": "stream",
     "text": [
      " 99%|█████████▉| 86/87 [00:14<00:00,  6.92it/s]"
     ]
    },
    {
     "name": "stdout",
     "output_type": "stream",
     "text": [
      "/home/arj39/zdock3.0.2_linux_x64/mark_sur: error while loading shared libraries: libg2c.so.0: cannot open shared object file: No such file or directory\n",
      "/home/arj39/zdock3.0.2_linux_x64/mark_sur: error while loading shared libraries: libg2c.so.0: cannot open shared object file: No such file or directory\n",
      "\n",
      "\n",
      "!! Can not find file ../structures/korkin_lab/IndividualModels/wNsp9-3ee7.pdb_m !!\n",
      "\n",
      "error: need to have create_lig executable linked or copied to current directory\n"
     ]
    },
    {
     "name": "stderr",
     "output_type": "stream",
     "text": [
      "100%|██████████| 87/87 [00:14<00:00,  6.04it/s]\n"
     ]
    }
   ],
   "source": [
    "run_zdock(interaction_df=interactions_with_available_structures, \n",
    "         human_protein_df=g.df_pdb_ranking,\n",
    "         sars_mapping_dict=korkin_dict,\n",
    "         sars_structure_path=sars_structure_path\n",
    "         )"
   ]
  },
  {
   "cell_type": "code",
   "execution_count": 1,
   "metadata": {},
   "outputs": [
    {
     "name": "stdout",
     "output_type": "stream",
     "text": [
      "\n"
     ]
    }
   ],
   "source": [
    "!echo $LD_LIBRARY_PATH"
   ]
  },
  {
   "cell_type": "code",
   "execution_count": null,
   "metadata": {},
   "outputs": [],
   "source": []
  }
 ],
 "metadata": {
  "kernelspec": {
   "display_name": "Python 3",
   "language": "python",
   "name": "python3"
  },
  "language_info": {
   "codemirror_mode": {
    "name": "ipython",
    "version": 3
   },
   "file_extension": ".py",
   "mimetype": "text/x-python",
   "name": "python",
   "nbconvert_exporter": "python",
   "pygments_lexer": "ipython3",
   "version": "3.8.2"
  }
 },
 "nbformat": 4,
 "nbformat_minor": 4
}
